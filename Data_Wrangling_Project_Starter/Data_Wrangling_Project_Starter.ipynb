{
 "cells": [
  {
   "cell_type": "markdown",
   "metadata": {
    "id": "GNIwe5N7s0e_"
   },
   "source": [
    "# Real-world Data Wrangling"
   ]
  },
  {
   "cell_type": "markdown",
   "metadata": {
    "id": "_BG63Tpg8ep_"
   },
   "source": [
    "In this project, you will apply the skills you acquired in the course to gather and wrangle real-world data with two datasets of your choice.\n",
    "\n",
    "You will retrieve and extract the data, assess the data programmatically and visually, accross elements of data quality and structure, and implement a cleaning strategy for the data. You will then store the updated data into your selected database/data store, combine the data, and answer a research question with the datasets.\n",
    "\n",
    "Throughout the process, you are expected to:\n",
    "\n",
    "1. Explain your decisions towards methods used for gathering, assessing, cleaning, storing, and answering the research question\n",
    "2. Write code comments so your code is more readable"
   ]
  },
  {
   "cell_type": "markdown",
   "metadata": {
    "id": "lDYDkH-Zs7Nn"
   },
   "source": [
    "## 1. Gather data\n",
    "\n",
    "In this section, you will extract data using two different data gathering methods and combine the data. Use at least two different types of data-gathering methods."
   ]
  },
  {
   "cell_type": "markdown",
   "metadata": {
    "id": "LbN7z7rcuqpO"
   },
   "source": [
    "### **1.1.** Problem Statement\n",
    "In 2-4 sentences, explain the kind of problem you want to look at and the datasets you will be wrangling for this project."
   ]
  },
  {
   "cell_type": "markdown",
   "metadata": {
    "id": "gi6swhjSYqu2"
   },
   "source": [
    "#### Question1：What percentage of votes were cast in each film genre in the top 500 films? What percentage of votes were cast for horror films?\n",
    "#### Question2:  How many votes were cast for horror films compared to the year? The growth rate?\n",
    "#### Question3: What factors influence votes in horror movies?"
   ]
  },
  {
   "cell_type": "markdown",
   "metadata": {
    "id": "8AQfBAdUypMm"
   },
   "source": [
    "### **1.2.** Gather at least two datasets using two different data gathering methods\n",
    "\n",
    "List of data gathering methods:\n",
    "\n",
    "- Download data manually\n",
    "- Programmatically downloading files\n",
    "- Gather data by accessing APIs\n",
    "- Gather and extract data from HTML files using BeautifulSoup\n",
    "- Extract data from a SQL database\n",
    "\n",
    "Each dataset must have at least two variables, and have greater than 500 data samples within each dataset.\n",
    "\n",
    "For each dataset, briefly describe why you picked the dataset and the gathering method (2-3 full sentences), including the names and significance of the variables in the dataset. Show your work (e.g., if using an API to download the data, please include a snippet of your code). \n",
    "\n",
    "Load the dataset programmtically into this notebook."
   ]
  },
  {
   "cell_type": "markdown",
   "metadata": {
    "id": "7e6gS0wL1KTu"
   },
   "source": [
    "#### **Dataset 1** （Get data on the top 1000 movies at www.imdb.com ）\n",
    "\n",
    "Type: CSV\n",
    "\n",
    "Method: Use BeautifulSoup to collect and extract data from HTML files\n",
    "\n",
    "Dataset variables:\n",
    "\n",
    "*   __*Movie Title:*__ Name of the movie\n",
    "*   __*Movie Year:*__ Make Year of the movie\n",
    "*   __*Genre:*__ Genre of the movie\n",
    "*   __*Rating:*__ Rating of the movie\n",
    "*   __*Director:*__ Name of the director\n",
    "*   __*Votes:*__ Number of votes of the movie"
   ]
  },
  {
   "cell_type": "code",
   "execution_count": 2,
   "metadata": {
    "id": "Su8E0uLuYkHU"
   },
   "outputs": [],
   "source": [
    "import matplotlib.pyplot as plt\n",
    "import seaborn as sns\n",
    "import numpy as np\n",
    "%matplotlib inline\n",
    "\n",
    "import warnings\n",
    "warnings.filterwarnings('ignore')\n",
    "\n",
    "from bs4 import BeautifulSoup\n",
    "import pandas as pd\n",
    "import requests\n",
    "import time\n",
    "import re\n"
   ]
  },
  {
   "cell_type": "code",
   "execution_count": 3,
   "metadata": {},
   "outputs": [],
   "source": [
    "# IMDB 250 pages per page, so take the first 4 pages of data\n",
    "urls = ['https://www.imdb.com/search/title/?groups=top_1000&sort=user_rating,desc&count=250&start=1&ref_=adv_nxt',\n",
    "       'https://www.imdb.com/search/title/?groups=top_1000&sort=user_rating,desc&count=250&start=251&ref_=adv_nxt']"
   ]
  },
  {
   "cell_type": "code",
   "execution_count": 4,
   "metadata": {},
   "outputs": [],
   "source": [
    "# Define the field name based on the property\n",
    "movie_name=[]\n",
    "movie_year=[]\n",
    "movie_genre=[]\n",
    "movie_rating=[]\n",
    "movie_votes=[]\n",
    "movie_director=[]"
   ]
  },
  {
   "cell_type": "code",
   "execution_count": 23,
   "metadata": {},
   "outputs": [],
   "source": [
    "# Encapsulate the result of BeautifulSoup\n",
    "def htmlContent(url,head):\n",
    "    response = requests.get(url,headers=head,verify=False)\n",
    "    content = BeautifulSoup(response.content,'html.parser')\n",
    "    return content"
   ]
  },
  {
   "cell_type": "code",
   "execution_count": 69,
   "metadata": {},
   "outputs": [
    {
     "name": "stdout",
     "output_type": "stream",
     "text": [
      "detail_url:https://www.imdb.com/title/tt0111161/?ref_=sr_i_1,name:The Shawshank Redemption,year:1994,rating:9.3,genre:Drama/,votes:2823006,director:Frank Darabont\n",
      "detail_url:https://www.imdb.com/title/tt0068646/?ref_=sr_i_2,name:The Godfather,year:1972,rating:9.2,genre:Drama/Crime/,votes:1967702,director:Francis Ford Coppola\n",
      "detail_url:https://www.imdb.com/title/tt0468569/?ref_=sr_i_3,name:The Dark Knight,year:2008,rating:9.0,genre:Drama/Crime/Action/,votes:2804534,director:Christopher Nolan\n",
      "detail_url:https://www.imdb.com/title/tt0108052/?ref_=sr_i_4,name:Schindler's List,year:1993,rating:9.0,genre:History/Drama/Biography/,votes:1418899,director:Steven Spielberg\n",
      "detail_url:https://www.imdb.com/title/tt0071562/?ref_=sr_i_5,name:The Godfather Part II,year:1974,rating:9.0,genre:Drama/Crime/,votes:1335658,director:Francis Ford Coppola\n",
      "detail_url:https://www.imdb.com/title/tt0167260/?ref_=sr_i_6,name:The Lord of the Rings: The Return of the King,year:2003,rating:9.0,genre:Drama/Adventure/Action/,votes:1933086,director:Peter Jackson\n",
      "detail_url:https://www.imdb.com/title/tt0050083/?ref_=sr_i_7,name:12 Angry Men,year:1957,rating:9.0,genre:Drama/Crime/,votes:841634,director:Sidney Lumet\n",
      "detail_url:https://www.imdb.com/title/tt0110912/?ref_=sr_i_8,name:Pulp Fiction,year:1994,rating:8.9,genre:Drama/Crime/,votes:2164808,director:Quentin Tarantino\n",
      "detail_url:https://www.imdb.com/title/tt0137523/?ref_=sr_i_9,name:Fight Club,year:1999,rating:8.8,genre:Drama/,votes:2258438,director:David Fincher\n",
      "detail_url:https://www.imdb.com/title/tt1375666/?ref_=sr_i_10,name:Inception,year:2010,rating:8.8,genre:Sci-Fi/Adventure/Action/,votes:2489331,director:Christopher Nolan\n",
      "detail_url:https://www.imdb.com/title/tt0120737/?ref_=sr_i_11,name:The Lord of the Rings: The Fellowship of the Ring,year:2001,rating:8.8,genre:Drama/Adventure/Action/,votes:1959993,director:Peter Jackson\n",
      "detail_url:https://www.imdb.com/title/tt0109830/?ref_=sr_i_12,name:Forrest Gump,year:1994,rating:8.8,genre:Romance/Drama/,votes:2199063,director:Robert Zemeckis\n",
      "detail_url:https://www.imdb.com/title/tt0060196/?ref_=sr_i_13,name:The Good, the Bad and the Ugly,year:1966,rating:8.8,genre:Western/Adventure/,votes:795325,director:Sergio Leone\n",
      "detail_url:https://www.imdb.com/title/tt0167261/?ref_=sr_i_14,name:The Lord of the Rings: The Two Towers,year:2002,rating:8.8,genre:Drama/Adventure/Action/,votes:1743074,director:Peter Jackson\n",
      "detail_url:https://www.imdb.com/title/tt15097216/?ref_=sr_i_15,name:Jai Bhim,year:2021,rating:8.8,genre:Mystery/Drama/Crime/,votes:212540,director:T.J. Gnanavel\n",
      "detail_url:https://www.imdb.com/title/tt7466810/?ref_=sr_i_16,name:777 Charlie,year:2022,rating:8.8,genre:Drama/Comedy/Adventure/,votes:37524,director:Kiranraj K\n",
      "detail_url:https://www.imdb.com/title/tt9362722/?ref_=sr_i_17,name:Spider-Man: Across the Spider-Verse,year:2023,rating:8.7,genre:Adventure/Action/Animation/,votes:301353,director:Joaquim Dos Santos\n",
      "detail_url:https://www.imdb.com/title/tt0816692/?ref_=sr_i_18,name:Interstellar,year:2014,rating:8.7,genre:Sci-Fi/Drama/Adventure/,votes:2016334,director:Christopher Nolan\n",
      "detail_url:https://www.imdb.com/title/tt0099685/?ref_=sr_i_19,name:Goodfellas,year:1990,rating:8.7,genre:Drama/Crime/Biography/,votes:1226632,director:Martin Scorsese\n",
      "detail_url:https://www.imdb.com/title/tt0133093/?ref_=sr_i_20,name:The Matrix,year:1999,rating:8.7,genre:Sci-Fi/Action/,votes:2006886,director:Lana Wachowski\n",
      "detail_url:https://www.imdb.com/title/tt0073486/?ref_=sr_i_21,name:One Flew Over the Cuckoo's Nest,year:1975,rating:8.7,genre:Drama/,votes:1050981,director:Milos Forman\n",
      "detail_url:https://www.imdb.com/title/tt0080684/?ref_=sr_i_22,name:Star Wars: Episode V - The Empire Strikes Back,year:1980,rating:8.7,genre:Fantasy/Adventure/Action/,votes:1352236,director:Irvin Kershner\n",
      "detail_url:https://www.imdb.com/title/tt10189514/?ref_=sr_i_23,name:Soorarai Pottru,year:2020,rating:8.7,genre:Drama/Action/,votes:121784,director:Sudha Kongara\n",
      "detail_url:https://www.imdb.com/title/tt9263550/?ref_=sr_i_24,name:Rocketry: The Nambi Effect,year:2022,rating:8.7,genre:Drama/Biography/,votes:56180,director:Madhavan\n",
      "detail_url:https://www.imdb.com/title/tt0114369/?ref_=sr_i_25,name:Se7en,year:1995,rating:8.6,genre:Mystery/Drama/Crime/,votes:1751643,director:David Fincher\n",
      "detail_url:https://www.imdb.com/title/tt0102926/?ref_=sr_i_26,name:The Silence of the Lambs,year:1991,rating:8.6,genre:Thriller/Drama/Crime/,votes:1509890,director:Jonathan Demme\n",
      "detail_url:https://www.imdb.com/title/tt0120815/?ref_=sr_i_27,name:Saving Private Ryan,year:1998,rating:8.6,genre:War/Drama/,votes:1462678,director:Steven Spielberg\n",
      "detail_url:https://www.imdb.com/title/tt0245429/?ref_=sr_i_28,name:Spirited Away,year:2001,rating:8.6,genre:Family/Adventure/Animation/,votes:819834,director:Hayao Miyazaki\n",
      "detail_url:https://www.imdb.com/title/tt0038650/?ref_=sr_i_29,name:It's a Wonderful Life,year:1946,rating:8.6,genre:Fantasy/Family/Drama/,votes:482871,director:Frank Capra\n",
      "detail_url:https://www.imdb.com/title/tt0120689/?ref_=sr_i_30,name:The Green Mile,year:1999,rating:8.6,genre:Fantasy/Drama/Crime/,votes:1373284,director:Frank Darabont\n",
      "detail_url:https://www.imdb.com/title/tt0076759/?ref_=sr_i_31,name:Star Wars: Episode IV - A New Hope,year:1977,rating:8.6,genre:Fantasy/Adventure/Action/,votes:1423286,director:George Lucas\n",
      "detail_url:https://www.imdb.com/title/tt0317248/?ref_=sr_i_32,name:City of God,year:2002,rating:8.6,genre:Drama/Crime/,votes:786905,director:Fernando Meirelles\n",
      "detail_url:https://www.imdb.com/title/tt0103064/?ref_=sr_i_33,name:Terminator 2: Judgment Day,year:1991,rating:8.6,genre:Sci-Fi/Action/,votes:1150456,director:James Cameron\n",
      "detail_url:https://www.imdb.com/title/tt0118799/?ref_=sr_i_34,name:Life Is Beautiful,year:1997,rating:8.6,genre:Romance/Drama/Comedy/,votes:728178,director:Roberto Benigni\n",
      "detail_url:https://www.imdb.com/title/tt0047478/?ref_=sr_i_35,name:Seven Samurai,year:1954,rating:8.6,genre:Drama/Action/,votes:360449,director:Akira Kurosawa\n",
      "detail_url:https://www.imdb.com/title/tt0056058/?ref_=sr_i_36,name:Harakiri,year:1962,rating:8.6,genre:Mystery/Drama/Action/,votes:65131,director:Masaki Kobayashi\n",
      "detail_url:https://www.imdb.com/title/tt20850406/?ref_=sr_i_37,name:Sita Ramam,year:2022,rating:8.6,genre:Mystery/Drama/Action/,votes:64217,director:Hanu Raghavapudi\n",
      "detail_url:https://www.imdb.com/title/tt15398776/?ref_=sr_i_38,name:Oppenheimer,year:2023,rating:8.5,genre:History/Drama/Biography/,votes:516177,director:Christopher Nolan\n",
      "detail_url:https://www.imdb.com/title/tt0172495/?ref_=sr_i_39,name:Gladiator,year:2000,rating:8.5,genre:Drama/Adventure/Action/,votes:1577721,director:Ridley Scott\n",
      "detail_url:https://www.imdb.com/title/tt2582802/?ref_=sr_i_40,name:Whiplash,year:2014,rating:8.5,genre:Music/Drama/,votes:946936,director:Damien Chazelle\n",
      "detail_url:https://www.imdb.com/title/tt6751668/?ref_=sr_i_41,name:Parasite,year:2019,rating:8.5,genre:Thriller/Drama/,votes:904826,director:Bong Joon Ho\n",
      "detail_url:https://www.imdb.com/title/tt0407887/?ref_=sr_i_42,name:The Departed,year:2006,rating:8.5,genre:Thriller/Drama/Crime/,votes:1392065,director:Martin Scorsese\n",
      "detail_url:https://www.imdb.com/title/tt1853728/?ref_=sr_i_43,name:Django Unchained,year:2012,rating:8.5,genre:Western/Drama/,votes:1651159,director:Quentin Tarantino\n",
      "detail_url:https://www.imdb.com/title/tt0078748/?ref_=sr_i_44,name:Alien,year:1979,rating:8.5,genre:Sci-Fi/Horror/,votes:928296,director:Ridley Scott\n",
      "detail_url:https://www.imdb.com/title/tt0482571/?ref_=sr_i_45,name:The Prestige,year:2006,rating:8.5,genre:Sci-Fi/Mystery/Drama/,votes:1408764,director:Christopher Nolan\n",
      "detail_url:https://www.imdb.com/title/tt0088763/?ref_=sr_i_46,name:Back to the Future,year:1985,rating:8.5,genre:Sci-Fi/Comedy/Adventure/,votes:1275302,director:Robert Zemeckis\n",
      "detail_url:https://www.imdb.com/title/tt0110413/?ref_=sr_i_47,name:Léon: The Professional,year:1994,rating:8.5,genre:Drama/Crime/Action/,votes:1218787,director:Luc Besson\n",
      "detail_url:https://www.imdb.com/title/tt0114814/?ref_=sr_i_48,name:The Usual Suspects,year:1995,rating:8.5,genre:Mystery/Drama/Crime/,votes:1126264,director:Bryan Singer\n",
      "detail_url:https://www.imdb.com/title/tt0110357/?ref_=sr_i_49,name:The Lion King,year:1994,rating:8.5,genre:Drama/Adventure/Animation/,votes:1115713,director:Roger Allers\n"
     ]
    },
    {
     "name": "stdout",
     "output_type": "stream",
     "text": [
      "detail_url:https://www.imdb.com/title/tt0120586/?ref_=sr_i_50,name:American History X,year:1998,rating:8.5,genre:Drama/Crime/,votes:1166461,director:Tony Kaye\n",
      "detail_url:https://www.imdb.com/title/tt1675434/?ref_=sr_i_51,name:The Intouchables,year:2011,rating:8.5,genre:Drama/Comedy/Biography/,votes:906828,director:Olivier Nakache\n",
      "detail_url:https://www.imdb.com/title/tt0253474/?ref_=sr_i_52,name:The Pianist,year:2002,rating:8.5,genre:Music/Drama/Biography/,votes:887445,director:Roman Polanski\n",
      "detail_url:https://www.imdb.com/title/tt0054215/?ref_=sr_i_53,name:Psycho,year:1960,rating:8.5,genre:Thriller/Mystery/Horror/,votes:705122,director:Alfred Hitchcock\n",
      "detail_url:https://www.imdb.com/title/tt0034583/?ref_=sr_i_54,name:Casablanca,year:1942,rating:8.5,genre:War/Romance/Drama/,votes:595644,director:Michael Curtiz\n",
      "detail_url:https://www.imdb.com/title/tt0064116/?ref_=sr_i_55,name:Once Upon a Time in the West,year:1968,rating:8.5,genre:Western/,votes:343730,director:Sergio Leone\n",
      "detail_url:https://www.imdb.com/title/tt0095327/?ref_=sr_i_56,name:Grave of the Fireflies,year:1988,rating:8.5,genre:War/Drama/Animation/,votes:299495,director:Isao Takahata\n",
      "detail_url:https://www.imdb.com/title/tt0047396/?ref_=sr_i_57,name:Rear Window,year:1954,rating:8.5,genre:Thriller/Mystery/,votes:512593,director:Alfred Hitchcock\n",
      "detail_url:https://www.imdb.com/title/tt0095765/?ref_=sr_i_58,name:Cinema Paradiso,year:1988,rating:8.5,genre:Romance/Drama/,votes:276341,director:Giuseppe Tornatore\n",
      "detail_url:https://www.imdb.com/title/tt0027977/?ref_=sr_i_59,name:Modern Times,year:1936,rating:8.5,genre:Romance/Drama/Comedy/,votes:254497,director:Charles Chaplin\n",
      "detail_url:https://www.imdb.com/title/tt0021749/?ref_=sr_i_60,name:City Lights,year:1931,rating:8.5,genre:Romance/Drama/Comedy/,votes:192669,director:Charles Chaplin\n",
      "detail_url:https://www.imdb.com/title/tt9900782/?ref_=sr_i_61,name:Kaithi,year:2019,rating:8.5,genre:Thriller/Crime/Action/,votes:40129,director:Lokesh Kanagaraj\n",
      "detail_url:https://www.imdb.com/title/tt7019842/?ref_=sr_i_62,name:96,year:2018,rating:8.5,genre:Romance/Drama/,votes:34997,director:C. Prem Kumar\n",
      "detail_url:https://www.imdb.com/title/tt0361748/?ref_=sr_i_63,name:Inglourious Basterds,year:2009,rating:8.4,genre:War/Drama/Adventure/,votes:1540549,director:Quentin Tarantino\n",
      "detail_url:https://www.imdb.com/title/tt4154796/?ref_=sr_i_64,name:Avengers: Endgame,year:2019,rating:8.4,genre:Drama/Adventure/Action/,votes:1228232,director:Anthony Russo\n",
      "detail_url:https://www.imdb.com/title/tt4633694/?ref_=sr_i_65,name:Spider-Man: Into the Spider-Verse,year:2018,rating:8.4,genre:Adventure/Action/Animation/,votes:641726,director:Bob Persichetti\n",
      "detail_url:https://www.imdb.com/title/tt7286456/?ref_=sr_i_66,name:Joker,year:2019,rating:8.4,genre:Thriller/Drama/Crime/,votes:1423347,director:Todd Phillips\n",
      "detail_url:https://www.imdb.com/title/tt0081505/?ref_=sr_i_67,name:The Shining,year:1980,rating:8.4,genre:Horror/Drama/,votes:1082477,director:Stanley Kubrick\n",
      "detail_url:https://www.imdb.com/title/tt0090605/?ref_=sr_i_68,name:Aliens,year:1986,rating:8.4,genre:Sci-Fi/Adventure/Action/,votes:748694,director:James Cameron\n",
      "detail_url:https://www.imdb.com/title/tt0091251/?ref_=sr_i_69,name:Come and See,year:1985,rating:8.4,genre:War/Thriller/Drama/,votes:91939,director:Elem Klimov\n",
      "detail_url:https://www.imdb.com/title/tt4154756/?ref_=sr_i_70,name:Avengers: Infinity War,year:2018,rating:8.4,genre:Sci-Fi/Adventure/Action/,votes:1168139,director:Anthony Russo\n",
      "detail_url:https://www.imdb.com/title/tt0078788/?ref_=sr_i_71,name:Apocalypse Now,year:1979,rating:8.4,genre:War/Mystery/Drama/,votes:696881,director:Francis Ford Coppola\n",
      "detail_url:https://www.imdb.com/title/tt0364569/?ref_=sr_i_72,name:Oldboy,year:2003,rating:8.4,genre:Mystery/Drama/Action/,votes:617472,director:Park Chan-wook\n",
      "detail_url:https://www.imdb.com/title/tt1345836/?ref_=sr_i_73,name:The Dark Knight Rises,year:2012,rating:8.4,genre:Thriller/Drama/Action/,votes:1789089,director:Christopher Nolan\n",
      "detail_url:https://www.imdb.com/title/tt0209144/?ref_=sr_i_74,name:Memento,year:2000,rating:8.4,genre:Thriller/Mystery/,votes:1296794,director:Christopher Nolan\n",
      "detail_url:https://www.imdb.com/title/tt2380307/?ref_=sr_i_75,name:Coco,year:2017,rating:8.4,genre:Drama/Adventure/Animation/,votes:565497,director:Lee Unkrich\n",
      "detail_url:https://www.imdb.com/title/tt0086879/?ref_=sr_i_76,name:Amadeus,year:1984,rating:8.4,genre:Music/Drama/Biography/,votes:420127,director:Milos Forman\n",
      "detail_url:https://www.imdb.com/title/tt0082971/?ref_=sr_i_77,name:Raiders of the Lost Ark,year:1981,rating:8.4,genre:Adventure/Action/,votes:1019253,director:Steven Spielberg\n",
      "detail_url:https://www.imdb.com/title/tt5311514/?ref_=sr_i_78,name:Your Name.,year:2016,rating:8.4,genre:Fantasy/Drama/Animation/,votes:304365,director:Makoto Shinkai\n",
      "detail_url:https://www.imdb.com/title/tt0910970/?ref_=sr_i_79,name:WALL·E,year:2008,rating:8.4,genre:Family/Adventure/Animation/,votes:1173870,director:Andrew Stanton\n",
      "detail_url:https://www.imdb.com/title/tt0057012/?ref_=sr_i_80,name:Dr. Strangelove or: How I Learned to Stop Worrying and Love the Bomb,year:1964,rating:8.4,genre:War/Comedy/,votes:509753,director:Stanley Kubrick\n",
      "detail_url:https://www.imdb.com/title/tt1187043/?ref_=sr_i_81,name:3 Idiots,year:2009,rating:8.4,genre:Drama/Comedy/,votes:422049,director:Rajkumar Hirani\n",
      "detail_url:https://www.imdb.com/title/tt0405094/?ref_=sr_i_82,name:The Lives of Others,year:2006,rating:8.4,genre:Thriller/Mystery/Drama/,votes:403821,director:Florian Henckel von Donnersmarck\n",
      "detail_url:https://www.imdb.com/title/tt8267604/?ref_=sr_i_83,name:Capernaum,year:2018,rating:8.4,genre:Drama/,votes:100893,director:Nadine Labaki\n",
      "detail_url:https://www.imdb.com/title/tt0082096/?ref_=sr_i_84,name:Das Boot,year:1981,rating:8.4,genre:War/Drama/,votes:260386,director:Wolfgang Petersen\n",
      "detail_url:https://www.imdb.com/title/tt0043014/?ref_=sr_i_85,name:Sunset Blvd.,year:1950,rating:8.4,genre:Film-Noir/Drama/,votes:232195,director:Billy Wilder\n",
      "detail_url:https://www.imdb.com/title/tt0050825/?ref_=sr_i_86,name:Paths of Glory,year:1957,rating:8.4,genre:War/Drama/,votes:208022,director:Stanley Kubrick\n",
      "detail_url:https://www.imdb.com/title/tt0051201/?ref_=sr_i_87,name:Witness for the Prosecution,year:1957,rating:8.4,genre:Mystery/Drama/Crime/,votes:133853,director:Billy Wilder\n",
      "detail_url:https://www.imdb.com/title/tt0032553/?ref_=sr_i_88,name:The Great Dictator,year:1940,rating:8.4,genre:War/Drama/Comedy/,votes:233637,director:Charles Chaplin\n",
      "detail_url:https://www.imdb.com/title/tt0057565/?ref_=sr_i_89,name:High and Low,year:1963,rating:8.4,genre:Mystery/Drama/Crime/,votes:50701,director:Akira Kurosawa\n",
      "detail_url:https://www.imdb.com/title/tt10280296/?ref_=sr_i_90,name:Sardar Udham,year:2021,rating:8.4,genre:Drama/Crime/Biography/,votes:45759,director:Shoojit Sircar\n",
      "detail_url:https://www.imdb.com/title/tt9477520/?ref_=sr_i_91,name:Asuran,year:2019,rating:8.4,genre:Drama/Action/,votes:32501,director:Vetrimaaran\n",
      "detail_url:https://www.imdb.com/title/tt12361178/?ref_=sr_i_92,name:Drishyam 2,year:2021,rating:8.4,genre:Thriller/Drama/Crime/,votes:39993,director:Jeethu Joseph\n",
      "detail_url:https://www.imdb.com/title/tt1745960/?ref_=sr_i_93,name:Top Gun: Maverick,year:2022,rating:8.3,genre:Drama/Action/,votes:642650,director:Joseph Kosinski\n",
      "detail_url:https://www.imdb.com/title/tt0169547/?ref_=sr_i_94,name:American Beauty,year:1999,rating:8.3,genre:Drama/,votes:1193003,director:Sam Mendes\n",
      "detail_url:https://www.imdb.com/title/tt0113277/?ref_=sr_i_95,name:Heat,year:1995,rating:8.3,genre:Drama/Crime/Action/,votes:700198,director:Michael Mann\n",
      "detail_url:https://www.imdb.com/title/tt0086250/?ref_=sr_i_96,name:Scarface,year:1983,rating:8.3,genre:Drama/Crime/,votes:893576,director:Brian De Palma\n",
      "detail_url:https://www.imdb.com/title/tt0180093/?ref_=sr_i_97,name:Requiem for a Dream,year:2000,rating:8.3,genre:Drama/,votes:881463,director:Darren Aronofsky\n",
      "detail_url:https://www.imdb.com/title/tt0338013/?ref_=sr_i_98,name:Eternal Sunshine of the Spotless Mind,year:2004,rating:8.3,genre:Sci-Fi/Romance/Drama/,votes:1054260,director:Michel Gondry\n",
      "detail_url:https://www.imdb.com/title/tt0119217/?ref_=sr_i_99,name:Good Will Hunting,year:1997,rating:8.3,genre:Romance/Drama/,votes:1031758,director:Gus Van Sant\n"
     ]
    },
    {
     "name": "stdout",
     "output_type": "stream",
     "text": [
      "detail_url:https://www.imdb.com/title/tt0062622/?ref_=sr_i_100,name:2001: A Space Odyssey,year:1968,rating:8.3,genre:Sci-Fi/Adventure/,votes:704122,director:Stanley Kubrick\n",
      "detail_url:https://www.imdb.com/title/tt0112573/?ref_=sr_i_101,name:Braveheart,year:1995,rating:8.3,genre:History/Drama/Biography/,votes:1074733,director:Mel Gibson\n",
      "detail_url:https://www.imdb.com/title/tt0066921/?ref_=sr_i_102,name:A Clockwork Orange,year:1971,rating:8.3,genre:Sci-Fi/Crime/,votes:865750,director:Stanley Kubrick\n",
      "detail_url:https://www.imdb.com/title/tt0093058/?ref_=sr_i_103,name:Full Metal Jacket,year:1987,rating:8.3,genre:War/Drama/,votes:775575,director:Stanley Kubrick\n",
      "detail_url:https://www.imdb.com/title/tt1049413/?ref_=sr_i_104,name:Up,year:2009,rating:8.3,genre:Comedy/Adventure/Animation/,votes:1099613,director:Pete Docter\n",
      "detail_url:https://www.imdb.com/title/tt0087843/?ref_=sr_i_105,name:Once Upon a Time in America,year:1984,rating:8.3,genre:Drama/Crime/,votes:369908,director:Sergio Leone\n",
      "detail_url:https://www.imdb.com/title/tt2106476/?ref_=sr_i_106,name:The Hunt,year:2012,rating:8.3,genre:Drama/,votes:353861,director:Thomas Vinterberg\n",
      "detail_url:https://www.imdb.com/title/tt0114709/?ref_=sr_i_107,name:Toy Story,year:1995,rating:8.3,genre:Comedy/Adventure/Animation/,votes:1046003,director:John Lasseter\n",
      "detail_url:https://www.imdb.com/title/tt0105236/?ref_=sr_i_108,name:Reservoir Dogs,year:1992,rating:8.3,genre:Thriller/Crime/,votes:1067053,director:Quentin Tarantino\n",
      "detail_url:https://www.imdb.com/title/tt8503618/?ref_=sr_i_109,name:Hamilton,year:2020,rating:8.3,genre:History/Drama/Biography/,votes:108176,director:Thomas Kail\n",
      "detail_url:https://www.imdb.com/title/tt1255953/?ref_=sr_i_110,name:Incendies,year:2010,rating:8.3,genre:War/Mystery/Drama/,votes:191646,director:Denis Villeneuve\n",
      "detail_url:https://www.imdb.com/title/tt0211915/?ref_=sr_i_111,name:Amélie,year:2001,rating:8.3,genre:Romance/Comedy/,votes:782689,director:Jean-Pierre Jeunet\n",
      "detail_url:https://www.imdb.com/title/tt0086190/?ref_=sr_i_112,name:Star Wars: Episode VI - Return of the Jedi,year:1983,rating:8.3,genre:Fantasy/Adventure/Action/,votes:1100717,director:Richard Marquand\n",
      "detail_url:https://www.imdb.com/title/tt0119698/?ref_=sr_i_113,name:Princess Mononoke,year:1997,rating:8.3,genre:Adventure/Action/Animation/,votes:420124,director:Hayao Miyazaki\n",
      "detail_url:https://www.imdb.com/title/tt0435761/?ref_=sr_i_114,name:Toy Story 3,year:2010,rating:8.3,genre:Comedy/Adventure/Animation/,votes:875921,director:Lee Unkrich\n",
      "detail_url:https://www.imdb.com/title/tt0056172/?ref_=sr_i_115,name:Lawrence of Arabia,year:1962,rating:8.3,genre:Drama/Biography/Adventure/,votes:307915,director:David Lean\n",
      "detail_url:https://www.imdb.com/title/tt0033467/?ref_=sr_i_116,name:Citizen Kane,year:1941,rating:8.3,genre:Mystery/Drama/,votes:458975,director:Orson Welles\n",
      "detail_url:https://www.imdb.com/title/tt9179430/?ref_=sr_i_117,name:Vikram,year:2022,rating:8.3,genre:Thriller/Crime/Action/,votes:70131,director:Lokesh Kanagaraj\n",
      "detail_url:https://www.imdb.com/title/tt0056592/?ref_=sr_i_118,name:To Kill a Mockingbird,year:1962,rating:8.3,genre:Drama/Crime/,votes:328032,director:Robert Mulligan\n",
      "detail_url:https://www.imdb.com/title/tt0017136/?ref_=sr_i_119,name:Metropolis,year:1927,rating:8.3,genre:Sci-Fi/Drama/,votes:182139,director:Fritz Lang\n",
      "detail_url:https://www.imdb.com/title/tt0052357/?ref_=sr_i_120,name:Vertigo,year:1958,rating:8.3,genre:Thriller/Romance/Mystery/,votes:419478,director:Alfred Hitchcock\n",
      "detail_url:https://www.imdb.com/title/tt0045152/?ref_=sr_i_121,name:Singin' in the Rain,year:1952,rating:8.3,genre:Romance/Musical/Comedy/,votes:255243,director:Stanley Donen\n",
      "detail_url:https://www.imdb.com/title/tt0070735/?ref_=sr_i_122,name:The Sting,year:1973,rating:8.3,genre:Drama/Crime/Comedy/,votes:274581,director:George Roy Hill\n",
      "detail_url:https://www.imdb.com/title/tt0022100/?ref_=sr_i_123,name:M,year:1931,rating:8.3,genre:Thriller/Mystery/Crime/,votes:165483,director:Fritz Lang\n",
      "detail_url:https://www.imdb.com/title/tt0053125/?ref_=sr_i_124,name:North by Northwest,year:1959,rating:8.3,genre:Mystery/Adventure/Action/,votes:340651,director:Alfred Hitchcock\n",
      "detail_url:https://www.imdb.com/title/tt0053604/?ref_=sr_i_125,name:The Apartment,year:1960,rating:8.3,genre:Romance/Drama/Comedy/,votes:191832,director:Billy Wilder\n",
      "detail_url:https://www.imdb.com/title/tt5074352/?ref_=sr_i_126,name:Dangal,year:2016,rating:8.3,genre:Drama/Biography/Action/,votes:203938,director:Nitesh Tiwari\n",
      "detail_url:https://www.imdb.com/title/tt1832382/?ref_=sr_i_127,name:A Separation,year:2011,rating:8.3,genre:Drama/,votes:254473,director:Asghar Farhadi\n",
      "detail_url:https://www.imdb.com/title/tt0036775/?ref_=sr_i_128,name:Double Indemnity,year:1944,rating:8.3,genre:Film-Noir/Drama/Crime/,votes:164444,director:Billy Wilder\n",
      "detail_url:https://www.imdb.com/title/tt0044741/?ref_=sr_i_129,name:Ikiru,year:1952,rating:8.3,genre:Drama/,votes:84982,director:Akira Kurosawa\n",
      "detail_url:https://www.imdb.com/title/tt0055031/?ref_=sr_i_130,name:Judgment at Nuremberg,year:1961,rating:8.3,genre:War/Drama/,votes:82763,director:Stanley Kramer\n",
      "detail_url:https://www.imdb.com/title/tt0986264/?ref_=sr_i_131,name:Like Stars on Earth,year:2007,rating:8.3,genre:Family/Drama/,votes:202893,director:Aamir Khan\n",
      "detail_url:https://www.imdb.com/title/tt0040522/?ref_=sr_i_132,name:Bicycle Thieves,year:1948,rating:8.3,genre:Drama/,votes:171702,director:Vittorio De Sica\n",
      "detail_url:https://www.imdb.com/title/tt10295212/?ref_=sr_i_133,name:Shershaah,year:2021,rating:8.3,genre:Drama/Biography/Action/,votes:127202,director:Vishnuvardhan\n",
      "detail_url:https://www.imdb.com/title/tt10698680/?ref_=sr_i_134,name:K.G.F: Chapter 2,year:2022,rating:8.3,genre:Drama/Crime/Action/,votes:144505,director:Prashanth Neel\n",
      "detail_url:https://www.imdb.com/title/tt6316138/?ref_=sr_i_135,name:Ayla: The Daughter of War,year:2017,rating:8.3,genre:History/Drama/Biography/,votes:42764,director:Can Ulkay\n",
      "detail_url:https://www.imdb.com/title/tt7060344/?ref_=sr_i_136,name:Raatchasan,year:2018,rating:8.3,genre:Drama/Crime/Action/,votes:48929,director:Ram Kumar\n",
      "detail_url:https://www.imdb.com/title/tt9052870/?ref_=sr_i_137,name:Chhichhore,year:2019,rating:8.3,genre:Romance/Drama/Comedy/,votes:60767,director:Nitesh Tiwari\n",
      "detail_url:https://www.imdb.com/title/tt3417422/?ref_=sr_i_138,name:Drishyam,year:2013,rating:8.3,genre:Thriller/Drama/Crime/,votes:43299,director:Jeethu Joseph\n",
      "detail_url:https://www.imdb.com/title/tt0993846/?ref_=sr_i_139,name:The Wolf of Wall Street,year:2013,rating:8.2,genre:Crime/Comedy/Biography/,votes:1529622,director:Martin Scorsese\n",
      "detail_url:https://www.imdb.com/title/tt10872600/?ref_=sr_i_140,name:Spider-Man: No Way Home,year:2021,rating:8.2,genre:Fantasy/Adventure/Action/,votes:844967,director:Jon Watts\n",
      "detail_url:https://www.imdb.com/title/tt0075314/?ref_=sr_i_141,name:Taxi Driver,year:1976,rating:8.2,genre:Drama/Crime/,votes:895546,director:Martin Scorsese\n",
      "detail_url:https://www.imdb.com/title/tt1130884/?ref_=sr_i_142,name:Shutter Island,year:2010,rating:8.2,genre:Thriller/Mystery/,votes:1411415,director:Martin Scorsese\n",
      "detail_url:https://www.imdb.com/title/tt0477348/?ref_=sr_i_143,name:No Country for Old Men,year:2007,rating:8.2,genre:Thriller/Drama/Crime/,votes:1032828,director:Ethan Coen\n",
      "detail_url:https://www.imdb.com/title/tt0107290/?ref_=sr_i_144,name:Jurassic Park,year:1993,rating:8.2,genre:Sci-Fi/Adventure/Action/,votes:1043104,director:Steven Spielberg\n",
      "detail_url:https://www.imdb.com/title/tt0095016/?ref_=sr_i_145,name:Die Hard,year:1988,rating:8.2,genre:Thriller/Action/,votes:918798,director:John McTiernan\n",
      "detail_url:https://www.imdb.com/title/tt8579674/?ref_=sr_i_146,name:1917,year:2019,rating:8.2,genre:War/Drama/Action/,votes:650771,director:Sam Mendes\n",
      "detail_url:https://www.imdb.com/title/tt0469494/?ref_=sr_i_147,name:There Will Be Blood,year:2007,rating:8.2,genre:Drama/,votes:625878,director:Paul Thomas Anderson\n",
      "detail_url:https://www.imdb.com/title/tt0084787/?ref_=sr_i_148,name:The Thing,year:1982,rating:8.2,genre:Sci-Fi/Mystery/Horror/,votes:454405,director:John Carpenter\n",
      "detail_url:https://www.imdb.com/title/tt0266697/?ref_=sr_i_149,name:Kill Bill: Vol. 1,year:2003,rating:8.2,genre:Thriller/Crime/Action/,votes:1167251,director:Quentin Tarantino\n"
     ]
    },
    {
     "name": "stdout",
     "output_type": "stream",
     "text": [
      "detail_url:https://www.imdb.com/title/tt0120382/?ref_=sr_i_150,name:The Truman Show,year:1998,rating:8.2,genre:Drama/Comedy/,votes:1158870,director:Peter Weir\n",
      "detail_url:https://www.imdb.com/title/tt0434409/?ref_=sr_i_151,name:V for Vendetta,year:2005,rating:8.2,genre:Sci-Fi/Drama/Action/,votes:1161947,director:James McTeigue\n",
      "detail_url:https://www.imdb.com/title/tt0208092/?ref_=sr_i_152,name:Snatch,year:2000,rating:8.2,genre:Crime/Comedy/,votes:892505,director:Guy Ritchie\n",
      "detail_url:https://www.imdb.com/title/tt6966692/?ref_=sr_i_153,name:Green Book,year:2018,rating:8.2,genre:Drama/Comedy/Biography/,votes:543140,director:Peter Farrelly\n",
      "detail_url:https://www.imdb.com/title/tt0372784/?ref_=sr_i_154,name:Batman Begins,year:2005,rating:8.2,genre:Drama/Crime/Action/,votes:1545744,director:Christopher Nolan\n",
      "detail_url:https://www.imdb.com/title/tt0347149/?ref_=sr_i_155,name:Howl's Moving Castle,year:2004,rating:8.2,genre:Family/Adventure/Animation/,votes:430317,director:Hayao Miyazaki\n",
      "detail_url:https://www.imdb.com/title/tt0112641/?ref_=sr_i_156,name:Casino,year:1995,rating:8.2,genre:Drama/Crime/,votes:550710,director:Martin Scorsese\n",
      "detail_url:https://www.imdb.com/title/tt0057115/?ref_=sr_i_157,name:The Great Escape,year:1963,rating:8.2,genre:History/Drama/Adventure/,votes:254704,director:John Sturges\n",
      "detail_url:https://www.imdb.com/title/tt0167404/?ref_=sr_i_158,name:The Sixth Sense,year:1999,rating:8.2,genre:Thriller/Mystery/Drama/,votes:1031948,director:M. Night Shyamalan\n",
      "detail_url:https://www.imdb.com/title/tt0268978/?ref_=sr_i_159,name:A Beautiful Mind,year:2001,rating:8.2,genre:Drama/Biography/,votes:969438,director:Ron Howard\n",
      "detail_url:https://www.imdb.com/title/tt0457430/?ref_=sr_i_160,name:Pan's Labyrinth,year:2006,rating:8.2,genre:War/Fantasy/Drama/,votes:692943,director:Guillermo del Toro\n",
      "detail_url:https://www.imdb.com/title/tt0105695/?ref_=sr_i_161,name:Unforgiven,year:1992,rating:8.2,genre:Western/Drama/,votes:429020,director:Clint Eastwood\n",
      "detail_url:https://www.imdb.com/title/tt0266543/?ref_=sr_i_162,name:Finding Nemo,year:2003,rating:8.2,genre:Comedy/Adventure/Animation/,votes:1091323,director:Andrew Stanton\n",
      "detail_url:https://www.imdb.com/title/tt0119488/?ref_=sr_i_163,name:L.A. Confidential,year:1997,rating:8.2,genre:Mystery/Drama/Crime/,votes:605186,director:Curtis Hanson\n",
      "detail_url:https://www.imdb.com/title/tt0031381/?ref_=sr_i_164,name:Gone with the Wind,year:1939,rating:8.2,genre:War/Romance/Drama/,votes:328550,director:Victor Fleming\n",
      "detail_url:https://www.imdb.com/title/tt4729430/?ref_=sr_i_165,name:Klaus,year:2019,rating:8.2,genre:Comedy/Adventure/Animation/,votes:174549,director:Sergio Pablos\n",
      "detail_url:https://www.imdb.com/title/tt0071315/?ref_=sr_i_166,name:Chinatown,year:1974,rating:8.2,genre:Thriller/Mystery/Drama/,votes:342619,director:Roman Polanski\n",
      "detail_url:https://www.imdb.com/title/tt0363163/?ref_=sr_i_167,name:Downfall,year:2004,rating:8.2,genre:History/Drama/Biography/,votes:369195,director:Oliver Hirschbiegel\n",
      "detail_url:https://www.imdb.com/title/tt10272386/?ref_=sr_i_168,name:The Father,year:2020,rating:8.2,genre:Mystery/Drama/,votes:181292,director:Florian Zeller\n",
      "detail_url:https://www.imdb.com/title/tt0097576/?ref_=sr_i_169,name:Indiana Jones and the Last Crusade,year:1989,rating:8.2,genre:Adventure/Action/,votes:796680,director:Steven Spielberg\n",
      "detail_url:https://www.imdb.com/title/tt0071853/?ref_=sr_i_170,name:Monty Python and the Holy Grail,year:1975,rating:8.2,genre:Fantasy/Comedy/Adventure/,votes:561805,director:Terry Gilliam\n",
      "detail_url:https://www.imdb.com/title/tt0053291/?ref_=sr_i_171,name:Some Like It Hot,year:1959,rating:8.2,genre:Romance/Music/Comedy/,votes:278765,director:Billy Wilder\n",
      "detail_url:https://www.imdb.com/title/tt1305806/?ref_=sr_i_172,name:The Secret in Their Eyes,year:2009,rating:8.2,genre:Romance/Mystery/Drama/,votes:218700,director:Juan José Campanella\n",
      "detail_url:https://www.imdb.com/title/tt0042192/?ref_=sr_i_173,name:All About Eve,year:1950,rating:8.2,genre:Drama/,votes:136686,director:Joseph L. Mankiewicz\n",
      "detail_url:https://www.imdb.com/title/tt0080678/?ref_=sr_i_174,name:The Elephant Man,year:1980,rating:8.2,genre:Drama/Biography/,votes:253695,director:David Lynch\n",
      "detail_url:https://www.imdb.com/title/tt0089881/?ref_=sr_i_175,name:Ran,year:1985,rating:8.2,genre:War/Drama/Action/,votes:133149,director:Akira Kurosawa\n",
      "detail_url:https://www.imdb.com/title/tt0059578/?ref_=sr_i_176,name:For a Few Dollars More,year:1965,rating:8.2,genre:Western/Drama/,votes:269070,director:Sergio Leone\n",
      "detail_url:https://www.imdb.com/title/tt4849438/?ref_=sr_i_177,name:Baahubali 2: The Conclusion,year:2017,rating:8.2,genre:Drama/Action/,votes:110559,director:S.S. Rajamouli\n",
      "detail_url:https://www.imdb.com/title/tt0046912/?ref_=sr_i_178,name:Dial M for Murder,year:1954,rating:8.2,genre:Thriller/Crime/,votes:185119,director:Alfred Hitchcock\n",
      "detail_url:https://www.imdb.com/title/tt0042876/?ref_=sr_i_179,name:Rashomon,year:1950,rating:8.2,genre:Mystery/Drama/Crime/,votes:176943,director:Akira Kurosawa\n",
      "detail_url:https://www.imdb.com/title/tt11032374/?ref_=sr_i_180,name:Demon Slayer: Kimetsu no Yaiba - The Movie: Mugen Train,year:2020,rating:8.2,genre:Adventure/Action/Animation/,votes:69185,director:Haruo Sotozaki\n",
      "detail_url:https://www.imdb.com/title/tt15501640/?ref_=sr_i_181,name:Drishyam 2,year:2022,rating:8.2,genre:Mystery/Drama/Crime/,votes:41503,director:Abhishek Pathak\n",
      "detail_url:https://www.imdb.com/title/tt8239946/?ref_=sr_i_182,name:Tumbbad,year:2018,rating:8.2,genre:Horror/Fantasy/Drama/,votes:56402,director:Rahi Anil Barve\n",
      "detail_url:https://www.imdb.com/title/tt10431500/?ref_=sr_i_183,name:Miracle in Cell No. 7,year:2019,rating:8.2,genre:Drama/,votes:53758,director:Mehmet Ada Öztekin\n",
      "detail_url:https://www.imdb.com/title/tt0055630/?ref_=sr_i_184,name:Yojimbo,year:1961,rating:8.2,genre:Thriller/Drama/Action/,votes:128861,director:Akira Kurosawa\n",
      "detail_url:https://www.imdb.com/title/tt8108198/?ref_=sr_i_185,name:Andhadhun,year:2018,rating:8.2,genre:Thriller/Mystery/Crime/,votes:99874,director:Sriram Raghavan\n",
      "detail_url:https://www.imdb.com/title/tt4430212/?ref_=sr_i_186,name:Drishyam,year:2015,rating:8.2,genre:Mystery/Drama/Crime/,votes:91765,director:Nishikant Kamat\n",
      "detail_url:https://www.imdb.com/title/tt0118849/?ref_=sr_i_187,name:Children of Heaven,year:1997,rating:8.2,genre:Sport/Family/Drama/,votes:78952,director:Majid Majidi\n",
      "detail_url:https://www.imdb.com/title/tt1562872/?ref_=sr_i_188,name:Zindagi Na Milegi Dobara,year:2011,rating:8.2,genre:Musical/Drama/Comedy/,votes:83867,director:Zoya Akhtar\n",
      "detail_url:https://www.imdb.com/title/tt0040897/?ref_=sr_i_189,name:The Treasure of the Sierra Madre,year:1948,rating:8.2,genre:Western/Drama/Adventure/,votes:130488,director:John Huston\n",
      "detail_url:https://www.imdb.com/title/tt0367110/?ref_=sr_i_190,name:Swades,year:2004,rating:8.2,genre:Musical/Drama/,votes:96051,director:Ashutosh Gowariker\n",
      "detail_url:https://www.imdb.com/title/tt0046268/?ref_=sr_i_191,name:The Wages of Fear,year:1953,rating:8.2,genre:Thriller/Drama/Adventure/,votes:65007,director:Henri-Georges Clouzot\n",
      "detail_url:https://www.imdb.com/title/tt0012349/?ref_=sr_i_192,name:The Kid,year:1921,rating:8.2,genre:Family/Drama/Comedy/,votes:132419,director:Charles Chaplin\n",
      "detail_url:https://www.imdb.com/title/tt0035446/?ref_=sr_i_193,name:To Be or Not to Be,year:1942,rating:8.2,genre:War/Romance/Comedy/,votes:41522,director:Ernst Lubitsch\n",
      "detail_url:https://www.imdb.com/title/tt0048473/?ref_=sr_i_194,name:Pather Panchali,year:1955,rating:8.2,genre:Drama/,votes:36900,director:Satyajit Ray\n",
      "detail_url:https://www.imdb.com/title/tt1954470/?ref_=sr_i_195,name:Gangs of Wasseypur,year:2012,rating:8.2,genre:Crime/Comedy/Action/,votes:101615,director:Anurag Kashyap\n",
      "detail_url:https://www.imdb.com/title/tt0476735/?ref_=sr_i_196,name:My Father and My Son,year:2005,rating:8.2,genre:Family/Drama/,votes:90518,director:Çagan Irmak\n",
      "detail_url:https://www.imdb.com/title/tt15327088/?ref_=sr_i_197,name:Kantara,year:2022,rating:8.2,genre:Drama/Adventure/Action/,votes:99297,director:Rishab Shetty\n",
      "detail_url:https://www.imdb.com/title/tt7838252/?ref_=sr_i_198,name:K.G.F: Chapter 1,year:2018,rating:8.2,genre:Drama/Crime/Action/,votes:95056,director:Prashanth Neel\n"
     ]
    },
    {
     "name": "stdout",
     "output_type": "stream",
     "text": [
      "detail_url:https://www.imdb.com/title/tt0065234/?ref_=sr_i_199,name:Z,year:1969,rating:8.2,genre:Thriller/Drama/Crime/,votes:30730,director:Costa-Gavras\n",
      "detail_url:https://www.imdb.com/title/tt0015324/?ref_=sr_i_200,name:Sherlock Jr.,year:1924,rating:8.2,genre:Romance/Comedy/Action/,votes:54925,director:Buster Keaton\n",
      "detail_url:https://www.imdb.com/title/tt8291224/?ref_=sr_i_201,name:Uri: The Surgical Strike,year:2019,rating:8.2,genre:History/Drama/Action/,votes:69858,director:Aditya Dhar\n",
      "detail_url:https://www.imdb.com/title/tt0071411/?ref_=sr_i_202,name:Dersu Uzala,year:1975,rating:8.2,genre:Drama/Biography/Adventure/,votes:32727,director:Akira Kurosawa\n",
      "detail_url:https://www.imdb.com/title/tt0045274/?ref_=sr_i_203,name:Umberto D.,year:1952,rating:8.2,genre:Drama/,votes:27562,director:Vittorio De Sica\n",
      "detail_url:https://www.imdb.com/title/tt7392212/?ref_=sr_i_204,name:Rangasthalam 1985,year:2018,rating:8.2,genre:Drama/Action/,votes:26959,director:Sukumar\n",
      "detail_url:https://www.imdb.com/title/tt6148156/?ref_=sr_i_205,name:Vikram Vedha,year:2017,rating:8.2,genre:Drama/Crime/Action/,votes:49482,director:Gayatri\n",
      "detail_url:https://www.imdb.com/title/tt2356180/?ref_=sr_i_206,name:Bhaag Milkha Bhaag,year:2013,rating:8.2,genre:Sport/Drama/Biography/,votes:71167,director:Rakeysh Omprakash Mehra\n",
      "detail_url:https://www.imdb.com/title/tt1620933/?ref_=sr_i_207,name:Paan Singh Tomar,year:2012,rating:8.2,genre:Crime/Biography/Action/,votes:37486,director:Tigmanshu Dhulia\n",
      "detail_url:https://www.imdb.com/title/tt2096673/?ref_=sr_i_208,name:Inside Out,year:2015,rating:8.1,genre:Comedy/Adventure/Animation/,votes:762934,director:Pete Docter\n",
      "detail_url:https://www.imdb.com/title/tt2267998/?ref_=sr_i_209,name:Gone Girl,year:2014,rating:8.1,genre:Thriller/Mystery/Drama/,votes:1040517,director:David Fincher\n",
      "detail_url:https://www.imdb.com/title/tt0118715/?ref_=sr_i_210,name:The Big Lebowski,year:1998,rating:8.1,genre:Crime/Comedy/,votes:844751,director:Joel Coen\n",
      "detail_url:https://www.imdb.com/title/tt1392214/?ref_=sr_i_211,name:Prisoners,year:2013,rating:8.1,genre:Mystery/Drama/Crime/,votes:780925,director:Denis Villeneuve\n",
      "detail_url:https://www.imdb.com/title/tt0382932/?ref_=sr_i_212,name:Ratatouille,year:2007,rating:8.1,genre:Comedy/Adventure/Animation/,votes:797850,director:Brad Bird\n",
      "detail_url:https://www.imdb.com/title/tt0083658/?ref_=sr_i_213,name:Blade Runner,year:1982,rating:8.1,genre:Sci-Fi/Drama/Action/,votes:806544,director:Ridley Scott\n",
      "detail_url:https://www.imdb.com/title/tt0116282/?ref_=sr_i_214,name:Fargo,year:1996,rating:8.1,genre:Thriller/Crime/,votes:708425,director:Joel Coen\n",
      "detail_url:https://www.imdb.com/title/tt1392190/?ref_=sr_i_215,name:Mad Max: Fury Road,year:2015,rating:8.1,genre:Sci-Fi/Adventure/Action/,votes:1056974,director:George Miller\n",
      "detail_url:https://www.imdb.com/title/tt0325980/?ref_=sr_i_216,name:Pirates of the Caribbean: The Curse of the Black Pearl,year:2003,rating:8.1,genre:Fantasy/Adventure/Action/,votes:1183797,director:Gore Verbinski\n",
      "detail_url:https://www.imdb.com/title/tt0070047/?ref_=sr_i_217,name:The Exorcist,year:1973,rating:8.1,genre:Horror/,votes:445089,director:William Friedkin\n",
      "detail_url:https://www.imdb.com/title/tt2119532/?ref_=sr_i_218,name:Hacksaw Ridge,year:2016,rating:8.1,genre:History/Drama/Biography/,votes:574831,director:Mel Gibson\n",
      "detail_url:https://www.imdb.com/title/tt2278388/?ref_=sr_i_219,name:The Grand Budapest Hotel,year:2014,rating:8.1,genre:Crime/Comedy/Adventure/,votes:866289,director:Wes Anderson\n",
      "detail_url:https://www.imdb.com/title/tt0264464/?ref_=sr_i_220,name:Catch Me If You Can,year:2002,rating:8.1,genre:Drama/Crime/Biography/,votes:1060635,director:Steven Spielberg\n",
      "detail_url:https://www.imdb.com/title/tt0092005/?ref_=sr_i_221,name:Stand by Me,year:1986,rating:8.1,genre:Drama/Comedy/Adventure/,votes:431060,director:Rob Reiner\n",
      "detail_url:https://www.imdb.com/title/tt1201607/?ref_=sr_i_222,name:Harry Potter and the Deathly Hallows: Part 2,year:2011,rating:8.1,genre:Fantasy/Family/Adventure/,votes:925519,director:David Yates\n",
      "detail_url:https://www.imdb.com/title/tt0075148/?ref_=sr_i_223,name:Rocky,year:1976,rating:8.1,genre:Sport/Drama/,votes:615185,director:John G. Avildsen\n",
      "detail_url:https://www.imdb.com/title/tt3170832/?ref_=sr_i_224,name:Room,year:2015,rating:8.1,genre:Thriller/Drama/,votes:441781,director:Lenny Abrahamson\n",
      "detail_url:https://www.imdb.com/title/tt0088247/?ref_=sr_i_225,name:The Terminator,year:1984,rating:8.1,genre:Sci-Fi/Action/,votes:906607,director:James Cameron\n",
      "detail_url:https://www.imdb.com/title/tt0097165/?ref_=sr_i_226,name:Dead Poets Society,year:1989,rating:8.1,genre:Drama/Comedy/,votes:528165,director:Peter Weir\n",
      "detail_url:https://www.imdb.com/title/tt1950186/?ref_=sr_i_227,name:Ford v Ferrari,year:2019,rating:8.1,genre:Drama/Biography/Action/,votes:444834,director:James Mangold\n",
      "detail_url:https://www.imdb.com/title/tt0073195/?ref_=sr_i_228,name:Jaws,year:1975,rating:8.1,genre:Thriller/Mystery/Adventure/,votes:645827,director:Steven Spielberg\n",
      "detail_url:https://www.imdb.com/title/tt0077416/?ref_=sr_i_229,name:The Deer Hunter,year:1978,rating:8.1,genre:War/Drama/,votes:355218,director:Michael Cimino\n",
      "detail_url:https://www.imdb.com/title/tt4016934/?ref_=sr_i_230,name:The Handmaiden,year:2016,rating:8.1,genre:Thriller/Romance/Drama/,votes:165580,director:Park Chan-wook\n",
      "detail_url:https://www.imdb.com/title/tt1454029/?ref_=sr_i_231,name:The Help,year:2011,rating:8.1,genre:Drama/,votes:483030,director:Tate Taylor\n",
      "detail_url:https://www.imdb.com/title/tt0758758/?ref_=sr_i_232,name:Into the Wild,year:2007,rating:8.1,genre:Drama/Biography/Adventure/,votes:647178,director:Sean Penn\n",
      "detail_url:https://www.imdb.com/title/tt0036868/?ref_=sr_i_233,name:The Best Years of Our Lives,year:1946,rating:8.1,genre:War/Romance/Drama/,votes:68990,director:William Wyler\n",
      "detail_url:https://www.imdb.com/title/tt3315342/?ref_=sr_i_234,name:Logan,year:2017,rating:8.1,genre:Sci-Fi/Drama/Action/,votes:810736,director:James Mangold\n",
      "detail_url:https://www.imdb.com/title/tt0032138/?ref_=sr_i_235,name:The Wizard of Oz,year:1939,rating:8.1,genre:Fantasy/Family/Adventure/,votes:419809,director:Victor Fleming\n",
      "detail_url:https://www.imdb.com/title/tt0117951/?ref_=sr_i_236,name:Trainspotting,year:1996,rating:8.1,genre:Drama/,votes:713957,director:Danny Boyle\n",
      "detail_url:https://www.imdb.com/title/tt0091763/?ref_=sr_i_237,name:Platoon,year:1986,rating:8.1,genre:War/Drama/,votes:431187,director:Oliver Stone\n",
      "detail_url:https://www.imdb.com/title/tt5027774/?ref_=sr_i_238,name:Three Billboards Outside Ebbing, Missouri,year:2017,rating:8.1,genre:Drama/Crime/Comedy/,votes:541051,director:Martin McDonagh\n",
      "detail_url:https://www.imdb.com/title/tt1205489/?ref_=sr_i_239,name:Gran Torino,year:2008,rating:8.1,genre:Drama/,votes:803001,director:Clint Eastwood\n",
      "detail_url:https://www.imdb.com/title/tt0059742/?ref_=sr_i_240,name:The Sound of Music,year:1965,rating:8.1,genre:Family/Drama/Biography/,votes:251827,director:Robert Wise\n",
      "detail_url:https://www.imdb.com/title/tt0198781/?ref_=sr_i_241,name:Monsters, Inc.,year:2001,rating:8.1,genre:Comedy/Adventure/Animation/,votes:957382,director:Pete Docter\n",
      "detail_url:https://www.imdb.com/title/tt2024544/?ref_=sr_i_242,name:12 Years a Slave,year:2013,rating:8.1,genre:History/Drama/Biography/,votes:729520,director:Steve McQueen\n",
      "detail_url:https://www.imdb.com/title/tt0112471/?ref_=sr_i_243,name:Before Sunrise,year:1995,rating:8.1,genre:Romance/Drama/,votes:330819,director:Richard Linklater\n",
      "detail_url:https://www.imdb.com/title/tt0353969/?ref_=sr_i_244,name:Memories of Murder,year:2003,rating:8.1,genre:Mystery/Drama/Crime/,votes:206885,director:Bong Joon Ho\n",
      "detail_url:https://www.imdb.com/title/tt0120735/?ref_=sr_i_245,name:Lock, Stock and Two Smoking Barrels,year:1998,rating:8.1,genre:Crime/Comedy/Action/,votes:606384,director:Guy Ritchie\n",
      "detail_url:https://www.imdb.com/title/tt1895587/?ref_=sr_i_246,name:Spotlight,year:2015,rating:8.1,genre:Drama/Crime/Biography/,votes:492968,director:Tom McCarthy\n",
      "detail_url:https://www.imdb.com/title/tt0892769/?ref_=sr_i_247,name:How to Train Your Dragon,year:2010,rating:8.1,genre:Adventure/Action/Animation/,votes:781912,director:Dean DeBlois\n"
     ]
    },
    {
     "name": "stdout",
     "output_type": "stream",
     "text": [
      "detail_url:https://www.imdb.com/title/tt1979320/?ref_=sr_i_248,name:Rush,year:2013,rating:8.1,genre:Drama/Biography/Action/,votes:503406,director:Ron Howard\n",
      "detail_url:https://www.imdb.com/title/tt1291584/?ref_=sr_i_249,name:Warrior,year:2011,rating:8.1,genre:Sport/Drama/Action/,votes:490387,director:Gavin O'Connor\n",
      "detail_url:https://www.imdb.com/title/tt0081398/?ref_=sr_i_250,name:Raging Bull,year:1980,rating:8.1,genre:Sport/Drama/Biography/,votes:372361,director:Martin Scorsese\n",
      "detail_url:https://www.imdb.com/title/tt0111161/?ref_=sr_i_1,name:The Shawshank Redemption,year:1994,rating:9.3,genre:Drama/,votes:2823006,director:Frank Darabont\n",
      "detail_url:https://www.imdb.com/title/tt0068646/?ref_=sr_i_2,name:The Godfather,year:1972,rating:9.2,genre:Drama/Crime/,votes:1967702,director:Francis Ford Coppola\n",
      "detail_url:https://www.imdb.com/title/tt0468569/?ref_=sr_i_3,name:The Dark Knight,year:2008,rating:9.0,genre:Drama/Crime/Action/,votes:2804534,director:Christopher Nolan\n",
      "detail_url:https://www.imdb.com/title/tt0108052/?ref_=sr_i_4,name:Schindler's List,year:1993,rating:9.0,genre:History/Drama/Biography/,votes:1418899,director:Steven Spielberg\n",
      "detail_url:https://www.imdb.com/title/tt0071562/?ref_=sr_i_5,name:The Godfather Part II,year:1974,rating:9.0,genre:Drama/Crime/,votes:1335658,director:Francis Ford Coppola\n",
      "detail_url:https://www.imdb.com/title/tt0167260/?ref_=sr_i_6,name:The Lord of the Rings: The Return of the King,year:2003,rating:9.0,genre:Drama/Adventure/Action/,votes:1933086,director:Peter Jackson\n",
      "detail_url:https://www.imdb.com/title/tt0050083/?ref_=sr_i_7,name:12 Angry Men,year:1957,rating:9.0,genre:Drama/Crime/,votes:841634,director:Sidney Lumet\n",
      "detail_url:https://www.imdb.com/title/tt0110912/?ref_=sr_i_8,name:Pulp Fiction,year:1994,rating:8.9,genre:Drama/Crime/,votes:2164808,director:Quentin Tarantino\n",
      "detail_url:https://www.imdb.com/title/tt0137523/?ref_=sr_i_9,name:Fight Club,year:1999,rating:8.8,genre:Drama/,votes:2258438,director:David Fincher\n",
      "detail_url:https://www.imdb.com/title/tt1375666/?ref_=sr_i_10,name:Inception,year:2010,rating:8.8,genre:Sci-Fi/Adventure/Action/,votes:2489331,director:Christopher Nolan\n",
      "detail_url:https://www.imdb.com/title/tt0120737/?ref_=sr_i_11,name:The Lord of the Rings: The Fellowship of the Ring,year:2001,rating:8.8,genre:Drama/Adventure/Action/,votes:1959993,director:Peter Jackson\n",
      "detail_url:https://www.imdb.com/title/tt0109830/?ref_=sr_i_12,name:Forrest Gump,year:1994,rating:8.8,genre:Romance/Drama/,votes:2199063,director:Robert Zemeckis\n",
      "detail_url:https://www.imdb.com/title/tt0060196/?ref_=sr_i_13,name:The Good, the Bad and the Ugly,year:1966,rating:8.8,genre:Western/Adventure/,votes:795325,director:Sergio Leone\n",
      "detail_url:https://www.imdb.com/title/tt0167261/?ref_=sr_i_14,name:The Lord of the Rings: The Two Towers,year:2002,rating:8.8,genre:Drama/Adventure/Action/,votes:1743074,director:Peter Jackson\n",
      "detail_url:https://www.imdb.com/title/tt15097216/?ref_=sr_i_15,name:Jai Bhim,year:2021,rating:8.8,genre:Mystery/Drama/Crime/,votes:212540,director:T.J. Gnanavel\n",
      "detail_url:https://www.imdb.com/title/tt7466810/?ref_=sr_i_16,name:777 Charlie,year:2022,rating:8.8,genre:Drama/Comedy/Adventure/,votes:37524,director:Kiranraj K\n",
      "detail_url:https://www.imdb.com/title/tt9362722/?ref_=sr_i_17,name:Spider-Man: Across the Spider-Verse,year:2023,rating:8.7,genre:Adventure/Action/Animation/,votes:301353,director:Joaquim Dos Santos\n",
      "detail_url:https://www.imdb.com/title/tt0816692/?ref_=sr_i_18,name:Interstellar,year:2014,rating:8.7,genre:Sci-Fi/Drama/Adventure/,votes:2016334,director:Christopher Nolan\n",
      "detail_url:https://www.imdb.com/title/tt0099685/?ref_=sr_i_19,name:Goodfellas,year:1990,rating:8.7,genre:Drama/Crime/Biography/,votes:1226632,director:Martin Scorsese\n",
      "detail_url:https://www.imdb.com/title/tt0133093/?ref_=sr_i_20,name:The Matrix,year:1999,rating:8.7,genre:Sci-Fi/Action/,votes:2006886,director:Lana Wachowski\n",
      "detail_url:https://www.imdb.com/title/tt0073486/?ref_=sr_i_21,name:One Flew Over the Cuckoo's Nest,year:1975,rating:8.7,genre:Drama/,votes:1050981,director:Milos Forman\n",
      "detail_url:https://www.imdb.com/title/tt0080684/?ref_=sr_i_22,name:Star Wars: Episode V - The Empire Strikes Back,year:1980,rating:8.7,genre:Fantasy/Adventure/Action/,votes:1352236,director:Irvin Kershner\n",
      "detail_url:https://www.imdb.com/title/tt10189514/?ref_=sr_i_23,name:Soorarai Pottru,year:2020,rating:8.7,genre:Drama/Action/,votes:121784,director:Sudha Kongara\n",
      "detail_url:https://www.imdb.com/title/tt9263550/?ref_=sr_i_24,name:Rocketry: The Nambi Effect,year:2022,rating:8.7,genre:Drama/Biography/,votes:56180,director:Madhavan\n",
      "detail_url:https://www.imdb.com/title/tt0114369/?ref_=sr_i_25,name:Se7en,year:1995,rating:8.6,genre:Mystery/Drama/Crime/,votes:1751643,director:David Fincher\n",
      "detail_url:https://www.imdb.com/title/tt0102926/?ref_=sr_i_26,name:The Silence of the Lambs,year:1991,rating:8.6,genre:Thriller/Drama/Crime/,votes:1509890,director:Jonathan Demme\n",
      "detail_url:https://www.imdb.com/title/tt0120815/?ref_=sr_i_27,name:Saving Private Ryan,year:1998,rating:8.6,genre:War/Drama/,votes:1462678,director:Steven Spielberg\n",
      "detail_url:https://www.imdb.com/title/tt0245429/?ref_=sr_i_28,name:Spirited Away,year:2001,rating:8.6,genre:Family/Adventure/Animation/,votes:819834,director:Hayao Miyazaki\n",
      "detail_url:https://www.imdb.com/title/tt0038650/?ref_=sr_i_29,name:It's a Wonderful Life,year:1946,rating:8.6,genre:Fantasy/Family/Drama/,votes:482871,director:Frank Capra\n",
      "detail_url:https://www.imdb.com/title/tt0120689/?ref_=sr_i_30,name:The Green Mile,year:1999,rating:8.6,genre:Fantasy/Drama/Crime/,votes:1373284,director:Frank Darabont\n",
      "detail_url:https://www.imdb.com/title/tt0076759/?ref_=sr_i_31,name:Star Wars: Episode IV - A New Hope,year:1977,rating:8.6,genre:Fantasy/Adventure/Action/,votes:1423286,director:George Lucas\n",
      "detail_url:https://www.imdb.com/title/tt0317248/?ref_=sr_i_32,name:City of God,year:2002,rating:8.6,genre:Drama/Crime/,votes:786905,director:Fernando Meirelles\n",
      "detail_url:https://www.imdb.com/title/tt0103064/?ref_=sr_i_33,name:Terminator 2: Judgment Day,year:1991,rating:8.6,genre:Sci-Fi/Action/,votes:1150456,director:James Cameron\n",
      "detail_url:https://www.imdb.com/title/tt0118799/?ref_=sr_i_34,name:Life Is Beautiful,year:1997,rating:8.6,genre:Romance/Drama/Comedy/,votes:728178,director:Roberto Benigni\n",
      "detail_url:https://www.imdb.com/title/tt0047478/?ref_=sr_i_35,name:Seven Samurai,year:1954,rating:8.6,genre:Drama/Action/,votes:360449,director:Akira Kurosawa\n",
      "detail_url:https://www.imdb.com/title/tt0056058/?ref_=sr_i_36,name:Harakiri,year:1962,rating:8.6,genre:Mystery/Drama/Action/,votes:65131,director:Masaki Kobayashi\n",
      "detail_url:https://www.imdb.com/title/tt20850406/?ref_=sr_i_37,name:Sita Ramam,year:2022,rating:8.6,genre:Mystery/Drama/Action/,votes:64217,director:Hanu Raghavapudi\n",
      "detail_url:https://www.imdb.com/title/tt15398776/?ref_=sr_i_38,name:Oppenheimer,year:2023,rating:8.5,genre:History/Drama/Biography/,votes:516177,director:Christopher Nolan\n",
      "detail_url:https://www.imdb.com/title/tt0172495/?ref_=sr_i_39,name:Gladiator,year:2000,rating:8.5,genre:Drama/Adventure/Action/,votes:1577721,director:Ridley Scott\n",
      "detail_url:https://www.imdb.com/title/tt2582802/?ref_=sr_i_40,name:Whiplash,year:2014,rating:8.5,genre:Music/Drama/,votes:946936,director:Damien Chazelle\n",
      "detail_url:https://www.imdb.com/title/tt6751668/?ref_=sr_i_41,name:Parasite,year:2019,rating:8.5,genre:Thriller/Drama/,votes:904826,director:Bong Joon Ho\n",
      "detail_url:https://www.imdb.com/title/tt0407887/?ref_=sr_i_42,name:The Departed,year:2006,rating:8.5,genre:Thriller/Drama/Crime/,votes:1392065,director:Martin Scorsese\n",
      "detail_url:https://www.imdb.com/title/tt1853728/?ref_=sr_i_43,name:Django Unchained,year:2012,rating:8.5,genre:Western/Drama/,votes:1651159,director:Quentin Tarantino\n",
      "detail_url:https://www.imdb.com/title/tt0078748/?ref_=sr_i_44,name:Alien,year:1979,rating:8.5,genre:Sci-Fi/Horror/,votes:928296,director:Ridley Scott\n",
      "detail_url:https://www.imdb.com/title/tt0482571/?ref_=sr_i_45,name:The Prestige,year:2006,rating:8.5,genre:Sci-Fi/Mystery/Drama/,votes:1408764,director:Christopher Nolan\n",
      "detail_url:https://www.imdb.com/title/tt0088763/?ref_=sr_i_46,name:Back to the Future,year:1985,rating:8.5,genre:Sci-Fi/Comedy/Adventure/,votes:1275302,director:Robert Zemeckis\n"
     ]
    },
    {
     "name": "stdout",
     "output_type": "stream",
     "text": [
      "detail_url:https://www.imdb.com/title/tt0110413/?ref_=sr_i_47,name:Léon: The Professional,year:1994,rating:8.5,genre:Drama/Crime/Action/,votes:1218787,director:Luc Besson\n",
      "detail_url:https://www.imdb.com/title/tt0114814/?ref_=sr_i_48,name:The Usual Suspects,year:1995,rating:8.5,genre:Mystery/Drama/Crime/,votes:1126264,director:Bryan Singer\n",
      "detail_url:https://www.imdb.com/title/tt0110357/?ref_=sr_i_49,name:The Lion King,year:1994,rating:8.5,genre:Drama/Adventure/Animation/,votes:1115713,director:Roger Allers\n",
      "detail_url:https://www.imdb.com/title/tt0120586/?ref_=sr_i_50,name:American History X,year:1998,rating:8.5,genre:Drama/Crime/,votes:1166461,director:Tony Kaye\n",
      "detail_url:https://www.imdb.com/title/tt1675434/?ref_=sr_i_51,name:The Intouchables,year:2011,rating:8.5,genre:Drama/Comedy/Biography/,votes:906828,director:Olivier Nakache\n",
      "detail_url:https://www.imdb.com/title/tt0253474/?ref_=sr_i_52,name:The Pianist,year:2002,rating:8.5,genre:Music/Drama/Biography/,votes:887445,director:Roman Polanski\n",
      "detail_url:https://www.imdb.com/title/tt0054215/?ref_=sr_i_53,name:Psycho,year:1960,rating:8.5,genre:Thriller/Mystery/Horror/,votes:705122,director:Alfred Hitchcock\n",
      "detail_url:https://www.imdb.com/title/tt0034583/?ref_=sr_i_54,name:Casablanca,year:1942,rating:8.5,genre:War/Romance/Drama/,votes:595644,director:Michael Curtiz\n",
      "detail_url:https://www.imdb.com/title/tt0064116/?ref_=sr_i_55,name:Once Upon a Time in the West,year:1968,rating:8.5,genre:Western/,votes:343730,director:Sergio Leone\n",
      "detail_url:https://www.imdb.com/title/tt0095327/?ref_=sr_i_56,name:Grave of the Fireflies,year:1988,rating:8.5,genre:War/Drama/Animation/,votes:299495,director:Isao Takahata\n",
      "detail_url:https://www.imdb.com/title/tt0047396/?ref_=sr_i_57,name:Rear Window,year:1954,rating:8.5,genre:Thriller/Mystery/,votes:512593,director:Alfred Hitchcock\n",
      "detail_url:https://www.imdb.com/title/tt0095765/?ref_=sr_i_58,name:Cinema Paradiso,year:1988,rating:8.5,genre:Romance/Drama/,votes:276341,director:Giuseppe Tornatore\n",
      "detail_url:https://www.imdb.com/title/tt0027977/?ref_=sr_i_59,name:Modern Times,year:1936,rating:8.5,genre:Romance/Drama/Comedy/,votes:254497,director:Charles Chaplin\n",
      "detail_url:https://www.imdb.com/title/tt0021749/?ref_=sr_i_60,name:City Lights,year:1931,rating:8.5,genre:Romance/Drama/Comedy/,votes:192669,director:Charles Chaplin\n",
      "detail_url:https://www.imdb.com/title/tt9900782/?ref_=sr_i_61,name:Kaithi,year:2019,rating:8.5,genre:Thriller/Crime/Action/,votes:40129,director:Lokesh Kanagaraj\n",
      "detail_url:https://www.imdb.com/title/tt7019842/?ref_=sr_i_62,name:96,year:2018,rating:8.5,genre:Romance/Drama/,votes:34997,director:C. Prem Kumar\n",
      "detail_url:https://www.imdb.com/title/tt0361748/?ref_=sr_i_63,name:Inglourious Basterds,year:2009,rating:8.4,genre:War/Drama/Adventure/,votes:1540549,director:Quentin Tarantino\n",
      "detail_url:https://www.imdb.com/title/tt4154796/?ref_=sr_i_64,name:Avengers: Endgame,year:2019,rating:8.4,genre:Drama/Adventure/Action/,votes:1228232,director:Anthony Russo\n",
      "detail_url:https://www.imdb.com/title/tt4633694/?ref_=sr_i_65,name:Spider-Man: Into the Spider-Verse,year:2018,rating:8.4,genre:Adventure/Action/Animation/,votes:641726,director:Bob Persichetti\n",
      "detail_url:https://www.imdb.com/title/tt7286456/?ref_=sr_i_66,name:Joker,year:2019,rating:8.4,genre:Thriller/Drama/Crime/,votes:1423347,director:Todd Phillips\n",
      "detail_url:https://www.imdb.com/title/tt0081505/?ref_=sr_i_67,name:The Shining,year:1980,rating:8.4,genre:Horror/Drama/,votes:1082477,director:Stanley Kubrick\n",
      "detail_url:https://www.imdb.com/title/tt0090605/?ref_=sr_i_68,name:Aliens,year:1986,rating:8.4,genre:Sci-Fi/Adventure/Action/,votes:748694,director:James Cameron\n",
      "detail_url:https://www.imdb.com/title/tt0091251/?ref_=sr_i_69,name:Come and See,year:1985,rating:8.4,genre:War/Thriller/Drama/,votes:91939,director:Elem Klimov\n",
      "detail_url:https://www.imdb.com/title/tt4154756/?ref_=sr_i_70,name:Avengers: Infinity War,year:2018,rating:8.4,genre:Sci-Fi/Adventure/Action/,votes:1168139,director:Anthony Russo\n",
      "detail_url:https://www.imdb.com/title/tt0078788/?ref_=sr_i_71,name:Apocalypse Now,year:1979,rating:8.4,genre:War/Mystery/Drama/,votes:696881,director:Francis Ford Coppola\n",
      "detail_url:https://www.imdb.com/title/tt0364569/?ref_=sr_i_72,name:Oldboy,year:2003,rating:8.4,genre:Mystery/Drama/Action/,votes:617472,director:Park Chan-wook\n",
      "detail_url:https://www.imdb.com/title/tt1345836/?ref_=sr_i_73,name:The Dark Knight Rises,year:2012,rating:8.4,genre:Thriller/Drama/Action/,votes:1789089,director:Christopher Nolan\n",
      "detail_url:https://www.imdb.com/title/tt0209144/?ref_=sr_i_74,name:Memento,year:2000,rating:8.4,genre:Thriller/Mystery/,votes:1296794,director:Christopher Nolan\n",
      "detail_url:https://www.imdb.com/title/tt2380307/?ref_=sr_i_75,name:Coco,year:2017,rating:8.4,genre:Drama/Adventure/Animation/,votes:565497,director:Lee Unkrich\n",
      "detail_url:https://www.imdb.com/title/tt0086879/?ref_=sr_i_76,name:Amadeus,year:1984,rating:8.4,genre:Music/Drama/Biography/,votes:420127,director:Milos Forman\n",
      "detail_url:https://www.imdb.com/title/tt0082971/?ref_=sr_i_77,name:Raiders of the Lost Ark,year:1981,rating:8.4,genre:Adventure/Action/,votes:1019253,director:Steven Spielberg\n",
      "detail_url:https://www.imdb.com/title/tt5311514/?ref_=sr_i_78,name:Your Name.,year:2016,rating:8.4,genre:Fantasy/Drama/Animation/,votes:304365,director:Makoto Shinkai\n",
      "detail_url:https://www.imdb.com/title/tt0910970/?ref_=sr_i_79,name:WALL·E,year:2008,rating:8.4,genre:Family/Adventure/Animation/,votes:1173870,director:Andrew Stanton\n",
      "detail_url:https://www.imdb.com/title/tt0057012/?ref_=sr_i_80,name:Dr. Strangelove or: How I Learned to Stop Worrying and Love the Bomb,year:1964,rating:8.4,genre:War/Comedy/,votes:509753,director:Stanley Kubrick\n",
      "detail_url:https://www.imdb.com/title/tt1187043/?ref_=sr_i_81,name:3 Idiots,year:2009,rating:8.4,genre:Drama/Comedy/,votes:422049,director:Rajkumar Hirani\n",
      "detail_url:https://www.imdb.com/title/tt0405094/?ref_=sr_i_82,name:The Lives of Others,year:2006,rating:8.4,genre:Thriller/Mystery/Drama/,votes:403821,director:Florian Henckel von Donnersmarck\n",
      "detail_url:https://www.imdb.com/title/tt8267604/?ref_=sr_i_83,name:Capernaum,year:2018,rating:8.4,genre:Drama/,votes:100893,director:Nadine Labaki\n",
      "detail_url:https://www.imdb.com/title/tt0082096/?ref_=sr_i_84,name:Das Boot,year:1981,rating:8.4,genre:War/Drama/,votes:260386,director:Wolfgang Petersen\n",
      "detail_url:https://www.imdb.com/title/tt0043014/?ref_=sr_i_85,name:Sunset Blvd.,year:1950,rating:8.4,genre:Film-Noir/Drama/,votes:232195,director:Billy Wilder\n",
      "detail_url:https://www.imdb.com/title/tt0050825/?ref_=sr_i_86,name:Paths of Glory,year:1957,rating:8.4,genre:War/Drama/,votes:208022,director:Stanley Kubrick\n",
      "detail_url:https://www.imdb.com/title/tt0051201/?ref_=sr_i_87,name:Witness for the Prosecution,year:1957,rating:8.4,genre:Mystery/Drama/Crime/,votes:133853,director:Billy Wilder\n",
      "detail_url:https://www.imdb.com/title/tt0032553/?ref_=sr_i_88,name:The Great Dictator,year:1940,rating:8.4,genre:War/Drama/Comedy/,votes:233637,director:Charles Chaplin\n",
      "detail_url:https://www.imdb.com/title/tt0057565/?ref_=sr_i_89,name:High and Low,year:1963,rating:8.4,genre:Mystery/Drama/Crime/,votes:50701,director:Akira Kurosawa\n",
      "detail_url:https://www.imdb.com/title/tt10280296/?ref_=sr_i_90,name:Sardar Udham,year:2021,rating:8.4,genre:Drama/Crime/Biography/,votes:45759,director:Shoojit Sircar\n",
      "detail_url:https://www.imdb.com/title/tt9477520/?ref_=sr_i_91,name:Asuran,year:2019,rating:8.4,genre:Drama/Action/,votes:32501,director:Vetrimaaran\n",
      "detail_url:https://www.imdb.com/title/tt12361178/?ref_=sr_i_92,name:Drishyam 2,year:2021,rating:8.4,genre:Thriller/Drama/Crime/,votes:39993,director:Jeethu Joseph\n",
      "detail_url:https://www.imdb.com/title/tt1745960/?ref_=sr_i_93,name:Top Gun: Maverick,year:2022,rating:8.3,genre:Drama/Action/,votes:642650,director:Joseph Kosinski\n",
      "detail_url:https://www.imdb.com/title/tt0169547/?ref_=sr_i_94,name:American Beauty,year:1999,rating:8.3,genre:Drama/,votes:1193003,director:Sam Mendes\n",
      "detail_url:https://www.imdb.com/title/tt0113277/?ref_=sr_i_95,name:Heat,year:1995,rating:8.3,genre:Drama/Crime/Action/,votes:700198,director:Michael Mann\n",
      "detail_url:https://www.imdb.com/title/tt0086250/?ref_=sr_i_96,name:Scarface,year:1983,rating:8.3,genre:Drama/Crime/,votes:893576,director:Brian De Palma\n"
     ]
    },
    {
     "name": "stdout",
     "output_type": "stream",
     "text": [
      "detail_url:https://www.imdb.com/title/tt0180093/?ref_=sr_i_97,name:Requiem for a Dream,year:2000,rating:8.3,genre:Drama/,votes:881463,director:Darren Aronofsky\n",
      "detail_url:https://www.imdb.com/title/tt0338013/?ref_=sr_i_98,name:Eternal Sunshine of the Spotless Mind,year:2004,rating:8.3,genre:Sci-Fi/Romance/Drama/,votes:1054260,director:Michel Gondry\n",
      "detail_url:https://www.imdb.com/title/tt0119217/?ref_=sr_i_99,name:Good Will Hunting,year:1997,rating:8.3,genre:Romance/Drama/,votes:1031758,director:Gus Van Sant\n",
      "detail_url:https://www.imdb.com/title/tt0062622/?ref_=sr_i_100,name:2001: A Space Odyssey,year:1968,rating:8.3,genre:Sci-Fi/Adventure/,votes:704122,director:Stanley Kubrick\n",
      "detail_url:https://www.imdb.com/title/tt0112573/?ref_=sr_i_101,name:Braveheart,year:1995,rating:8.3,genre:History/Drama/Biography/,votes:1074733,director:Mel Gibson\n",
      "detail_url:https://www.imdb.com/title/tt0066921/?ref_=sr_i_102,name:A Clockwork Orange,year:1971,rating:8.3,genre:Sci-Fi/Crime/,votes:865750,director:Stanley Kubrick\n",
      "detail_url:https://www.imdb.com/title/tt0093058/?ref_=sr_i_103,name:Full Metal Jacket,year:1987,rating:8.3,genre:War/Drama/,votes:775575,director:Stanley Kubrick\n",
      "detail_url:https://www.imdb.com/title/tt1049413/?ref_=sr_i_104,name:Up,year:2009,rating:8.3,genre:Comedy/Adventure/Animation/,votes:1099613,director:Pete Docter\n",
      "detail_url:https://www.imdb.com/title/tt0087843/?ref_=sr_i_105,name:Once Upon a Time in America,year:1984,rating:8.3,genre:Drama/Crime/,votes:369908,director:Sergio Leone\n",
      "detail_url:https://www.imdb.com/title/tt2106476/?ref_=sr_i_106,name:The Hunt,year:2012,rating:8.3,genre:Drama/,votes:353861,director:Thomas Vinterberg\n",
      "detail_url:https://www.imdb.com/title/tt0114709/?ref_=sr_i_107,name:Toy Story,year:1995,rating:8.3,genre:Comedy/Adventure/Animation/,votes:1046003,director:John Lasseter\n",
      "detail_url:https://www.imdb.com/title/tt0105236/?ref_=sr_i_108,name:Reservoir Dogs,year:1992,rating:8.3,genre:Thriller/Crime/,votes:1067053,director:Quentin Tarantino\n",
      "detail_url:https://www.imdb.com/title/tt8503618/?ref_=sr_i_109,name:Hamilton,year:2020,rating:8.3,genre:History/Drama/Biography/,votes:108176,director:Thomas Kail\n",
      "detail_url:https://www.imdb.com/title/tt1255953/?ref_=sr_i_110,name:Incendies,year:2010,rating:8.3,genre:War/Mystery/Drama/,votes:191646,director:Denis Villeneuve\n",
      "detail_url:https://www.imdb.com/title/tt0211915/?ref_=sr_i_111,name:Amélie,year:2001,rating:8.3,genre:Romance/Comedy/,votes:782689,director:Jean-Pierre Jeunet\n",
      "detail_url:https://www.imdb.com/title/tt0086190/?ref_=sr_i_112,name:Star Wars: Episode VI - Return of the Jedi,year:1983,rating:8.3,genre:Fantasy/Adventure/Action/,votes:1100717,director:Richard Marquand\n",
      "detail_url:https://www.imdb.com/title/tt0119698/?ref_=sr_i_113,name:Princess Mononoke,year:1997,rating:8.3,genre:Adventure/Action/Animation/,votes:420124,director:Hayao Miyazaki\n",
      "detail_url:https://www.imdb.com/title/tt0435761/?ref_=sr_i_114,name:Toy Story 3,year:2010,rating:8.3,genre:Comedy/Adventure/Animation/,votes:875921,director:Lee Unkrich\n",
      "detail_url:https://www.imdb.com/title/tt0056172/?ref_=sr_i_115,name:Lawrence of Arabia,year:1962,rating:8.3,genre:Drama/Biography/Adventure/,votes:307915,director:David Lean\n",
      "detail_url:https://www.imdb.com/title/tt0033467/?ref_=sr_i_116,name:Citizen Kane,year:1941,rating:8.3,genre:Mystery/Drama/,votes:458975,director:Orson Welles\n",
      "detail_url:https://www.imdb.com/title/tt9179430/?ref_=sr_i_117,name:Vikram,year:2022,rating:8.3,genre:Thriller/Crime/Action/,votes:70131,director:Lokesh Kanagaraj\n",
      "detail_url:https://www.imdb.com/title/tt0056592/?ref_=sr_i_118,name:To Kill a Mockingbird,year:1962,rating:8.3,genre:Drama/Crime/,votes:328032,director:Robert Mulligan\n",
      "detail_url:https://www.imdb.com/title/tt0017136/?ref_=sr_i_119,name:Metropolis,year:1927,rating:8.3,genre:Sci-Fi/Drama/,votes:182139,director:Fritz Lang\n",
      "detail_url:https://www.imdb.com/title/tt0052357/?ref_=sr_i_120,name:Vertigo,year:1958,rating:8.3,genre:Thriller/Romance/Mystery/,votes:419478,director:Alfred Hitchcock\n",
      "detail_url:https://www.imdb.com/title/tt0045152/?ref_=sr_i_121,name:Singin' in the Rain,year:1952,rating:8.3,genre:Romance/Musical/Comedy/,votes:255243,director:Stanley Donen\n",
      "detail_url:https://www.imdb.com/title/tt0070735/?ref_=sr_i_122,name:The Sting,year:1973,rating:8.3,genre:Drama/Crime/Comedy/,votes:274581,director:George Roy Hill\n",
      "detail_url:https://www.imdb.com/title/tt0022100/?ref_=sr_i_123,name:M,year:1931,rating:8.3,genre:Thriller/Mystery/Crime/,votes:165483,director:Fritz Lang\n",
      "detail_url:https://www.imdb.com/title/tt0053125/?ref_=sr_i_124,name:North by Northwest,year:1959,rating:8.3,genre:Mystery/Adventure/Action/,votes:340651,director:Alfred Hitchcock\n",
      "detail_url:https://www.imdb.com/title/tt0053604/?ref_=sr_i_125,name:The Apartment,year:1960,rating:8.3,genre:Romance/Drama/Comedy/,votes:191832,director:Billy Wilder\n",
      "detail_url:https://www.imdb.com/title/tt5074352/?ref_=sr_i_126,name:Dangal,year:2016,rating:8.3,genre:Drama/Biography/Action/,votes:203938,director:Nitesh Tiwari\n",
      "detail_url:https://www.imdb.com/title/tt1832382/?ref_=sr_i_127,name:A Separation,year:2011,rating:8.3,genre:Drama/,votes:254473,director:Asghar Farhadi\n",
      "detail_url:https://www.imdb.com/title/tt0036775/?ref_=sr_i_128,name:Double Indemnity,year:1944,rating:8.3,genre:Film-Noir/Drama/Crime/,votes:164444,director:Billy Wilder\n",
      "detail_url:https://www.imdb.com/title/tt0044741/?ref_=sr_i_129,name:Ikiru,year:1952,rating:8.3,genre:Drama/,votes:84982,director:Akira Kurosawa\n",
      "detail_url:https://www.imdb.com/title/tt0055031/?ref_=sr_i_130,name:Judgment at Nuremberg,year:1961,rating:8.3,genre:War/Drama/,votes:82763,director:Stanley Kramer\n",
      "detail_url:https://www.imdb.com/title/tt0986264/?ref_=sr_i_131,name:Like Stars on Earth,year:2007,rating:8.3,genre:Family/Drama/,votes:202893,director:Aamir Khan\n",
      "detail_url:https://www.imdb.com/title/tt0040522/?ref_=sr_i_132,name:Bicycle Thieves,year:1948,rating:8.3,genre:Drama/,votes:171702,director:Vittorio De Sica\n",
      "detail_url:https://www.imdb.com/title/tt10295212/?ref_=sr_i_133,name:Shershaah,year:2021,rating:8.3,genre:Drama/Biography/Action/,votes:127202,director:Vishnuvardhan\n",
      "detail_url:https://www.imdb.com/title/tt10698680/?ref_=sr_i_134,name:K.G.F: Chapter 2,year:2022,rating:8.3,genre:Drama/Crime/Action/,votes:144505,director:Prashanth Neel\n",
      "detail_url:https://www.imdb.com/title/tt6316138/?ref_=sr_i_135,name:Ayla: The Daughter of War,year:2017,rating:8.3,genre:History/Drama/Biography/,votes:42764,director:Can Ulkay\n",
      "detail_url:https://www.imdb.com/title/tt7060344/?ref_=sr_i_136,name:Raatchasan,year:2018,rating:8.3,genre:Drama/Crime/Action/,votes:48929,director:Ram Kumar\n",
      "detail_url:https://www.imdb.com/title/tt9052870/?ref_=sr_i_137,name:Chhichhore,year:2019,rating:8.3,genre:Romance/Drama/Comedy/,votes:60767,director:Nitesh Tiwari\n",
      "detail_url:https://www.imdb.com/title/tt3417422/?ref_=sr_i_138,name:Drishyam,year:2013,rating:8.3,genre:Thriller/Drama/Crime/,votes:43299,director:Jeethu Joseph\n",
      "detail_url:https://www.imdb.com/title/tt0993846/?ref_=sr_i_139,name:The Wolf of Wall Street,year:2013,rating:8.2,genre:Crime/Comedy/Biography/,votes:1529622,director:Martin Scorsese\n",
      "detail_url:https://www.imdb.com/title/tt10872600/?ref_=sr_i_140,name:Spider-Man: No Way Home,year:2021,rating:8.2,genre:Fantasy/Adventure/Action/,votes:844967,director:Jon Watts\n",
      "detail_url:https://www.imdb.com/title/tt0075314/?ref_=sr_i_141,name:Taxi Driver,year:1976,rating:8.2,genre:Drama/Crime/,votes:895546,director:Martin Scorsese\n",
      "detail_url:https://www.imdb.com/title/tt1130884/?ref_=sr_i_142,name:Shutter Island,year:2010,rating:8.2,genre:Thriller/Mystery/,votes:1411415,director:Martin Scorsese\n",
      "detail_url:https://www.imdb.com/title/tt0477348/?ref_=sr_i_143,name:No Country for Old Men,year:2007,rating:8.2,genre:Thriller/Drama/Crime/,votes:1032828,director:Ethan Coen\n",
      "detail_url:https://www.imdb.com/title/tt0107290/?ref_=sr_i_144,name:Jurassic Park,year:1993,rating:8.2,genre:Sci-Fi/Adventure/Action/,votes:1043104,director:Steven Spielberg\n",
      "detail_url:https://www.imdb.com/title/tt0095016/?ref_=sr_i_145,name:Die Hard,year:1988,rating:8.2,genre:Thriller/Action/,votes:918798,director:John McTiernan\n",
      "detail_url:https://www.imdb.com/title/tt8579674/?ref_=sr_i_146,name:1917,year:2019,rating:8.2,genre:War/Drama/Action/,votes:650771,director:Sam Mendes\n"
     ]
    },
    {
     "name": "stdout",
     "output_type": "stream",
     "text": [
      "detail_url:https://www.imdb.com/title/tt0469494/?ref_=sr_i_147,name:There Will Be Blood,year:2007,rating:8.2,genre:Drama/,votes:625878,director:Paul Thomas Anderson\n",
      "detail_url:https://www.imdb.com/title/tt0084787/?ref_=sr_i_148,name:The Thing,year:1982,rating:8.2,genre:Sci-Fi/Mystery/Horror/,votes:454405,director:John Carpenter\n",
      "detail_url:https://www.imdb.com/title/tt0266697/?ref_=sr_i_149,name:Kill Bill: Vol. 1,year:2003,rating:8.2,genre:Thriller/Crime/Action/,votes:1167251,director:Quentin Tarantino\n",
      "detail_url:https://www.imdb.com/title/tt0120382/?ref_=sr_i_150,name:The Truman Show,year:1998,rating:8.2,genre:Drama/Comedy/,votes:1158870,director:Peter Weir\n",
      "detail_url:https://www.imdb.com/title/tt0434409/?ref_=sr_i_151,name:V for Vendetta,year:2005,rating:8.2,genre:Sci-Fi/Drama/Action/,votes:1161947,director:James McTeigue\n",
      "detail_url:https://www.imdb.com/title/tt0208092/?ref_=sr_i_152,name:Snatch,year:2000,rating:8.2,genre:Crime/Comedy/,votes:892505,director:Guy Ritchie\n",
      "detail_url:https://www.imdb.com/title/tt6966692/?ref_=sr_i_153,name:Green Book,year:2018,rating:8.2,genre:Drama/Comedy/Biography/,votes:543140,director:Peter Farrelly\n",
      "detail_url:https://www.imdb.com/title/tt0372784/?ref_=sr_i_154,name:Batman Begins,year:2005,rating:8.2,genre:Drama/Crime/Action/,votes:1545744,director:Christopher Nolan\n",
      "detail_url:https://www.imdb.com/title/tt0347149/?ref_=sr_i_155,name:Howl's Moving Castle,year:2004,rating:8.2,genre:Family/Adventure/Animation/,votes:430317,director:Hayao Miyazaki\n",
      "detail_url:https://www.imdb.com/title/tt0112641/?ref_=sr_i_156,name:Casino,year:1995,rating:8.2,genre:Drama/Crime/,votes:550710,director:Martin Scorsese\n",
      "detail_url:https://www.imdb.com/title/tt0057115/?ref_=sr_i_157,name:The Great Escape,year:1963,rating:8.2,genre:History/Drama/Adventure/,votes:254704,director:John Sturges\n",
      "detail_url:https://www.imdb.com/title/tt0167404/?ref_=sr_i_158,name:The Sixth Sense,year:1999,rating:8.2,genre:Thriller/Mystery/Drama/,votes:1031948,director:M. Night Shyamalan\n",
      "detail_url:https://www.imdb.com/title/tt0268978/?ref_=sr_i_159,name:A Beautiful Mind,year:2001,rating:8.2,genre:Drama/Biography/,votes:969438,director:Ron Howard\n",
      "detail_url:https://www.imdb.com/title/tt0457430/?ref_=sr_i_160,name:Pan's Labyrinth,year:2006,rating:8.2,genre:War/Fantasy/Drama/,votes:692943,director:Guillermo del Toro\n",
      "detail_url:https://www.imdb.com/title/tt0105695/?ref_=sr_i_161,name:Unforgiven,year:1992,rating:8.2,genre:Western/Drama/,votes:429020,director:Clint Eastwood\n",
      "detail_url:https://www.imdb.com/title/tt0266543/?ref_=sr_i_162,name:Finding Nemo,year:2003,rating:8.2,genre:Comedy/Adventure/Animation/,votes:1091323,director:Andrew Stanton\n",
      "detail_url:https://www.imdb.com/title/tt0119488/?ref_=sr_i_163,name:L.A. Confidential,year:1997,rating:8.2,genre:Mystery/Drama/Crime/,votes:605186,director:Curtis Hanson\n",
      "detail_url:https://www.imdb.com/title/tt0031381/?ref_=sr_i_164,name:Gone with the Wind,year:1939,rating:8.2,genre:War/Romance/Drama/,votes:328550,director:Victor Fleming\n",
      "detail_url:https://www.imdb.com/title/tt4729430/?ref_=sr_i_165,name:Klaus,year:2019,rating:8.2,genre:Comedy/Adventure/Animation/,votes:174549,director:Sergio Pablos\n",
      "detail_url:https://www.imdb.com/title/tt0071315/?ref_=sr_i_166,name:Chinatown,year:1974,rating:8.2,genre:Thriller/Mystery/Drama/,votes:342619,director:Roman Polanski\n",
      "detail_url:https://www.imdb.com/title/tt0363163/?ref_=sr_i_167,name:Downfall,year:2004,rating:8.2,genre:History/Drama/Biography/,votes:369195,director:Oliver Hirschbiegel\n",
      "detail_url:https://www.imdb.com/title/tt10272386/?ref_=sr_i_168,name:The Father,year:2020,rating:8.2,genre:Mystery/Drama/,votes:181292,director:Florian Zeller\n",
      "detail_url:https://www.imdb.com/title/tt0097576/?ref_=sr_i_169,name:Indiana Jones and the Last Crusade,year:1989,rating:8.2,genre:Adventure/Action/,votes:796680,director:Steven Spielberg\n",
      "detail_url:https://www.imdb.com/title/tt0071853/?ref_=sr_i_170,name:Monty Python and the Holy Grail,year:1975,rating:8.2,genre:Fantasy/Comedy/Adventure/,votes:561805,director:Terry Gilliam\n",
      "detail_url:https://www.imdb.com/title/tt0053291/?ref_=sr_i_171,name:Some Like It Hot,year:1959,rating:8.2,genre:Romance/Music/Comedy/,votes:278765,director:Billy Wilder\n",
      "detail_url:https://www.imdb.com/title/tt1305806/?ref_=sr_i_172,name:The Secret in Their Eyes,year:2009,rating:8.2,genre:Romance/Mystery/Drama/,votes:218700,director:Juan José Campanella\n",
      "detail_url:https://www.imdb.com/title/tt0042192/?ref_=sr_i_173,name:All About Eve,year:1950,rating:8.2,genre:Drama/,votes:136686,director:Joseph L. Mankiewicz\n",
      "detail_url:https://www.imdb.com/title/tt0080678/?ref_=sr_i_174,name:The Elephant Man,year:1980,rating:8.2,genre:Drama/Biography/,votes:253695,director:David Lynch\n",
      "detail_url:https://www.imdb.com/title/tt0089881/?ref_=sr_i_175,name:Ran,year:1985,rating:8.2,genre:War/Drama/Action/,votes:133149,director:Akira Kurosawa\n",
      "detail_url:https://www.imdb.com/title/tt0059578/?ref_=sr_i_176,name:For a Few Dollars More,year:1965,rating:8.2,genre:Western/Drama/,votes:269070,director:Sergio Leone\n",
      "detail_url:https://www.imdb.com/title/tt4849438/?ref_=sr_i_177,name:Baahubali 2: The Conclusion,year:2017,rating:8.2,genre:Drama/Action/,votes:110559,director:S.S. Rajamouli\n",
      "detail_url:https://www.imdb.com/title/tt0046912/?ref_=sr_i_178,name:Dial M for Murder,year:1954,rating:8.2,genre:Thriller/Crime/,votes:185119,director:Alfred Hitchcock\n",
      "detail_url:https://www.imdb.com/title/tt0042876/?ref_=sr_i_179,name:Rashomon,year:1950,rating:8.2,genre:Mystery/Drama/Crime/,votes:176943,director:Akira Kurosawa\n",
      "detail_url:https://www.imdb.com/title/tt11032374/?ref_=sr_i_180,name:Demon Slayer: Kimetsu no Yaiba - The Movie: Mugen Train,year:2020,rating:8.2,genre:Adventure/Action/Animation/,votes:69185,director:Haruo Sotozaki\n",
      "detail_url:https://www.imdb.com/title/tt15501640/?ref_=sr_i_181,name:Drishyam 2,year:2022,rating:8.2,genre:Mystery/Drama/Crime/,votes:41503,director:Abhishek Pathak\n",
      "detail_url:https://www.imdb.com/title/tt8239946/?ref_=sr_i_182,name:Tumbbad,year:2018,rating:8.2,genre:Horror/Fantasy/Drama/,votes:56402,director:Rahi Anil Barve\n",
      "detail_url:https://www.imdb.com/title/tt10431500/?ref_=sr_i_183,name:Miracle in Cell No. 7,year:2019,rating:8.2,genre:Drama/,votes:53758,director:Mehmet Ada Öztekin\n",
      "detail_url:https://www.imdb.com/title/tt0055630/?ref_=sr_i_184,name:Yojimbo,year:1961,rating:8.2,genre:Thriller/Drama/Action/,votes:128861,director:Akira Kurosawa\n",
      "detail_url:https://www.imdb.com/title/tt8108198/?ref_=sr_i_185,name:Andhadhun,year:2018,rating:8.2,genre:Thriller/Mystery/Crime/,votes:99874,director:Sriram Raghavan\n",
      "detail_url:https://www.imdb.com/title/tt4430212/?ref_=sr_i_186,name:Drishyam,year:2015,rating:8.2,genre:Mystery/Drama/Crime/,votes:91765,director:Nishikant Kamat\n",
      "detail_url:https://www.imdb.com/title/tt0118849/?ref_=sr_i_187,name:Children of Heaven,year:1997,rating:8.2,genre:Sport/Family/Drama/,votes:78952,director:Majid Majidi\n",
      "detail_url:https://www.imdb.com/title/tt1562872/?ref_=sr_i_188,name:Zindagi Na Milegi Dobara,year:2011,rating:8.2,genre:Musical/Drama/Comedy/,votes:83867,director:Zoya Akhtar\n",
      "detail_url:https://www.imdb.com/title/tt0040897/?ref_=sr_i_189,name:The Treasure of the Sierra Madre,year:1948,rating:8.2,genre:Western/Drama/Adventure/,votes:130488,director:John Huston\n",
      "detail_url:https://www.imdb.com/title/tt0367110/?ref_=sr_i_190,name:Swades,year:2004,rating:8.2,genre:Musical/Drama/,votes:96051,director:Ashutosh Gowariker\n",
      "detail_url:https://www.imdb.com/title/tt0046268/?ref_=sr_i_191,name:The Wages of Fear,year:1953,rating:8.2,genre:Thriller/Drama/Adventure/,votes:65007,director:Henri-Georges Clouzot\n",
      "detail_url:https://www.imdb.com/title/tt0012349/?ref_=sr_i_192,name:The Kid,year:1921,rating:8.2,genre:Family/Drama/Comedy/,votes:132419,director:Charles Chaplin\n",
      "detail_url:https://www.imdb.com/title/tt0035446/?ref_=sr_i_193,name:To Be or Not to Be,year:1942,rating:8.2,genre:War/Romance/Comedy/,votes:41522,director:Ernst Lubitsch\n",
      "detail_url:https://www.imdb.com/title/tt0048473/?ref_=sr_i_194,name:Pather Panchali,year:1955,rating:8.2,genre:Drama/,votes:36900,director:Satyajit Ray\n",
      "detail_url:https://www.imdb.com/title/tt1954470/?ref_=sr_i_195,name:Gangs of Wasseypur,year:2012,rating:8.2,genre:Crime/Comedy/Action/,votes:101615,director:Anurag Kashyap\n"
     ]
    },
    {
     "name": "stdout",
     "output_type": "stream",
     "text": [
      "detail_url:https://www.imdb.com/title/tt0476735/?ref_=sr_i_196,name:My Father and My Son,year:2005,rating:8.2,genre:Family/Drama/,votes:90518,director:Çagan Irmak\n",
      "detail_url:https://www.imdb.com/title/tt15327088/?ref_=sr_i_197,name:Kantara,year:2022,rating:8.2,genre:Drama/Adventure/Action/,votes:99297,director:Rishab Shetty\n",
      "detail_url:https://www.imdb.com/title/tt7838252/?ref_=sr_i_198,name:K.G.F: Chapter 1,year:2018,rating:8.2,genre:Drama/Crime/Action/,votes:95056,director:Prashanth Neel\n",
      "detail_url:https://www.imdb.com/title/tt0065234/?ref_=sr_i_199,name:Z,year:1969,rating:8.2,genre:Thriller/Drama/Crime/,votes:30730,director:Costa-Gavras\n",
      "detail_url:https://www.imdb.com/title/tt0015324/?ref_=sr_i_200,name:Sherlock Jr.,year:1924,rating:8.2,genre:Romance/Comedy/Action/,votes:54925,director:Buster Keaton\n",
      "detail_url:https://www.imdb.com/title/tt8291224/?ref_=sr_i_201,name:Uri: The Surgical Strike,year:2019,rating:8.2,genre:History/Drama/Action/,votes:69858,director:Aditya Dhar\n",
      "detail_url:https://www.imdb.com/title/tt0071411/?ref_=sr_i_202,name:Dersu Uzala,year:1975,rating:8.2,genre:Drama/Biography/Adventure/,votes:32727,director:Akira Kurosawa\n",
      "detail_url:https://www.imdb.com/title/tt0045274/?ref_=sr_i_203,name:Umberto D.,year:1952,rating:8.2,genre:Drama/,votes:27562,director:Vittorio De Sica\n",
      "detail_url:https://www.imdb.com/title/tt7392212/?ref_=sr_i_204,name:Rangasthalam 1985,year:2018,rating:8.2,genre:Drama/Action/,votes:26959,director:Sukumar\n",
      "detail_url:https://www.imdb.com/title/tt6148156/?ref_=sr_i_205,name:Vikram Vedha,year:2017,rating:8.2,genre:Drama/Crime/Action/,votes:49482,director:Gayatri\n",
      "detail_url:https://www.imdb.com/title/tt2356180/?ref_=sr_i_206,name:Bhaag Milkha Bhaag,year:2013,rating:8.2,genre:Sport/Drama/Biography/,votes:71167,director:Rakeysh Omprakash Mehra\n",
      "detail_url:https://www.imdb.com/title/tt1620933/?ref_=sr_i_207,name:Paan Singh Tomar,year:2012,rating:8.2,genre:Crime/Biography/Action/,votes:37486,director:Tigmanshu Dhulia\n",
      "detail_url:https://www.imdb.com/title/tt2096673/?ref_=sr_i_208,name:Inside Out,year:2015,rating:8.1,genre:Comedy/Adventure/Animation/,votes:762934,director:Pete Docter\n",
      "detail_url:https://www.imdb.com/title/tt2267998/?ref_=sr_i_209,name:Gone Girl,year:2014,rating:8.1,genre:Thriller/Mystery/Drama/,votes:1040517,director:David Fincher\n",
      "detail_url:https://www.imdb.com/title/tt0118715/?ref_=sr_i_210,name:The Big Lebowski,year:1998,rating:8.1,genre:Crime/Comedy/,votes:844751,director:Joel Coen\n",
      "detail_url:https://www.imdb.com/title/tt1392214/?ref_=sr_i_211,name:Prisoners,year:2013,rating:8.1,genre:Mystery/Drama/Crime/,votes:780925,director:Denis Villeneuve\n",
      "detail_url:https://www.imdb.com/title/tt0382932/?ref_=sr_i_212,name:Ratatouille,year:2007,rating:8.1,genre:Comedy/Adventure/Animation/,votes:797850,director:Brad Bird\n",
      "detail_url:https://www.imdb.com/title/tt0083658/?ref_=sr_i_213,name:Blade Runner,year:1982,rating:8.1,genre:Sci-Fi/Drama/Action/,votes:806544,director:Ridley Scott\n",
      "detail_url:https://www.imdb.com/title/tt0116282/?ref_=sr_i_214,name:Fargo,year:1996,rating:8.1,genre:Thriller/Crime/,votes:708425,director:Joel Coen\n",
      "detail_url:https://www.imdb.com/title/tt1392190/?ref_=sr_i_215,name:Mad Max: Fury Road,year:2015,rating:8.1,genre:Sci-Fi/Adventure/Action/,votes:1056974,director:George Miller\n",
      "detail_url:https://www.imdb.com/title/tt0325980/?ref_=sr_i_216,name:Pirates of the Caribbean: The Curse of the Black Pearl,year:2003,rating:8.1,genre:Fantasy/Adventure/Action/,votes:1183797,director:Gore Verbinski\n",
      "detail_url:https://www.imdb.com/title/tt0070047/?ref_=sr_i_217,name:The Exorcist,year:1973,rating:8.1,genre:Horror/,votes:445089,director:William Friedkin\n",
      "detail_url:https://www.imdb.com/title/tt2119532/?ref_=sr_i_218,name:Hacksaw Ridge,year:2016,rating:8.1,genre:History/Drama/Biography/,votes:574831,director:Mel Gibson\n",
      "detail_url:https://www.imdb.com/title/tt2278388/?ref_=sr_i_219,name:The Grand Budapest Hotel,year:2014,rating:8.1,genre:Crime/Comedy/Adventure/,votes:866289,director:Wes Anderson\n",
      "detail_url:https://www.imdb.com/title/tt0264464/?ref_=sr_i_220,name:Catch Me If You Can,year:2002,rating:8.1,genre:Drama/Crime/Biography/,votes:1060635,director:Steven Spielberg\n",
      "detail_url:https://www.imdb.com/title/tt0092005/?ref_=sr_i_221,name:Stand by Me,year:1986,rating:8.1,genre:Drama/Comedy/Adventure/,votes:431060,director:Rob Reiner\n",
      "detail_url:https://www.imdb.com/title/tt1201607/?ref_=sr_i_222,name:Harry Potter and the Deathly Hallows: Part 2,year:2011,rating:8.1,genre:Fantasy/Family/Adventure/,votes:925519,director:David Yates\n",
      "detail_url:https://www.imdb.com/title/tt0075148/?ref_=sr_i_223,name:Rocky,year:1976,rating:8.1,genre:Sport/Drama/,votes:615185,director:John G. Avildsen\n",
      "detail_url:https://www.imdb.com/title/tt3170832/?ref_=sr_i_224,name:Room,year:2015,rating:8.1,genre:Thriller/Drama/,votes:441781,director:Lenny Abrahamson\n",
      "detail_url:https://www.imdb.com/title/tt0088247/?ref_=sr_i_225,name:The Terminator,year:1984,rating:8.1,genre:Sci-Fi/Action/,votes:906607,director:James Cameron\n",
      "detail_url:https://www.imdb.com/title/tt0097165/?ref_=sr_i_226,name:Dead Poets Society,year:1989,rating:8.1,genre:Drama/Comedy/,votes:528165,director:Peter Weir\n",
      "detail_url:https://www.imdb.com/title/tt1950186/?ref_=sr_i_227,name:Ford v Ferrari,year:2019,rating:8.1,genre:Drama/Biography/Action/,votes:444834,director:James Mangold\n",
      "detail_url:https://www.imdb.com/title/tt0073195/?ref_=sr_i_228,name:Jaws,year:1975,rating:8.1,genre:Thriller/Mystery/Adventure/,votes:645827,director:Steven Spielberg\n",
      "detail_url:https://www.imdb.com/title/tt0077416/?ref_=sr_i_229,name:The Deer Hunter,year:1978,rating:8.1,genre:War/Drama/,votes:355218,director:Michael Cimino\n",
      "detail_url:https://www.imdb.com/title/tt4016934/?ref_=sr_i_230,name:The Handmaiden,year:2016,rating:8.1,genre:Thriller/Romance/Drama/,votes:165580,director:Park Chan-wook\n",
      "detail_url:https://www.imdb.com/title/tt1454029/?ref_=sr_i_231,name:The Help,year:2011,rating:8.1,genre:Drama/,votes:483030,director:Tate Taylor\n",
      "detail_url:https://www.imdb.com/title/tt0758758/?ref_=sr_i_232,name:Into the Wild,year:2007,rating:8.1,genre:Drama/Biography/Adventure/,votes:647178,director:Sean Penn\n",
      "detail_url:https://www.imdb.com/title/tt0036868/?ref_=sr_i_233,name:The Best Years of Our Lives,year:1946,rating:8.1,genre:War/Romance/Drama/,votes:68990,director:William Wyler\n",
      "detail_url:https://www.imdb.com/title/tt3315342/?ref_=sr_i_234,name:Logan,year:2017,rating:8.1,genre:Sci-Fi/Drama/Action/,votes:810736,director:James Mangold\n",
      "detail_url:https://www.imdb.com/title/tt0032138/?ref_=sr_i_235,name:The Wizard of Oz,year:1939,rating:8.1,genre:Fantasy/Family/Adventure/,votes:419809,director:Victor Fleming\n",
      "detail_url:https://www.imdb.com/title/tt0117951/?ref_=sr_i_236,name:Trainspotting,year:1996,rating:8.1,genre:Drama/,votes:713957,director:Danny Boyle\n",
      "detail_url:https://www.imdb.com/title/tt0091763/?ref_=sr_i_237,name:Platoon,year:1986,rating:8.1,genre:War/Drama/,votes:431187,director:Oliver Stone\n",
      "detail_url:https://www.imdb.com/title/tt5027774/?ref_=sr_i_238,name:Three Billboards Outside Ebbing, Missouri,year:2017,rating:8.1,genre:Drama/Crime/Comedy/,votes:541051,director:Martin McDonagh\n",
      "detail_url:https://www.imdb.com/title/tt1205489/?ref_=sr_i_239,name:Gran Torino,year:2008,rating:8.1,genre:Drama/,votes:803001,director:Clint Eastwood\n",
      "detail_url:https://www.imdb.com/title/tt0059742/?ref_=sr_i_240,name:The Sound of Music,year:1965,rating:8.1,genre:Family/Drama/Biography/,votes:251827,director:Robert Wise\n",
      "detail_url:https://www.imdb.com/title/tt0198781/?ref_=sr_i_241,name:Monsters, Inc.,year:2001,rating:8.1,genre:Comedy/Adventure/Animation/,votes:957382,director:Pete Docter\n",
      "detail_url:https://www.imdb.com/title/tt2024544/?ref_=sr_i_242,name:12 Years a Slave,year:2013,rating:8.1,genre:History/Drama/Biography/,votes:729520,director:Steve McQueen\n",
      "detail_url:https://www.imdb.com/title/tt0112471/?ref_=sr_i_243,name:Before Sunrise,year:1995,rating:8.1,genre:Romance/Drama/,votes:330819,director:Richard Linklater\n",
      "detail_url:https://www.imdb.com/title/tt0353969/?ref_=sr_i_244,name:Memories of Murder,year:2003,rating:8.1,genre:Mystery/Drama/Crime/,votes:206885,director:Bong Joon Ho\n",
      "detail_url:https://www.imdb.com/title/tt0120735/?ref_=sr_i_245,name:Lock, Stock and Two Smoking Barrels,year:1998,rating:8.1,genre:Crime/Comedy/Action/,votes:606384,director:Guy Ritchie\n"
     ]
    },
    {
     "name": "stdout",
     "output_type": "stream",
     "text": [
      "detail_url:https://www.imdb.com/title/tt1895587/?ref_=sr_i_246,name:Spotlight,year:2015,rating:8.1,genre:Drama/Crime/Biography/,votes:492968,director:Tom McCarthy\n",
      "detail_url:https://www.imdb.com/title/tt0892769/?ref_=sr_i_247,name:How to Train Your Dragon,year:2010,rating:8.1,genre:Adventure/Action/Animation/,votes:781912,director:Dean DeBlois\n",
      "detail_url:https://www.imdb.com/title/tt1979320/?ref_=sr_i_248,name:Rush,year:2013,rating:8.1,genre:Drama/Biography/Action/,votes:503406,director:Ron Howard\n",
      "detail_url:https://www.imdb.com/title/tt1291584/?ref_=sr_i_249,name:Warrior,year:2011,rating:8.1,genre:Sport/Drama/Action/,votes:490387,director:Gavin O'Connor\n",
      "detail_url:https://www.imdb.com/title/tt0081398/?ref_=sr_i_250,name:Raging Bull,year:1980,rating:8.1,genre:Sport/Drama/Biography/,votes:372361,director:Martin Scorsese\n"
     ]
    }
   ],
   "source": [
    "#Add head to avoid reptilian mechanisms\n",
    "head = {\"user-agent\": \"Mozilla/5.0 (Windows NT 10.0; Win64; x64) AppleWebKit/537.36 (KHTML, like Gecko) Chrome/94.0.4606.71 Safari/537.36\", \"accept\": \"text/html,application/xhtml+xml,application/xml;q=0.9,image/avif,image/webp,image/apng,*/*;q=0.8,application/signed-exchange;v=b3;q=0.9\",\"cookie\": \"ubid-main=132-4192576-6680413; session-id=136-4714236-1786163; session-id-time=2082787201l; ad-oo=0; csm-hit=tb:9GEW5PCN0MVBAWV8V62A+s-9GEW5PCN0MVBAWV8V62A|1700917598269&t:1700917598269&adb:adblk_no\"}\n",
    "# Obtain top 500 IMDB data\n",
    "for url in urls:\n",
    "    soup=htmlContent(url,head)\n",
    "    movies = soup.findAll('div',attrs={'class':'sc-21df249b-4 jIogGj dli-parent'})\n",
    "    for movie in movies:\n",
    "        detail_url = 'https://www.imdb.com' + movie.find('a', class_='ipc-lockup-overlay ipc-focusable').get('href')\n",
    "        response_detail_soup = htmlContent(detail_url,head)\n",
    "        movie_detail_top=response_detail_soup.find('div',attrs={'class':'sc-e226b0e3-3 dwkouE'})\n",
    "        name=movie_detail_top.find('span',attrs={'class':'sc-7f1a92f5-1 benbRT'}).text\n",
    "        movie_name.append(name)\n",
    "        year=movie_detail_top.find('ul').find_all('li')[0].text\n",
    "        movie_year.append(year)\n",
    "        rating=movie_detail_top.find('div',attrs={'class':'sc-bde20123-2 cdQqzc'}).span.text\n",
    "        movie_rating.append(rating)\n",
    "        categorys_list=response_detail_soup.find('div',attrs={'class':'ipc-chip-list__scroller'}).findAll('a')\n",
    "        director=response_detail_soup.find('a',attrs={'class':'ipc-metadata-list-item__list-content-item ipc-metadata-list-item__list-content-item--link'}).text\n",
    "        movie_director.append(director)\n",
    "        votes=movie.find('div',attrs={'class':'sc-21df249b-0 jmcDPS'}).text.replace('Votes','').replace(',','')\n",
    "        movie_votes.append(votes)\n",
    "        categroys=''\n",
    "        for categroy in categorys_list:\n",
    "            categroys=categroy.text+'/'+categroys\n",
    "        movie_genre.append(categroys)\n",
    "        print(f'detail_url:{detail_url},name:{name},year:{year},rating:{rating},genre:{categroys},votes:{votes},director:{director}')\n",
    "    "
   ]
  },
  {
   "cell_type": "code",
   "execution_count": 24,
   "metadata": {},
   "outputs": [],
   "source": [
    "# Define Define df\n",
    "df_top_500 = pd.DataFrame({'name':movie_name,\n",
    "                         'year':movie_year,\n",
    "                         'genre': movie_genre,\n",
    "                         'rating':movie_rating,\n",
    "                         'director':movie_director,\n",
    "                         'votes':movie_votes\n",
    "                        })"
   ]
  },
  {
   "cell_type": "code",
   "execution_count": 28,
   "metadata": {},
   "outputs": [
    {
     "data": {
      "text/plain": [
       "(500, 6)"
      ]
     },
     "execution_count": 28,
     "metadata": {},
     "output_type": "execute_result"
    }
   ],
   "source": [
    "df_top_500.shape"
   ]
  },
  {
   "cell_type": "code",
   "execution_count": 29,
   "metadata": {},
   "outputs": [
    {
     "data": {
      "text/html": [
       "<div>\n",
       "<style scoped>\n",
       "    .dataframe tbody tr th:only-of-type {\n",
       "        vertical-align: middle;\n",
       "    }\n",
       "\n",
       "    .dataframe tbody tr th {\n",
       "        vertical-align: top;\n",
       "    }\n",
       "\n",
       "    .dataframe thead th {\n",
       "        text-align: right;\n",
       "    }\n",
       "</style>\n",
       "<table border=\"1\" class=\"dataframe\">\n",
       "  <thead>\n",
       "    <tr style=\"text-align: right;\">\n",
       "      <th></th>\n",
       "      <th>name</th>\n",
       "      <th>year</th>\n",
       "      <th>genre</th>\n",
       "      <th>rating</th>\n",
       "      <th>director</th>\n",
       "      <th>votes</th>\n",
       "    </tr>\n",
       "  </thead>\n",
       "  <tbody>\n",
       "    <tr>\n",
       "      <th>0</th>\n",
       "      <td>The Shawshank Redemption</td>\n",
       "      <td>1994</td>\n",
       "      <td>Drama/</td>\n",
       "      <td>9.3</td>\n",
       "      <td>Frank Darabont</td>\n",
       "      <td>2823006</td>\n",
       "    </tr>\n",
       "    <tr>\n",
       "      <th>1</th>\n",
       "      <td>The Godfather</td>\n",
       "      <td>1972</td>\n",
       "      <td>Drama/Crime/</td>\n",
       "      <td>9.2</td>\n",
       "      <td>Francis Ford Coppola</td>\n",
       "      <td>1967702</td>\n",
       "    </tr>\n",
       "    <tr>\n",
       "      <th>2</th>\n",
       "      <td>The Dark Knight</td>\n",
       "      <td>2008</td>\n",
       "      <td>Drama/Crime/Action/</td>\n",
       "      <td>9.0</td>\n",
       "      <td>Christopher Nolan</td>\n",
       "      <td>2804534</td>\n",
       "    </tr>\n",
       "    <tr>\n",
       "      <th>3</th>\n",
       "      <td>Schindler's List</td>\n",
       "      <td>1993</td>\n",
       "      <td>History/Drama/Biography/</td>\n",
       "      <td>9.0</td>\n",
       "      <td>Steven Spielberg</td>\n",
       "      <td>1418899</td>\n",
       "    </tr>\n",
       "    <tr>\n",
       "      <th>4</th>\n",
       "      <td>The Godfather Part II</td>\n",
       "      <td>1974</td>\n",
       "      <td>Drama/Crime/</td>\n",
       "      <td>9.0</td>\n",
       "      <td>Francis Ford Coppola</td>\n",
       "      <td>1335658</td>\n",
       "    </tr>\n",
       "  </tbody>\n",
       "</table>\n",
       "</div>"
      ],
      "text/plain": [
       "                       name  year                     genre  rating  \\\n",
       "0  The Shawshank Redemption  1994                    Drama/     9.3   \n",
       "1             The Godfather  1972              Drama/Crime/     9.2   \n",
       "2           The Dark Knight  2008       Drama/Crime/Action/     9.0   \n",
       "3          Schindler's List  1993  History/Drama/Biography/     9.0   \n",
       "4     The Godfather Part II  1974              Drama/Crime/     9.0   \n",
       "\n",
       "               director    votes  \n",
       "0        Frank Darabont  2823006  \n",
       "1  Francis Ford Coppola  1967702  \n",
       "2     Christopher Nolan  2804534  \n",
       "3      Steven Spielberg  1418899  \n",
       "4  Francis Ford Coppola  1335658  "
      ]
     },
     "execution_count": 29,
     "metadata": {},
     "output_type": "execute_result"
    }
   ],
   "source": [
    "df_top_500.head()"
   ]
  },
  {
   "cell_type": "code",
   "execution_count": 9,
   "metadata": {},
   "outputs": [],
   "source": [
    "# For the convenience of storing a local store\n",
    "# df_top_500.to_csv('Imdb_top_500.csv', encoding='utf-8', index=False)"
   ]
  },
  {
   "cell_type": "code",
   "execution_count": 27,
   "metadata": {},
   "outputs": [],
   "source": [
    "df_top_500=pd.read_csv('Imdb_top_500.csv')"
   ]
  },
  {
   "cell_type": "markdown",
   "metadata": {
    "id": "hoUjq1tPzz7P"
   },
   "source": [
    "#### Dataset 2 (Horror Movie Dataset from kaggle)\n",
    "\n",
    "Type: CSV\n",
    "\n",
    "Method: Download manually from Kaggle <br>(https://www.kaggle.com/datasets/shreyanshverma27/imdb-horror-chilling-movie-dataset)\n",
    "\n",
    "Dataset variables:\n",
    "\n",
    "*   __*Movie Title:*__ Name of the movie\n",
    "*   __*Movie Year:*__ Make Year of the movie\n",
    "*   __*Genre:*__ Genre of the movie\n",
    "*   __*Rating:*__ Rating of the movie\n",
    "*   __*Director:*__ Name of the director\n",
    "*   __*Votes:*__ Number of votes of the movie"
   ]
  },
  {
   "cell_type": "code",
   "execution_count": 76,
   "metadata": {},
   "outputs": [],
   "source": [
    "# Unified bytecode\n",
    "# df_horror = pd.read_csv('Horror_Movies_download.csv', encoding='Latin-1')\n",
    "# df_horror.to_csv('output.csv', encoding='utf-8', index=False)"
   ]
  },
  {
   "cell_type": "code",
   "execution_count": 12,
   "metadata": {},
   "outputs": [
    {
     "data": {
      "text/html": [
       "<div>\n",
       "<style scoped>\n",
       "    .dataframe tbody tr th:only-of-type {\n",
       "        vertical-align: middle;\n",
       "    }\n",
       "\n",
       "    .dataframe tbody tr th {\n",
       "        vertical-align: top;\n",
       "    }\n",
       "\n",
       "    .dataframe thead th {\n",
       "        text-align: right;\n",
       "    }\n",
       "</style>\n",
       "<table border=\"1\" class=\"dataframe\">\n",
       "  <thead>\n",
       "    <tr style=\"text-align: right;\">\n",
       "      <th></th>\n",
       "      <th>name</th>\n",
       "      <th>year</th>\n",
       "      <th>genre</th>\n",
       "      <th>rating</th>\n",
       "      <th>director</th>\n",
       "      <th>votes</th>\n",
       "    </tr>\n",
       "  </thead>\n",
       "  <tbody>\n",
       "    <tr>\n",
       "      <th>0</th>\n",
       "      <td>Alien</td>\n",
       "      <td>1979</td>\n",
       "      <td>Horror/Sci-Fi</td>\n",
       "      <td>8.5</td>\n",
       "      <td>Ridley Scott</td>\n",
       "      <td>905275</td>\n",
       "    </tr>\n",
       "    <tr>\n",
       "      <th>1</th>\n",
       "      <td>Psycho</td>\n",
       "      <td>1960</td>\n",
       "      <td>Horror/Mystery/Thriller</td>\n",
       "      <td>8.5</td>\n",
       "      <td>Alfred Hitchcock</td>\n",
       "      <td>689068</td>\n",
       "    </tr>\n",
       "    <tr>\n",
       "      <th>2</th>\n",
       "      <td>The Shining</td>\n",
       "      <td>1980</td>\n",
       "      <td>Drama/Horror</td>\n",
       "      <td>8.4</td>\n",
       "      <td>Stanley Kubrick</td>\n",
       "      <td>1051582</td>\n",
       "    </tr>\n",
       "    <tr>\n",
       "      <th>3</th>\n",
       "      <td>The Thing</td>\n",
       "      <td>1982</td>\n",
       "      <td>Horror/Mystery/Sci-Fi</td>\n",
       "      <td>8.2</td>\n",
       "      <td>John Carpenter</td>\n",
       "      <td>439793</td>\n",
       "    </tr>\n",
       "    <tr>\n",
       "      <th>4</th>\n",
       "      <td>Tumbbad</td>\n",
       "      <td>2018</td>\n",
       "      <td>Drama/Fantasy/Horror</td>\n",
       "      <td>8.2</td>\n",
       "      <td>Rahi Anil Barve</td>\n",
       "      <td>53,297</td>\n",
       "    </tr>\n",
       "    <tr>\n",
       "      <th>...</th>\n",
       "      <td>...</td>\n",
       "      <td>...</td>\n",
       "      <td>...</td>\n",
       "      <td>...</td>\n",
       "      <td>...</td>\n",
       "      <td>...</td>\n",
       "    </tr>\n",
       "    <tr>\n",
       "      <th>831</th>\n",
       "      <td>Troll 2</td>\n",
       "      <td>1990</td>\n",
       "      <td>Comedy/Fantasy/Horror</td>\n",
       "      <td>2.9</td>\n",
       "      <td>Claudio Fragasso</td>\n",
       "      <td>33,908</td>\n",
       "    </tr>\n",
       "    <tr>\n",
       "      <th>832</th>\n",
       "      <td>Laxmii</td>\n",
       "      <td>2020</td>\n",
       "      <td>Action/Comedy/Horror</td>\n",
       "      <td>2.5</td>\n",
       "      <td>Raghava Lawrence</td>\n",
       "      <td>58,053</td>\n",
       "    </tr>\n",
       "    <tr>\n",
       "      <th>833</th>\n",
       "      <td>Alone in the Dark</td>\n",
       "      <td>2005</td>\n",
       "      <td>Action/Horror/Sci-Fi</td>\n",
       "      <td>2.4</td>\n",
       "      <td>Uwe Boll</td>\n",
       "      <td>46,403</td>\n",
       "    </tr>\n",
       "    <tr>\n",
       "      <th>834</th>\n",
       "      <td>House of the Dead</td>\n",
       "      <td>2003</td>\n",
       "      <td>Action/Adventure/Horror</td>\n",
       "      <td>2.1</td>\n",
       "      <td>Uwe Boll</td>\n",
       "      <td>38,041</td>\n",
       "    </tr>\n",
       "    <tr>\n",
       "      <th>835</th>\n",
       "      <td>Manos: The Hands of Fate</td>\n",
       "      <td>1966</td>\n",
       "      <td>Horror</td>\n",
       "      <td>1.6</td>\n",
       "      <td>Harold P. Warren</td>\n",
       "      <td>37,060</td>\n",
       "    </tr>\n",
       "  </tbody>\n",
       "</table>\n",
       "<p>836 rows × 6 columns</p>\n",
       "</div>"
      ],
      "text/plain": [
       "                         name  year                    genre  rating  \\\n",
       "0                       Alien  1979            Horror/Sci-Fi     8.5   \n",
       "1                      Psycho  1960  Horror/Mystery/Thriller     8.5   \n",
       "2                 The Shining  1980             Drama/Horror     8.4   \n",
       "3                   The Thing  1982    Horror/Mystery/Sci-Fi     8.2   \n",
       "4                     Tumbbad  2018     Drama/Fantasy/Horror     8.2   \n",
       "..                        ...   ...                      ...     ...   \n",
       "831                   Troll 2  1990    Comedy/Fantasy/Horror     2.9   \n",
       "832                    Laxmii  2020     Action/Comedy/Horror     2.5   \n",
       "833         Alone in the Dark  2005     Action/Horror/Sci-Fi     2.4   \n",
       "834         House of the Dead  2003  Action/Adventure/Horror     2.1   \n",
       "835  Manos: The Hands of Fate  1966                   Horror     1.6   \n",
       "\n",
       "             director    votes  \n",
       "0        Ridley Scott   905275  \n",
       "1    Alfred Hitchcock   689068  \n",
       "2     Stanley Kubrick  1051582  \n",
       "3      John Carpenter   439793  \n",
       "4     Rahi Anil Barve   53,297  \n",
       "..                ...      ...  \n",
       "831  Claudio Fragasso   33,908  \n",
       "832  Raghava Lawrence   58,053  \n",
       "833          Uwe Boll   46,403  \n",
       "834          Uwe Boll   38,041  \n",
       "835  Harold P. Warren   37,060  \n",
       "\n",
       "[836 rows x 6 columns]"
      ]
     },
     "execution_count": 12,
     "metadata": {},
     "output_type": "execute_result"
    }
   ],
   "source": [
    "# Load the second type of data\n",
    "df_horror = pd.read_csv('Horror_Movies_download_utf-8.csv')\n",
    "df_horror"
   ]
  },
  {
   "cell_type": "markdown",
   "metadata": {},
   "source": [
    "Optional data storing step: You may save your raw dataset files to the local data store before moving to the next step."
   ]
  },
  {
   "cell_type": "code",
   "execution_count": 13,
   "metadata": {},
   "outputs": [],
   "source": [
    "#Optional: store the raw data in your local data store"
   ]
  },
  {
   "cell_type": "markdown",
   "metadata": {
    "id": "QwSWIVmotLgV"
   },
   "source": [
    "## 2. Assess data\n",
    "\n",
    "Assess the data according to data quality and tidiness metrics using the report below.\n",
    "\n",
    "List **two** data quality issues and **two** tidiness issues. Assess each data issue visually **and** programmatically, then briefly describe the issue you find.  **Make sure you include justifications for the methods you use for the assessment.**"
   ]
  },
  {
   "cell_type": "markdown",
   "metadata": {
    "id": "adaK2iPNzVu4"
   },
   "source": [
    "### Quality Issue 1:"
   ]
  },
  {
   "cell_type": "markdown",
   "metadata": {},
   "source": [
    "#### Inspecting the dataframe visually"
   ]
  },
  {
   "cell_type": "code",
   "execution_count": 17,
   "metadata": {
    "id": "SpW59kh-zl8d"
   },
   "outputs": [
    {
     "data": {
      "text/html": [
       "<div>\n",
       "<style scoped>\n",
       "    .dataframe tbody tr th:only-of-type {\n",
       "        vertical-align: middle;\n",
       "    }\n",
       "\n",
       "    .dataframe tbody tr th {\n",
       "        vertical-align: top;\n",
       "    }\n",
       "\n",
       "    .dataframe thead th {\n",
       "        text-align: right;\n",
       "    }\n",
       "</style>\n",
       "<table border=\"1\" class=\"dataframe\">\n",
       "  <thead>\n",
       "    <tr style=\"text-align: right;\">\n",
       "      <th></th>\n",
       "      <th>name</th>\n",
       "      <th>year</th>\n",
       "      <th>genre</th>\n",
       "      <th>rating</th>\n",
       "      <th>director</th>\n",
       "      <th>votes</th>\n",
       "    </tr>\n",
       "  </thead>\n",
       "  <tbody>\n",
       "    <tr>\n",
       "      <th>0</th>\n",
       "      <td>The Shawshank Redemption</td>\n",
       "      <td>1994</td>\n",
       "      <td>Drama/</td>\n",
       "      <td>9.3</td>\n",
       "      <td>Frank Darabont</td>\n",
       "      <td>2823006</td>\n",
       "    </tr>\n",
       "    <tr>\n",
       "      <th>1</th>\n",
       "      <td>The Godfather</td>\n",
       "      <td>1972</td>\n",
       "      <td>Drama/Crime/</td>\n",
       "      <td>9.2</td>\n",
       "      <td>Francis Ford Coppola</td>\n",
       "      <td>1967702</td>\n",
       "    </tr>\n",
       "    <tr>\n",
       "      <th>2</th>\n",
       "      <td>The Dark Knight</td>\n",
       "      <td>2008</td>\n",
       "      <td>Drama/Crime/Action/</td>\n",
       "      <td>9.0</td>\n",
       "      <td>Christopher Nolan</td>\n",
       "      <td>2804534</td>\n",
       "    </tr>\n",
       "    <tr>\n",
       "      <th>3</th>\n",
       "      <td>Schindler's List</td>\n",
       "      <td>1993</td>\n",
       "      <td>History/Drama/Biography/</td>\n",
       "      <td>9.0</td>\n",
       "      <td>Steven Spielberg</td>\n",
       "      <td>1418899</td>\n",
       "    </tr>\n",
       "    <tr>\n",
       "      <th>4</th>\n",
       "      <td>The Godfather Part II</td>\n",
       "      <td>1974</td>\n",
       "      <td>Drama/Crime/</td>\n",
       "      <td>9.0</td>\n",
       "      <td>Francis Ford Coppola</td>\n",
       "      <td>1335658</td>\n",
       "    </tr>\n",
       "    <tr>\n",
       "      <th>5</th>\n",
       "      <td>The Lord of the Rings: The Return of the King</td>\n",
       "      <td>2003</td>\n",
       "      <td>Drama/Adventure/Action/</td>\n",
       "      <td>9.0</td>\n",
       "      <td>Peter Jackson</td>\n",
       "      <td>1933086</td>\n",
       "    </tr>\n",
       "    <tr>\n",
       "      <th>6</th>\n",
       "      <td>12 Angry Men</td>\n",
       "      <td>1957</td>\n",
       "      <td>Drama/Crime/</td>\n",
       "      <td>9.0</td>\n",
       "      <td>Sidney Lumet</td>\n",
       "      <td>841634</td>\n",
       "    </tr>\n",
       "    <tr>\n",
       "      <th>7</th>\n",
       "      <td>Pulp Fiction</td>\n",
       "      <td>1994</td>\n",
       "      <td>Drama/Crime/</td>\n",
       "      <td>8.9</td>\n",
       "      <td>Quentin Tarantino</td>\n",
       "      <td>2164808</td>\n",
       "    </tr>\n",
       "    <tr>\n",
       "      <th>8</th>\n",
       "      <td>Fight Club</td>\n",
       "      <td>1999</td>\n",
       "      <td>Drama/</td>\n",
       "      <td>8.8</td>\n",
       "      <td>David Fincher</td>\n",
       "      <td>2258438</td>\n",
       "    </tr>\n",
       "    <tr>\n",
       "      <th>9</th>\n",
       "      <td>Inception</td>\n",
       "      <td>2010</td>\n",
       "      <td>Sci-Fi/Adventure/Action/</td>\n",
       "      <td>8.8</td>\n",
       "      <td>Christopher Nolan</td>\n",
       "      <td>2489331</td>\n",
       "    </tr>\n",
       "  </tbody>\n",
       "</table>\n",
       "</div>"
      ],
      "text/plain": [
       "                                            name  year  \\\n",
       "0                       The Shawshank Redemption  1994   \n",
       "1                                  The Godfather  1972   \n",
       "2                                The Dark Knight  2008   \n",
       "3                               Schindler's List  1993   \n",
       "4                          The Godfather Part II  1974   \n",
       "5  The Lord of the Rings: The Return of the King  2003   \n",
       "6                                   12 Angry Men  1957   \n",
       "7                                   Pulp Fiction  1994   \n",
       "8                                     Fight Club  1999   \n",
       "9                                      Inception  2010   \n",
       "\n",
       "                      genre  rating              director    votes  \n",
       "0                    Drama/     9.3        Frank Darabont  2823006  \n",
       "1              Drama/Crime/     9.2  Francis Ford Coppola  1967702  \n",
       "2       Drama/Crime/Action/     9.0     Christopher Nolan  2804534  \n",
       "3  History/Drama/Biography/     9.0      Steven Spielberg  1418899  \n",
       "4              Drama/Crime/     9.0  Francis Ford Coppola  1335658  \n",
       "5   Drama/Adventure/Action/     9.0         Peter Jackson  1933086  \n",
       "6              Drama/Crime/     9.0          Sidney Lumet   841634  \n",
       "7              Drama/Crime/     8.9     Quentin Tarantino  2164808  \n",
       "8                    Drama/     8.8         David Fincher  2258438  \n",
       "9  Sci-Fi/Adventure/Action/     8.8     Christopher Nolan  2489331  "
      ]
     },
     "execution_count": 17,
     "metadata": {},
     "output_type": "execute_result"
    }
   ],
   "source": [
    "#FILL IN - Inspecting the dataframe visually\n",
    "df_top_500.head(10)"
   ]
  },
  {
   "cell_type": "code",
   "execution_count": 20,
   "metadata": {
    "scrolled": true
   },
   "outputs": [
    {
     "name": "stdout",
     "output_type": "stream",
     "text": [
      "<class 'pandas.core.frame.DataFrame'>\n",
      "RangeIndex: 500 entries, 0 to 499\n",
      "Data columns (total 6 columns):\n",
      " #   Column    Non-Null Count  Dtype  \n",
      "---  ------    --------------  -----  \n",
      " 0   name      500 non-null    object \n",
      " 1   year      500 non-null    int64  \n",
      " 2   genre     500 non-null    object \n",
      " 3   rating    500 non-null    float64\n",
      " 4   director  500 non-null    object \n",
      " 5   votes     500 non-null    int64  \n",
      "dtypes: float64(1), int64(2), object(3)\n",
      "memory usage: 23.6+ KB\n"
     ]
    }
   ],
   "source": [
    "# Check for empty values and data format problems\n",
    "df_top_500.info()"
   ]
  },
  {
   "cell_type": "markdown",
   "metadata": {},
   "source": [
    "- After checking, it is found that there is no null value and the field type is correct"
   ]
  },
  {
   "cell_type": "code",
   "execution_count": 19,
   "metadata": {},
   "outputs": [
    {
     "data": {
      "text/plain": [
       "250"
      ]
     },
     "execution_count": 19,
     "metadata": {},
     "output_type": "execute_result"
    }
   ],
   "source": [
    "# Check whether duplicate data exists\n",
    "df_top_500.duplicated().sum()"
   ]
  },
  {
   "cell_type": "markdown",
   "metadata": {},
   "source": [
    "- Some duplicate data is queried to avoid affecting statistics and perform deduplication later"
   ]
  },
  {
   "cell_type": "code",
   "execution_count": 21,
   "metadata": {},
   "outputs": [],
   "source": [
    "# data drop duplicate\n",
    "df_top_500.reset_index(drop=True, inplace=True)\n",
    "df_top_500_clean = df_top_500.drop_duplicates()"
   ]
  },
  {
   "cell_type": "code",
   "execution_count": 22,
   "metadata": {},
   "outputs": [
    {
     "data": {
      "text/plain": [
       "0"
      ]
     },
     "execution_count": 22,
     "metadata": {},
     "output_type": "execute_result"
    }
   ],
   "source": [
    "# check duplicate\n",
    "df_top_500_clean.duplicated().sum()"
   ]
  },
  {
   "cell_type": "markdown",
   "metadata": {},
   "source": [
    "- conclusion1：df_top_500 Data quality integrity ,However duplicate data exists, Duplicate data has been cleared"
   ]
  },
  {
   "cell_type": "markdown",
   "metadata": {
    "id": "8Be77N4I1AmE"
   },
   "source": [
    "### Quality Issue 2:"
   ]
  },
  {
   "cell_type": "markdown",
   "metadata": {},
   "source": [
    "#### Inspecting the dataframe visually"
   ]
  },
  {
   "cell_type": "code",
   "execution_count": 84,
   "metadata": {
    "id": "-qfcocStzsKg"
   },
   "outputs": [
    {
     "data": {
      "text/html": [
       "<div>\n",
       "<style scoped>\n",
       "    .dataframe tbody tr th:only-of-type {\n",
       "        vertical-align: middle;\n",
       "    }\n",
       "\n",
       "    .dataframe tbody tr th {\n",
       "        vertical-align: top;\n",
       "    }\n",
       "\n",
       "    .dataframe thead th {\n",
       "        text-align: right;\n",
       "    }\n",
       "</style>\n",
       "<table border=\"1\" class=\"dataframe\">\n",
       "  <thead>\n",
       "    <tr style=\"text-align: right;\">\n",
       "      <th></th>\n",
       "      <th>name</th>\n",
       "      <th>year</th>\n",
       "      <th>genre</th>\n",
       "      <th>rating</th>\n",
       "      <th>director</th>\n",
       "      <th>votes</th>\n",
       "    </tr>\n",
       "  </thead>\n",
       "  <tbody>\n",
       "    <tr>\n",
       "      <th>0</th>\n",
       "      <td>Alien</td>\n",
       "      <td>1979</td>\n",
       "      <td>Horror/Sci-Fi</td>\n",
       "      <td>8.5</td>\n",
       "      <td>Ridley Scott</td>\n",
       "      <td>905275</td>\n",
       "    </tr>\n",
       "    <tr>\n",
       "      <th>1</th>\n",
       "      <td>Psycho</td>\n",
       "      <td>1960</td>\n",
       "      <td>Horror/Mystery/Thriller</td>\n",
       "      <td>8.5</td>\n",
       "      <td>Alfred Hitchcock</td>\n",
       "      <td>689068</td>\n",
       "    </tr>\n",
       "    <tr>\n",
       "      <th>2</th>\n",
       "      <td>The Shining</td>\n",
       "      <td>1980</td>\n",
       "      <td>Drama/Horror</td>\n",
       "      <td>8.4</td>\n",
       "      <td>Stanley Kubrick</td>\n",
       "      <td>1051582</td>\n",
       "    </tr>\n",
       "    <tr>\n",
       "      <th>3</th>\n",
       "      <td>The Thing</td>\n",
       "      <td>1982</td>\n",
       "      <td>Horror/Mystery/Sci-Fi</td>\n",
       "      <td>8.2</td>\n",
       "      <td>John Carpenter</td>\n",
       "      <td>439793</td>\n",
       "    </tr>\n",
       "    <tr>\n",
       "      <th>4</th>\n",
       "      <td>Tumbbad</td>\n",
       "      <td>2018</td>\n",
       "      <td>Drama/Fantasy/Horror</td>\n",
       "      <td>8.2</td>\n",
       "      <td>Rahi Anil Barve</td>\n",
       "      <td>53,297</td>\n",
       "    </tr>\n",
       "    <tr>\n",
       "      <th>5</th>\n",
       "      <td>The Exorcist</td>\n",
       "      <td>1973</td>\n",
       "      <td>Horror</td>\n",
       "      <td>8.1</td>\n",
       "      <td>William Friedkin</td>\n",
       "      <td>422330</td>\n",
       "    </tr>\n",
       "    <tr>\n",
       "      <th>6</th>\n",
       "      <td>Diabolique</td>\n",
       "      <td>1955</td>\n",
       "      <td>Crime/Drama/Horror</td>\n",
       "      <td>8.1</td>\n",
       "      <td>Henri-Georges Clouzot</td>\n",
       "      <td>67,456</td>\n",
       "    </tr>\n",
       "    <tr>\n",
       "      <th>7</th>\n",
       "      <td>Rosemary's Baby</td>\n",
       "      <td>1968</td>\n",
       "      <td>Drama/Horror</td>\n",
       "      <td>8.0</td>\n",
       "      <td>Roman Polanski</td>\n",
       "      <td>223968</td>\n",
       "    </tr>\n",
       "    <tr>\n",
       "      <th>8</th>\n",
       "      <td>What Ever Happened to Baby Jane?</td>\n",
       "      <td>1962</td>\n",
       "      <td>Drama/Horror/Thriller</td>\n",
       "      <td>8.0</td>\n",
       "      <td>Robert Aldrich</td>\n",
       "      <td>58,904</td>\n",
       "    </tr>\n",
       "    <tr>\n",
       "      <th>9</th>\n",
       "      <td>The Cabinet of Dr. Caligari</td>\n",
       "      <td>1920</td>\n",
       "      <td>Horror/Mystery/Thriller</td>\n",
       "      <td>8.0</td>\n",
       "      <td>Robert Wiene</td>\n",
       "      <td>66,749</td>\n",
       "    </tr>\n",
       "  </tbody>\n",
       "</table>\n",
       "</div>"
      ],
      "text/plain": [
       "                               name  year                    genre  rating  \\\n",
       "0                             Alien  1979            Horror/Sci-Fi     8.5   \n",
       "1                            Psycho  1960  Horror/Mystery/Thriller     8.5   \n",
       "2                       The Shining  1980             Drama/Horror     8.4   \n",
       "3                         The Thing  1982    Horror/Mystery/Sci-Fi     8.2   \n",
       "4                           Tumbbad  2018     Drama/Fantasy/Horror     8.2   \n",
       "5                      The Exorcist  1973                   Horror     8.1   \n",
       "6                        Diabolique  1955       Crime/Drama/Horror     8.1   \n",
       "7                   Rosemary's Baby  1968             Drama/Horror     8.0   \n",
       "8  What Ever Happened to Baby Jane?  1962    Drama/Horror/Thriller     8.0   \n",
       "9       The Cabinet of Dr. Caligari  1920  Horror/Mystery/Thriller     8.0   \n",
       "\n",
       "                director    votes  \n",
       "0           Ridley Scott   905275  \n",
       "1       Alfred Hitchcock   689068  \n",
       "2        Stanley Kubrick  1051582  \n",
       "3         John Carpenter   439793  \n",
       "4        Rahi Anil Barve   53,297  \n",
       "5       William Friedkin   422330  \n",
       "6  Henri-Georges Clouzot   67,456  \n",
       "7         Roman Polanski   223968  \n",
       "8         Robert Aldrich   58,904  \n",
       "9           Robert Wiene   66,749  "
      ]
     },
     "execution_count": 84,
     "metadata": {},
     "output_type": "execute_result"
    }
   ],
   "source": [
    "df_horror.head(10)"
   ]
  },
  {
   "cell_type": "code",
   "execution_count": 85,
   "metadata": {},
   "outputs": [
    {
     "name": "stdout",
     "output_type": "stream",
     "text": [
      "<class 'pandas.core.frame.DataFrame'>\n",
      "RangeIndex: 836 entries, 0 to 835\n",
      "Data columns (total 6 columns):\n",
      " #   Column    Non-Null Count  Dtype  \n",
      "---  ------    --------------  -----  \n",
      " 0   name      836 non-null    object \n",
      " 1   year      836 non-null    int64  \n",
      " 2   genre     836 non-null    object \n",
      " 3   rating    836 non-null    float64\n",
      " 4   director  836 non-null    object \n",
      " 5   votes     836 non-null    object \n",
      "dtypes: float64(1), int64(1), object(4)\n",
      "memory usage: 39.3+ KB\n"
     ]
    }
   ],
   "source": [
    "df_horror.info()"
   ]
  },
  {
   "cell_type": "markdown",
   "metadata": {},
   "source": [
    "- There are data format problems with votes， it should be int64"
   ]
  },
  {
   "cell_type": "code",
   "execution_count": 30,
   "metadata": {},
   "outputs": [
    {
     "data": {
      "text/plain": [
       "0"
      ]
     },
     "execution_count": 30,
     "metadata": {},
     "output_type": "execute_result"
    }
   ],
   "source": [
    "# check duplicated\n",
    "df_horror.duplicated().sum()"
   ]
  },
  {
   "cell_type": "markdown",
   "metadata": {},
   "source": [
    "- Check that there is no empty data and no duplicate data"
   ]
  },
  {
   "cell_type": "markdown",
   "metadata": {},
   "source": [
    "#### conclusion2：data integrity"
   ]
  },
  {
   "cell_type": "markdown",
   "metadata": {
    "id": "lXhGiYyiwwKN"
   },
   "source": [
    "### Tidiness Issue 1: Dataset 1 "
   ]
  },
  {
   "cell_type": "code",
   "execution_count": 87,
   "metadata": {
    "id": "fleC5rORI0Xl"
   },
   "outputs": [
    {
     "data": {
      "text/html": [
       "<div>\n",
       "<style scoped>\n",
       "    .dataframe tbody tr th:only-of-type {\n",
       "        vertical-align: middle;\n",
       "    }\n",
       "\n",
       "    .dataframe tbody tr th {\n",
       "        vertical-align: top;\n",
       "    }\n",
       "\n",
       "    .dataframe thead th {\n",
       "        text-align: right;\n",
       "    }\n",
       "</style>\n",
       "<table border=\"1\" class=\"dataframe\">\n",
       "  <thead>\n",
       "    <tr style=\"text-align: right;\">\n",
       "      <th></th>\n",
       "      <th>name</th>\n",
       "      <th>year</th>\n",
       "      <th>genre</th>\n",
       "      <th>rating</th>\n",
       "      <th>director</th>\n",
       "      <th>votes</th>\n",
       "    </tr>\n",
       "  </thead>\n",
       "  <tbody>\n",
       "    <tr>\n",
       "      <th>0</th>\n",
       "      <td>The Shawshank Redemption</td>\n",
       "      <td>1994</td>\n",
       "      <td>Drama/</td>\n",
       "      <td>9.3</td>\n",
       "      <td>Frank Darabont</td>\n",
       "      <td>2823006</td>\n",
       "    </tr>\n",
       "    <tr>\n",
       "      <th>1</th>\n",
       "      <td>The Godfather</td>\n",
       "      <td>1972</td>\n",
       "      <td>Drama/Crime/</td>\n",
       "      <td>9.2</td>\n",
       "      <td>Francis Ford Coppola</td>\n",
       "      <td>1967702</td>\n",
       "    </tr>\n",
       "    <tr>\n",
       "      <th>2</th>\n",
       "      <td>The Dark Knight</td>\n",
       "      <td>2008</td>\n",
       "      <td>Drama/Crime/Action/</td>\n",
       "      <td>9.0</td>\n",
       "      <td>Christopher Nolan</td>\n",
       "      <td>2804534</td>\n",
       "    </tr>\n",
       "    <tr>\n",
       "      <th>3</th>\n",
       "      <td>Schindler's List</td>\n",
       "      <td>1993</td>\n",
       "      <td>History/Drama/Biography/</td>\n",
       "      <td>9.0</td>\n",
       "      <td>Steven Spielberg</td>\n",
       "      <td>1418899</td>\n",
       "    </tr>\n",
       "    <tr>\n",
       "      <th>4</th>\n",
       "      <td>The Godfather Part II</td>\n",
       "      <td>1974</td>\n",
       "      <td>Drama/Crime/</td>\n",
       "      <td>9.0</td>\n",
       "      <td>Francis Ford Coppola</td>\n",
       "      <td>1335658</td>\n",
       "    </tr>\n",
       "  </tbody>\n",
       "</table>\n",
       "</div>"
      ],
      "text/plain": [
       "                       name  year                     genre  rating  \\\n",
       "0  The Shawshank Redemption  1994                    Drama/     9.3   \n",
       "1             The Godfather  1972              Drama/Crime/     9.2   \n",
       "2           The Dark Knight  2008       Drama/Crime/Action/     9.0   \n",
       "3          Schindler's List  1993  History/Drama/Biography/     9.0   \n",
       "4     The Godfather Part II  1974              Drama/Crime/     9.0   \n",
       "\n",
       "               director    votes  \n",
       "0        Frank Darabont  2823006  \n",
       "1  Francis Ford Coppola  1967702  \n",
       "2     Christopher Nolan  2804534  \n",
       "3      Steven Spielberg  1418899  \n",
       "4  Francis Ford Coppola  1335658  "
      ]
     },
     "execution_count": 87,
     "metadata": {},
     "output_type": "execute_result"
    }
   ],
   "source": [
    "df_top_500_clean.head()"
   ]
  },
  {
   "cell_type": "markdown",
   "metadata": {},
   "source": [
    "- genre has the problem of multiple values, which needs to be processed into independent fields to facilitate later analysis"
   ]
  },
  {
   "cell_type": "markdown",
   "metadata": {
    "id": "4ffMoRGSwzYj"
   },
   "source": [
    "### Tidiness Issue 2:  Dataset 2 "
   ]
  },
  {
   "cell_type": "code",
   "execution_count": 89,
   "metadata": {
    "id": "XUpeoqokw5Qt"
   },
   "outputs": [
    {
     "data": {
      "text/html": [
       "<div>\n",
       "<style scoped>\n",
       "    .dataframe tbody tr th:only-of-type {\n",
       "        vertical-align: middle;\n",
       "    }\n",
       "\n",
       "    .dataframe tbody tr th {\n",
       "        vertical-align: top;\n",
       "    }\n",
       "\n",
       "    .dataframe thead th {\n",
       "        text-align: right;\n",
       "    }\n",
       "</style>\n",
       "<table border=\"1\" class=\"dataframe\">\n",
       "  <thead>\n",
       "    <tr style=\"text-align: right;\">\n",
       "      <th></th>\n",
       "      <th>name</th>\n",
       "      <th>year</th>\n",
       "      <th>genre</th>\n",
       "      <th>rating</th>\n",
       "      <th>director</th>\n",
       "      <th>votes</th>\n",
       "    </tr>\n",
       "  </thead>\n",
       "  <tbody>\n",
       "    <tr>\n",
       "      <th>0</th>\n",
       "      <td>Alien</td>\n",
       "      <td>1979</td>\n",
       "      <td>Horror/Sci-Fi</td>\n",
       "      <td>8.5</td>\n",
       "      <td>Ridley Scott</td>\n",
       "      <td>905275</td>\n",
       "    </tr>\n",
       "    <tr>\n",
       "      <th>1</th>\n",
       "      <td>Psycho</td>\n",
       "      <td>1960</td>\n",
       "      <td>Horror/Mystery/Thriller</td>\n",
       "      <td>8.5</td>\n",
       "      <td>Alfred Hitchcock</td>\n",
       "      <td>689068</td>\n",
       "    </tr>\n",
       "    <tr>\n",
       "      <th>2</th>\n",
       "      <td>The Shining</td>\n",
       "      <td>1980</td>\n",
       "      <td>Drama/Horror</td>\n",
       "      <td>8.4</td>\n",
       "      <td>Stanley Kubrick</td>\n",
       "      <td>1051582</td>\n",
       "    </tr>\n",
       "    <tr>\n",
       "      <th>3</th>\n",
       "      <td>The Thing</td>\n",
       "      <td>1982</td>\n",
       "      <td>Horror/Mystery/Sci-Fi</td>\n",
       "      <td>8.2</td>\n",
       "      <td>John Carpenter</td>\n",
       "      <td>439793</td>\n",
       "    </tr>\n",
       "    <tr>\n",
       "      <th>4</th>\n",
       "      <td>Tumbbad</td>\n",
       "      <td>2018</td>\n",
       "      <td>Drama/Fantasy/Horror</td>\n",
       "      <td>8.2</td>\n",
       "      <td>Rahi Anil Barve</td>\n",
       "      <td>53,297</td>\n",
       "    </tr>\n",
       "  </tbody>\n",
       "</table>\n",
       "</div>"
      ],
      "text/plain": [
       "          name  year                    genre  rating          director  \\\n",
       "0        Alien  1979            Horror/Sci-Fi     8.5      Ridley Scott   \n",
       "1       Psycho  1960  Horror/Mystery/Thriller     8.5  Alfred Hitchcock   \n",
       "2  The Shining  1980             Drama/Horror     8.4   Stanley Kubrick   \n",
       "3    The Thing  1982    Horror/Mystery/Sci-Fi     8.2    John Carpenter   \n",
       "4      Tumbbad  2018     Drama/Fantasy/Horror     8.2   Rahi Anil Barve   \n",
       "\n",
       "     votes  \n",
       "0   905275  \n",
       "1   689068  \n",
       "2  1051582  \n",
       "3   439793  \n",
       "4   53,297  "
      ]
     },
     "execution_count": 89,
     "metadata": {},
     "output_type": "execute_result"
    }
   ],
   "source": [
    "df_horror.head()"
   ]
  },
  {
   "cell_type": "markdown",
   "metadata": {},
   "source": [
    "- genre has the problem of multiple values, which needs to be processed into independent fields to facilitate later analysis"
   ]
  },
  {
   "cell_type": "markdown",
   "metadata": {
    "id": "D6gmLnBttpCh"
   },
   "source": [
    "## 3. Clean data\n",
    "Clean the data to solve the 4 issues corresponding to data quality and tidiness found in the assessing step. **Make sure you include justifications for your cleaning decisions.**\n",
    "\n",
    "After the cleaning for each issue, please use **either** the visually or programatical method to validate the cleaning was succesful.\n",
    "\n",
    "At this stage, you are also expected to remove variables that are unnecessary for your analysis and combine your datasets. Depending on your datasets, you may choose to perform variable combination and elimination before or after the cleaning stage. Your dataset must have **at least** 4 variables after combining the data."
   ]
  },
  {
   "cell_type": "code",
   "execution_count": 44,
   "metadata": {},
   "outputs": [],
   "source": [
    "# FILL IN - Make copies of the datasets to ensure the raw dataframes \n",
    "# are not impacted\n",
    "df1 = df_top_500_clean.copy()\n",
    "df2 = df_horror.copy()"
   ]
  },
  {
   "cell_type": "markdown",
   "metadata": {
    "id": "FmFhN52Yyn3l"
   },
   "source": [
    "### **Quality Issue 1: Dataset1**"
   ]
  },
  {
   "cell_type": "markdown",
   "metadata": {},
   "source": [
    "- year data format should be number"
   ]
  },
  {
   "cell_type": "code",
   "execution_count": 45,
   "metadata": {},
   "outputs": [],
   "source": [
    "# year\n",
    "df1['year'] = df1['year'].astype(int)"
   ]
  },
  {
   "cell_type": "markdown",
   "metadata": {},
   "source": [
    "- rating data format should be float"
   ]
  },
  {
   "cell_type": "code",
   "execution_count": 46,
   "metadata": {},
   "outputs": [],
   "source": [
    "#rating\n",
    "df1.rating = df1.rating.astype(float)"
   ]
  },
  {
   "cell_type": "markdown",
   "metadata": {},
   "source": [
    "votes data format should be number"
   ]
  },
  {
   "cell_type": "code",
   "execution_count": 47,
   "metadata": {},
   "outputs": [],
   "source": [
    "#votes\n",
    "df1.votes = df1.votes.astype(int)"
   ]
  },
  {
   "cell_type": "code",
   "execution_count": 48,
   "metadata": {
    "id": "oUBee-LPytkv"
   },
   "outputs": [
    {
     "name": "stdout",
     "output_type": "stream",
     "text": [
      "<class 'pandas.core.frame.DataFrame'>\n",
      "Int64Index: 250 entries, 0 to 249\n",
      "Data columns (total 6 columns):\n",
      " #   Column    Non-Null Count  Dtype  \n",
      "---  ------    --------------  -----  \n",
      " 0   name      250 non-null    object \n",
      " 1   year      250 non-null    int64  \n",
      " 2   genre     250 non-null    object \n",
      " 3   rating    250 non-null    float64\n",
      " 4   director  250 non-null    object \n",
      " 5   votes     250 non-null    int64  \n",
      "dtypes: float64(1), int64(2), object(3)\n",
      "memory usage: 13.7+ KB\n"
     ]
    }
   ],
   "source": [
    "# FILL IN - Validate the cleaning was successful\n",
    "df1.info()"
   ]
  },
  {
   "cell_type": "markdown",
   "metadata": {},
   "source": [
    "- Field type repaired to expected type, no empty data"
   ]
  },
  {
   "cell_type": "markdown",
   "metadata": {
    "id": "n_DAUbJrymBL"
   },
   "source": [
    "### **Quality Issue 2: Dataset2**"
   ]
  },
  {
   "cell_type": "code",
   "execution_count": 49,
   "metadata": {
    "id": "5Yfb-Yu5MTuE"
   },
   "outputs": [
    {
     "data": {
      "text/html": [
       "<div>\n",
       "<style scoped>\n",
       "    .dataframe tbody tr th:only-of-type {\n",
       "        vertical-align: middle;\n",
       "    }\n",
       "\n",
       "    .dataframe tbody tr th {\n",
       "        vertical-align: top;\n",
       "    }\n",
       "\n",
       "    .dataframe thead th {\n",
       "        text-align: right;\n",
       "    }\n",
       "</style>\n",
       "<table border=\"1\" class=\"dataframe\">\n",
       "  <thead>\n",
       "    <tr style=\"text-align: right;\">\n",
       "      <th></th>\n",
       "      <th>name</th>\n",
       "      <th>year</th>\n",
       "      <th>genre</th>\n",
       "      <th>rating</th>\n",
       "      <th>director</th>\n",
       "      <th>votes</th>\n",
       "    </tr>\n",
       "  </thead>\n",
       "  <tbody>\n",
       "    <tr>\n",
       "      <th>0</th>\n",
       "      <td>Alien</td>\n",
       "      <td>1979</td>\n",
       "      <td>Horror/Sci-Fi</td>\n",
       "      <td>8.5</td>\n",
       "      <td>Ridley Scott</td>\n",
       "      <td>905275</td>\n",
       "    </tr>\n",
       "    <tr>\n",
       "      <th>1</th>\n",
       "      <td>Psycho</td>\n",
       "      <td>1960</td>\n",
       "      <td>Horror/Mystery/Thriller</td>\n",
       "      <td>8.5</td>\n",
       "      <td>Alfred Hitchcock</td>\n",
       "      <td>689068</td>\n",
       "    </tr>\n",
       "    <tr>\n",
       "      <th>2</th>\n",
       "      <td>The Shining</td>\n",
       "      <td>1980</td>\n",
       "      <td>Drama/Horror</td>\n",
       "      <td>8.4</td>\n",
       "      <td>Stanley Kubrick</td>\n",
       "      <td>1051582</td>\n",
       "    </tr>\n",
       "    <tr>\n",
       "      <th>3</th>\n",
       "      <td>The Thing</td>\n",
       "      <td>1982</td>\n",
       "      <td>Horror/Mystery/Sci-Fi</td>\n",
       "      <td>8.2</td>\n",
       "      <td>John Carpenter</td>\n",
       "      <td>439793</td>\n",
       "    </tr>\n",
       "    <tr>\n",
       "      <th>4</th>\n",
       "      <td>Tumbbad</td>\n",
       "      <td>2018</td>\n",
       "      <td>Drama/Fantasy/Horror</td>\n",
       "      <td>8.2</td>\n",
       "      <td>Rahi Anil Barve</td>\n",
       "      <td>53,297</td>\n",
       "    </tr>\n",
       "  </tbody>\n",
       "</table>\n",
       "</div>"
      ],
      "text/plain": [
       "          name  year                    genre  rating          director  \\\n",
       "0        Alien  1979            Horror/Sci-Fi     8.5      Ridley Scott   \n",
       "1       Psycho  1960  Horror/Mystery/Thriller     8.5  Alfred Hitchcock   \n",
       "2  The Shining  1980             Drama/Horror     8.4   Stanley Kubrick   \n",
       "3    The Thing  1982    Horror/Mystery/Sci-Fi     8.2    John Carpenter   \n",
       "4      Tumbbad  2018     Drama/Fantasy/Horror     8.2   Rahi Anil Barve   \n",
       "\n",
       "     votes  \n",
       "0   905275  \n",
       "1   689068  \n",
       "2  1051582  \n",
       "3   439793  \n",
       "4   53,297  "
      ]
     },
     "execution_count": 49,
     "metadata": {},
     "output_type": "execute_result"
    }
   ],
   "source": [
    "df2.head()"
   ]
  },
  {
   "cell_type": "markdown",
   "metadata": {},
   "source": [
    "- found vote data exists symbol \",\"\n",
    "- fix validity issue"
   ]
  },
  {
   "cell_type": "code",
   "execution_count": 50,
   "metadata": {},
   "outputs": [],
   "source": [
    "# votes drop \",\"\n",
    "df2.votes = df2.votes.apply(lambda x: x.replace(',',''))\n",
    "df2.votes = df2.votes.astype(int)"
   ]
  },
  {
   "cell_type": "code",
   "execution_count": 51,
   "metadata": {},
   "outputs": [
    {
     "name": "stdout",
     "output_type": "stream",
     "text": [
      "<class 'pandas.core.frame.DataFrame'>\n",
      "RangeIndex: 836 entries, 0 to 835\n",
      "Data columns (total 6 columns):\n",
      " #   Column    Non-Null Count  Dtype  \n",
      "---  ------    --------------  -----  \n",
      " 0   name      836 non-null    object \n",
      " 1   year      836 non-null    int64  \n",
      " 2   genre     836 non-null    object \n",
      " 3   rating    836 non-null    float64\n",
      " 4   director  836 non-null    object \n",
      " 5   votes     836 non-null    int64  \n",
      "dtypes: float64(1), int64(2), object(3)\n",
      "memory usage: 39.3+ KB\n"
     ]
    }
   ],
   "source": [
    "df2.info()"
   ]
  },
  {
   "cell_type": "code",
   "execution_count": 52,
   "metadata": {},
   "outputs": [
    {
     "data": {
      "text/html": [
       "<div>\n",
       "<style scoped>\n",
       "    .dataframe tbody tr th:only-of-type {\n",
       "        vertical-align: middle;\n",
       "    }\n",
       "\n",
       "    .dataframe tbody tr th {\n",
       "        vertical-align: top;\n",
       "    }\n",
       "\n",
       "    .dataframe thead th {\n",
       "        text-align: right;\n",
       "    }\n",
       "</style>\n",
       "<table border=\"1\" class=\"dataframe\">\n",
       "  <thead>\n",
       "    <tr style=\"text-align: right;\">\n",
       "      <th></th>\n",
       "      <th>name</th>\n",
       "      <th>year</th>\n",
       "      <th>genre</th>\n",
       "      <th>rating</th>\n",
       "      <th>director</th>\n",
       "      <th>votes</th>\n",
       "    </tr>\n",
       "  </thead>\n",
       "  <tbody>\n",
       "    <tr>\n",
       "      <th>0</th>\n",
       "      <td>False</td>\n",
       "      <td>False</td>\n",
       "      <td>False</td>\n",
       "      <td>False</td>\n",
       "      <td>False</td>\n",
       "      <td>False</td>\n",
       "    </tr>\n",
       "    <tr>\n",
       "      <th>1</th>\n",
       "      <td>False</td>\n",
       "      <td>False</td>\n",
       "      <td>False</td>\n",
       "      <td>False</td>\n",
       "      <td>False</td>\n",
       "      <td>False</td>\n",
       "    </tr>\n",
       "    <tr>\n",
       "      <th>2</th>\n",
       "      <td>False</td>\n",
       "      <td>False</td>\n",
       "      <td>False</td>\n",
       "      <td>False</td>\n",
       "      <td>False</td>\n",
       "      <td>False</td>\n",
       "    </tr>\n",
       "    <tr>\n",
       "      <th>3</th>\n",
       "      <td>False</td>\n",
       "      <td>False</td>\n",
       "      <td>False</td>\n",
       "      <td>False</td>\n",
       "      <td>False</td>\n",
       "      <td>False</td>\n",
       "    </tr>\n",
       "    <tr>\n",
       "      <th>4</th>\n",
       "      <td>False</td>\n",
       "      <td>False</td>\n",
       "      <td>False</td>\n",
       "      <td>False</td>\n",
       "      <td>False</td>\n",
       "      <td>False</td>\n",
       "    </tr>\n",
       "    <tr>\n",
       "      <th>...</th>\n",
       "      <td>...</td>\n",
       "      <td>...</td>\n",
       "      <td>...</td>\n",
       "      <td>...</td>\n",
       "      <td>...</td>\n",
       "      <td>...</td>\n",
       "    </tr>\n",
       "    <tr>\n",
       "      <th>831</th>\n",
       "      <td>False</td>\n",
       "      <td>False</td>\n",
       "      <td>False</td>\n",
       "      <td>False</td>\n",
       "      <td>False</td>\n",
       "      <td>False</td>\n",
       "    </tr>\n",
       "    <tr>\n",
       "      <th>832</th>\n",
       "      <td>False</td>\n",
       "      <td>False</td>\n",
       "      <td>False</td>\n",
       "      <td>False</td>\n",
       "      <td>False</td>\n",
       "      <td>False</td>\n",
       "    </tr>\n",
       "    <tr>\n",
       "      <th>833</th>\n",
       "      <td>False</td>\n",
       "      <td>False</td>\n",
       "      <td>False</td>\n",
       "      <td>False</td>\n",
       "      <td>False</td>\n",
       "      <td>False</td>\n",
       "    </tr>\n",
       "    <tr>\n",
       "      <th>834</th>\n",
       "      <td>False</td>\n",
       "      <td>False</td>\n",
       "      <td>False</td>\n",
       "      <td>False</td>\n",
       "      <td>False</td>\n",
       "      <td>False</td>\n",
       "    </tr>\n",
       "    <tr>\n",
       "      <th>835</th>\n",
       "      <td>False</td>\n",
       "      <td>False</td>\n",
       "      <td>False</td>\n",
       "      <td>False</td>\n",
       "      <td>False</td>\n",
       "      <td>False</td>\n",
       "    </tr>\n",
       "  </tbody>\n",
       "</table>\n",
       "<p>836 rows × 6 columns</p>\n",
       "</div>"
      ],
      "text/plain": [
       "      name   year  genre  rating  director  votes\n",
       "0    False  False  False   False     False  False\n",
       "1    False  False  False   False     False  False\n",
       "2    False  False  False   False     False  False\n",
       "3    False  False  False   False     False  False\n",
       "4    False  False  False   False     False  False\n",
       "..     ...    ...    ...     ...       ...    ...\n",
       "831  False  False  False   False     False  False\n",
       "832  False  False  False   False     False  False\n",
       "833  False  False  False   False     False  False\n",
       "834  False  False  False   False     False  False\n",
       "835  False  False  False   False     False  False\n",
       "\n",
       "[836 rows x 6 columns]"
      ]
     },
     "execution_count": 52,
     "metadata": {},
     "output_type": "execute_result"
    }
   ],
   "source": [
    "df2.isna()"
   ]
  },
  {
   "cell_type": "markdown",
   "metadata": {},
   "source": [
    "#### conclusion: Neither df_top_500_cleam nor df_horror has NAN, and the data format is accurate"
   ]
  },
  {
   "cell_type": "markdown",
   "metadata": {
    "id": "bIUrrfSNyOPR"
   },
   "source": [
    "### **Tidiness Issue 1: genre**"
   ]
  },
  {
   "cell_type": "markdown",
   "metadata": {
    "id": "fib0zAm333bn"
   },
   "source": [
    "### Fixing Data\n",
    "-  It is found that there are up to three types of films,Classify and split movies for easy statistics like [genre1, genre2, genre3]"
   ]
  },
  {
   "cell_type": "code",
   "execution_count": 57,
   "metadata": {},
   "outputs": [],
   "source": [
    "# Define the split Genre method\n",
    "def splitGenre(df):\n",
    "    df['genre1'] = df['genre'].apply(lambda x:x.split('/')[0])\n",
    "    df['genre2'] = df['genre'].apply(lambda x:x.split('/')[1] if len(x.split('/'))>2 else np.nan)\n",
    "    df['genre3'] = df['genre'].apply(lambda x:x.split('/')[2] if len(x.split('/'))>3 else np.nan)"
   ]
  },
  {
   "cell_type": "code",
   "execution_count": 58,
   "metadata": {
    "id": "yhrnUGY_Nk8B"
   },
   "outputs": [],
   "source": [
    "# Decompose the genre field value of df1\n",
    "splitGenre(df1)"
   ]
  },
  {
   "cell_type": "code",
   "execution_count": 59,
   "metadata": {},
   "outputs": [],
   "source": [
    "genre1=df1.genre1.unique().astype('str')"
   ]
  },
  {
   "cell_type": "code",
   "execution_count": 60,
   "metadata": {},
   "outputs": [],
   "source": [
    "genre2=df1.genre2.unique().astype('str')"
   ]
  },
  {
   "cell_type": "code",
   "execution_count": 61,
   "metadata": {},
   "outputs": [],
   "source": [
    "genre3=df1.genre3.unique().astype('str')"
   ]
  },
  {
   "cell_type": "code",
   "execution_count": 62,
   "metadata": {},
   "outputs": [
    {
     "name": "stdout",
     "output_type": "stream",
     "text": [
      "['Action' 'Adventure' 'Animation' 'Biography' 'Comedy' 'Crime' 'Drama'\n",
      " 'Family' 'Fantasy' 'Film-Noir' 'History' 'Horror' 'Music' 'Musical'\n",
      " 'Mystery' 'Romance' 'Sci-Fi' 'Sport' 'Thriller' 'War' 'Western' 'nan']\n"
     ]
    }
   ],
   "source": [
    "# Total genre \n",
    "genre_all=np.concatenate([genre1,genre2,genre3])\n",
    "print(np.unique(genre_all))"
   ]
  },
  {
   "cell_type": "markdown",
   "metadata": {},
   "source": [
    "- There are 21 genre"
   ]
  },
  {
   "cell_type": "code",
   "execution_count": 63,
   "metadata": {},
   "outputs": [
    {
     "data": {
      "text/html": [
       "<div>\n",
       "<style scoped>\n",
       "    .dataframe tbody tr th:only-of-type {\n",
       "        vertical-align: middle;\n",
       "    }\n",
       "\n",
       "    .dataframe tbody tr th {\n",
       "        vertical-align: top;\n",
       "    }\n",
       "\n",
       "    .dataframe thead th {\n",
       "        text-align: right;\n",
       "    }\n",
       "</style>\n",
       "<table border=\"1\" class=\"dataframe\">\n",
       "  <thead>\n",
       "    <tr style=\"text-align: right;\">\n",
       "      <th></th>\n",
       "      <th>name</th>\n",
       "      <th>year</th>\n",
       "      <th>genre</th>\n",
       "      <th>rating</th>\n",
       "      <th>director</th>\n",
       "      <th>votes</th>\n",
       "      <th>genre1</th>\n",
       "      <th>genre2</th>\n",
       "      <th>genre3</th>\n",
       "    </tr>\n",
       "  </thead>\n",
       "  <tbody>\n",
       "    <tr>\n",
       "      <th>0</th>\n",
       "      <td>The Shawshank Redemption</td>\n",
       "      <td>1994</td>\n",
       "      <td>Drama/</td>\n",
       "      <td>9.3</td>\n",
       "      <td>Frank Darabont</td>\n",
       "      <td>2823006</td>\n",
       "      <td>Drama</td>\n",
       "      <td>NaN</td>\n",
       "      <td>NaN</td>\n",
       "    </tr>\n",
       "    <tr>\n",
       "      <th>1</th>\n",
       "      <td>The Godfather</td>\n",
       "      <td>1972</td>\n",
       "      <td>Drama/Crime/</td>\n",
       "      <td>9.2</td>\n",
       "      <td>Francis Ford Coppola</td>\n",
       "      <td>1967702</td>\n",
       "      <td>Drama</td>\n",
       "      <td>Crime</td>\n",
       "      <td>NaN</td>\n",
       "    </tr>\n",
       "    <tr>\n",
       "      <th>2</th>\n",
       "      <td>The Dark Knight</td>\n",
       "      <td>2008</td>\n",
       "      <td>Drama/Crime/Action/</td>\n",
       "      <td>9.0</td>\n",
       "      <td>Christopher Nolan</td>\n",
       "      <td>2804534</td>\n",
       "      <td>Drama</td>\n",
       "      <td>Crime</td>\n",
       "      <td>Action</td>\n",
       "    </tr>\n",
       "    <tr>\n",
       "      <th>3</th>\n",
       "      <td>Schindler's List</td>\n",
       "      <td>1993</td>\n",
       "      <td>History/Drama/Biography/</td>\n",
       "      <td>9.0</td>\n",
       "      <td>Steven Spielberg</td>\n",
       "      <td>1418899</td>\n",
       "      <td>History</td>\n",
       "      <td>Drama</td>\n",
       "      <td>Biography</td>\n",
       "    </tr>\n",
       "    <tr>\n",
       "      <th>4</th>\n",
       "      <td>The Godfather Part II</td>\n",
       "      <td>1974</td>\n",
       "      <td>Drama/Crime/</td>\n",
       "      <td>9.0</td>\n",
       "      <td>Francis Ford Coppola</td>\n",
       "      <td>1335658</td>\n",
       "      <td>Drama</td>\n",
       "      <td>Crime</td>\n",
       "      <td>NaN</td>\n",
       "    </tr>\n",
       "  </tbody>\n",
       "</table>\n",
       "</div>"
      ],
      "text/plain": [
       "                       name  year                     genre  rating  \\\n",
       "0  The Shawshank Redemption  1994                    Drama/     9.3   \n",
       "1             The Godfather  1972              Drama/Crime/     9.2   \n",
       "2           The Dark Knight  2008       Drama/Crime/Action/     9.0   \n",
       "3          Schindler's List  1993  History/Drama/Biography/     9.0   \n",
       "4     The Godfather Part II  1974              Drama/Crime/     9.0   \n",
       "\n",
       "               director    votes   genre1 genre2     genre3  \n",
       "0        Frank Darabont  2823006    Drama    NaN        NaN  \n",
       "1  Francis Ford Coppola  1967702    Drama  Crime        NaN  \n",
       "2     Christopher Nolan  2804534    Drama  Crime     Action  \n",
       "3      Steven Spielberg  1418899  History  Drama  Biography  \n",
       "4  Francis Ford Coppola  1335658    Drama  Crime        NaN  "
      ]
     },
     "execution_count": 63,
     "metadata": {},
     "output_type": "execute_result"
    }
   ],
   "source": [
    "df1.head()"
   ]
  },
  {
   "cell_type": "markdown",
   "metadata": {
    "id": "o51Bt8kwyTzk"
   },
   "source": [
    "### **Tidiness Issue 2: df2 Genre Tidiness Issue**"
   ]
  },
  {
   "cell_type": "code",
   "execution_count": 64,
   "metadata": {},
   "outputs": [],
   "source": [
    "## Use defined methods and split genre\n",
    "splitGenre(df2)"
   ]
  },
  {
   "cell_type": "code",
   "execution_count": 65,
   "metadata": {},
   "outputs": [
    {
     "data": {
      "text/html": [
       "<div>\n",
       "<style scoped>\n",
       "    .dataframe tbody tr th:only-of-type {\n",
       "        vertical-align: middle;\n",
       "    }\n",
       "\n",
       "    .dataframe tbody tr th {\n",
       "        vertical-align: top;\n",
       "    }\n",
       "\n",
       "    .dataframe thead th {\n",
       "        text-align: right;\n",
       "    }\n",
       "</style>\n",
       "<table border=\"1\" class=\"dataframe\">\n",
       "  <thead>\n",
       "    <tr style=\"text-align: right;\">\n",
       "      <th></th>\n",
       "      <th>name</th>\n",
       "      <th>year</th>\n",
       "      <th>genre</th>\n",
       "      <th>rating</th>\n",
       "      <th>director</th>\n",
       "      <th>votes</th>\n",
       "      <th>genre1</th>\n",
       "      <th>genre2</th>\n",
       "      <th>genre3</th>\n",
       "    </tr>\n",
       "  </thead>\n",
       "  <tbody>\n",
       "    <tr>\n",
       "      <th>0</th>\n",
       "      <td>Alien</td>\n",
       "      <td>1979</td>\n",
       "      <td>Horror/Sci-Fi</td>\n",
       "      <td>8.5</td>\n",
       "      <td>Ridley Scott</td>\n",
       "      <td>905275</td>\n",
       "      <td>Horror</td>\n",
       "      <td>NaN</td>\n",
       "      <td>NaN</td>\n",
       "    </tr>\n",
       "    <tr>\n",
       "      <th>1</th>\n",
       "      <td>Psycho</td>\n",
       "      <td>1960</td>\n",
       "      <td>Horror/Mystery/Thriller</td>\n",
       "      <td>8.5</td>\n",
       "      <td>Alfred Hitchcock</td>\n",
       "      <td>689068</td>\n",
       "      <td>Horror</td>\n",
       "      <td>Mystery</td>\n",
       "      <td>NaN</td>\n",
       "    </tr>\n",
       "    <tr>\n",
       "      <th>2</th>\n",
       "      <td>The Shining</td>\n",
       "      <td>1980</td>\n",
       "      <td>Drama/Horror</td>\n",
       "      <td>8.4</td>\n",
       "      <td>Stanley Kubrick</td>\n",
       "      <td>1051582</td>\n",
       "      <td>Drama</td>\n",
       "      <td>NaN</td>\n",
       "      <td>NaN</td>\n",
       "    </tr>\n",
       "    <tr>\n",
       "      <th>3</th>\n",
       "      <td>The Thing</td>\n",
       "      <td>1982</td>\n",
       "      <td>Horror/Mystery/Sci-Fi</td>\n",
       "      <td>8.2</td>\n",
       "      <td>John Carpenter</td>\n",
       "      <td>439793</td>\n",
       "      <td>Horror</td>\n",
       "      <td>Mystery</td>\n",
       "      <td>NaN</td>\n",
       "    </tr>\n",
       "    <tr>\n",
       "      <th>4</th>\n",
       "      <td>Tumbbad</td>\n",
       "      <td>2018</td>\n",
       "      <td>Drama/Fantasy/Horror</td>\n",
       "      <td>8.2</td>\n",
       "      <td>Rahi Anil Barve</td>\n",
       "      <td>53297</td>\n",
       "      <td>Drama</td>\n",
       "      <td>Fantasy</td>\n",
       "      <td>NaN</td>\n",
       "    </tr>\n",
       "  </tbody>\n",
       "</table>\n",
       "</div>"
      ],
      "text/plain": [
       "          name  year                    genre  rating          director  \\\n",
       "0        Alien  1979            Horror/Sci-Fi     8.5      Ridley Scott   \n",
       "1       Psycho  1960  Horror/Mystery/Thriller     8.5  Alfred Hitchcock   \n",
       "2  The Shining  1980             Drama/Horror     8.4   Stanley Kubrick   \n",
       "3    The Thing  1982    Horror/Mystery/Sci-Fi     8.2    John Carpenter   \n",
       "4      Tumbbad  2018     Drama/Fantasy/Horror     8.2   Rahi Anil Barve   \n",
       "\n",
       "     votes  genre1   genre2  genre3  \n",
       "0   905275  Horror      NaN     NaN  \n",
       "1   689068  Horror  Mystery     NaN  \n",
       "2  1051582   Drama      NaN     NaN  \n",
       "3   439793  Horror  Mystery     NaN  \n",
       "4    53297   Drama  Fantasy     NaN  "
      ]
     },
     "execution_count": 65,
     "metadata": {},
     "output_type": "execute_result"
    }
   ],
   "source": [
    "df2.head()"
   ]
  },
  {
   "cell_type": "markdown",
   "metadata": {},
   "source": [
    "### **Remove unnecessary variables and combine datasets**\n",
    "\n",
    "Depending on the datasets, you can also peform the combination before the cleaning steps."
   ]
  },
  {
   "cell_type": "markdown",
   "metadata": {},
   "source": [
    "- The genre field of df1 is no longer needed and is now removed"
   ]
  },
  {
   "cell_type": "code",
   "execution_count": 66,
   "metadata": {},
   "outputs": [
    {
     "data": {
      "text/html": [
       "<div>\n",
       "<style scoped>\n",
       "    .dataframe tbody tr th:only-of-type {\n",
       "        vertical-align: middle;\n",
       "    }\n",
       "\n",
       "    .dataframe tbody tr th {\n",
       "        vertical-align: top;\n",
       "    }\n",
       "\n",
       "    .dataframe thead th {\n",
       "        text-align: right;\n",
       "    }\n",
       "</style>\n",
       "<table border=\"1\" class=\"dataframe\">\n",
       "  <thead>\n",
       "    <tr style=\"text-align: right;\">\n",
       "      <th></th>\n",
       "      <th>name</th>\n",
       "      <th>year</th>\n",
       "      <th>rating</th>\n",
       "      <th>director</th>\n",
       "      <th>votes</th>\n",
       "      <th>genre1</th>\n",
       "      <th>genre2</th>\n",
       "      <th>genre3</th>\n",
       "    </tr>\n",
       "  </thead>\n",
       "  <tbody>\n",
       "    <tr>\n",
       "      <th>0</th>\n",
       "      <td>The Shawshank Redemption</td>\n",
       "      <td>1994</td>\n",
       "      <td>9.3</td>\n",
       "      <td>Frank Darabont</td>\n",
       "      <td>2823006</td>\n",
       "      <td>Drama</td>\n",
       "      <td>NaN</td>\n",
       "      <td>NaN</td>\n",
       "    </tr>\n",
       "    <tr>\n",
       "      <th>1</th>\n",
       "      <td>The Godfather</td>\n",
       "      <td>1972</td>\n",
       "      <td>9.2</td>\n",
       "      <td>Francis Ford Coppola</td>\n",
       "      <td>1967702</td>\n",
       "      <td>Drama</td>\n",
       "      <td>Crime</td>\n",
       "      <td>NaN</td>\n",
       "    </tr>\n",
       "    <tr>\n",
       "      <th>2</th>\n",
       "      <td>The Dark Knight</td>\n",
       "      <td>2008</td>\n",
       "      <td>9.0</td>\n",
       "      <td>Christopher Nolan</td>\n",
       "      <td>2804534</td>\n",
       "      <td>Drama</td>\n",
       "      <td>Crime</td>\n",
       "      <td>Action</td>\n",
       "    </tr>\n",
       "    <tr>\n",
       "      <th>3</th>\n",
       "      <td>Schindler's List</td>\n",
       "      <td>1993</td>\n",
       "      <td>9.0</td>\n",
       "      <td>Steven Spielberg</td>\n",
       "      <td>1418899</td>\n",
       "      <td>History</td>\n",
       "      <td>Drama</td>\n",
       "      <td>Biography</td>\n",
       "    </tr>\n",
       "    <tr>\n",
       "      <th>4</th>\n",
       "      <td>The Godfather Part II</td>\n",
       "      <td>1974</td>\n",
       "      <td>9.0</td>\n",
       "      <td>Francis Ford Coppola</td>\n",
       "      <td>1335658</td>\n",
       "      <td>Drama</td>\n",
       "      <td>Crime</td>\n",
       "      <td>NaN</td>\n",
       "    </tr>\n",
       "  </tbody>\n",
       "</table>\n",
       "</div>"
      ],
      "text/plain": [
       "                       name  year  rating              director    votes  \\\n",
       "0  The Shawshank Redemption  1994     9.3        Frank Darabont  2823006   \n",
       "1             The Godfather  1972     9.2  Francis Ford Coppola  1967702   \n",
       "2           The Dark Knight  2008     9.0     Christopher Nolan  2804534   \n",
       "3          Schindler's List  1993     9.0      Steven Spielberg  1418899   \n",
       "4     The Godfather Part II  1974     9.0  Francis Ford Coppola  1335658   \n",
       "\n",
       "    genre1 genre2     genre3  \n",
       "0    Drama    NaN        NaN  \n",
       "1    Drama  Crime        NaN  \n",
       "2    Drama  Crime     Action  \n",
       "3  History  Drama  Biography  \n",
       "4    Drama  Crime        NaN  "
      ]
     },
     "execution_count": 66,
     "metadata": {},
     "output_type": "execute_result"
    }
   ],
   "source": [
    "df1.drop('genre',axis=1,inplace=True)\n",
    "df1.head()"
   ]
  },
  {
   "cell_type": "markdown",
   "metadata": {},
   "source": [
    "- The genre field of df2 is no longer needed and is now removed"
   ]
  },
  {
   "cell_type": "code",
   "execution_count": 67,
   "metadata": {},
   "outputs": [
    {
     "data": {
      "text/html": [
       "<div>\n",
       "<style scoped>\n",
       "    .dataframe tbody tr th:only-of-type {\n",
       "        vertical-align: middle;\n",
       "    }\n",
       "\n",
       "    .dataframe tbody tr th {\n",
       "        vertical-align: top;\n",
       "    }\n",
       "\n",
       "    .dataframe thead th {\n",
       "        text-align: right;\n",
       "    }\n",
       "</style>\n",
       "<table border=\"1\" class=\"dataframe\">\n",
       "  <thead>\n",
       "    <tr style=\"text-align: right;\">\n",
       "      <th></th>\n",
       "      <th>name</th>\n",
       "      <th>year</th>\n",
       "      <th>rating</th>\n",
       "      <th>director</th>\n",
       "      <th>votes</th>\n",
       "      <th>genre1</th>\n",
       "      <th>genre2</th>\n",
       "      <th>genre3</th>\n",
       "    </tr>\n",
       "  </thead>\n",
       "  <tbody>\n",
       "    <tr>\n",
       "      <th>0</th>\n",
       "      <td>Alien</td>\n",
       "      <td>1979</td>\n",
       "      <td>8.5</td>\n",
       "      <td>Ridley Scott</td>\n",
       "      <td>905275</td>\n",
       "      <td>Horror</td>\n",
       "      <td>NaN</td>\n",
       "      <td>NaN</td>\n",
       "    </tr>\n",
       "    <tr>\n",
       "      <th>1</th>\n",
       "      <td>Psycho</td>\n",
       "      <td>1960</td>\n",
       "      <td>8.5</td>\n",
       "      <td>Alfred Hitchcock</td>\n",
       "      <td>689068</td>\n",
       "      <td>Horror</td>\n",
       "      <td>Mystery</td>\n",
       "      <td>NaN</td>\n",
       "    </tr>\n",
       "    <tr>\n",
       "      <th>2</th>\n",
       "      <td>The Shining</td>\n",
       "      <td>1980</td>\n",
       "      <td>8.4</td>\n",
       "      <td>Stanley Kubrick</td>\n",
       "      <td>1051582</td>\n",
       "      <td>Drama</td>\n",
       "      <td>NaN</td>\n",
       "      <td>NaN</td>\n",
       "    </tr>\n",
       "    <tr>\n",
       "      <th>3</th>\n",
       "      <td>The Thing</td>\n",
       "      <td>1982</td>\n",
       "      <td>8.2</td>\n",
       "      <td>John Carpenter</td>\n",
       "      <td>439793</td>\n",
       "      <td>Horror</td>\n",
       "      <td>Mystery</td>\n",
       "      <td>NaN</td>\n",
       "    </tr>\n",
       "    <tr>\n",
       "      <th>4</th>\n",
       "      <td>Tumbbad</td>\n",
       "      <td>2018</td>\n",
       "      <td>8.2</td>\n",
       "      <td>Rahi Anil Barve</td>\n",
       "      <td>53297</td>\n",
       "      <td>Drama</td>\n",
       "      <td>Fantasy</td>\n",
       "      <td>NaN</td>\n",
       "    </tr>\n",
       "  </tbody>\n",
       "</table>\n",
       "</div>"
      ],
      "text/plain": [
       "          name  year  rating          director    votes  genre1   genre2  \\\n",
       "0        Alien  1979     8.5      Ridley Scott   905275  Horror      NaN   \n",
       "1       Psycho  1960     8.5  Alfred Hitchcock   689068  Horror  Mystery   \n",
       "2  The Shining  1980     8.4   Stanley Kubrick  1051582   Drama      NaN   \n",
       "3    The Thing  1982     8.2    John Carpenter   439793  Horror  Mystery   \n",
       "4      Tumbbad  2018     8.2   Rahi Anil Barve    53297   Drama  Fantasy   \n",
       "\n",
       "   genre3  \n",
       "0     NaN  \n",
       "1     NaN  \n",
       "2     NaN  \n",
       "3     NaN  \n",
       "4     NaN  "
      ]
     },
     "execution_count": 67,
     "metadata": {},
     "output_type": "execute_result"
    }
   ],
   "source": [
    "df2.drop('genre',axis=1,inplace=True)\n",
    "df2.head()"
   ]
  },
  {
   "cell_type": "code",
   "execution_count": 70,
   "metadata": {},
   "outputs": [],
   "source": [
    "# combine datasets\n",
    "top500_horror=df1.merge(df2,how='inner',left_on='name', right_on='name')\n",
    "df_left=df1.merge(df2,how='left',left_on='name', right_on='name')"
   ]
  },
  {
   "cell_type": "code",
   "execution_count": 71,
   "metadata": {},
   "outputs": [
    {
     "data": {
      "text/plain": [
       "(7, 15)"
      ]
     },
     "execution_count": 71,
     "metadata": {},
     "output_type": "execute_result"
    }
   ],
   "source": [
    "top500_horror.shape"
   ]
  },
  {
   "cell_type": "code",
   "execution_count": 72,
   "metadata": {},
   "outputs": [
    {
     "data": {
      "text/plain": [
       "1"
      ]
     },
     "execution_count": 72,
     "metadata": {},
     "output_type": "execute_result"
    }
   ],
   "source": [
    "# check duplicated\n",
    "top500_horror.name.duplicated().sum()"
   ]
  },
  {
   "cell_type": "markdown",
   "metadata": {},
   "source": [
    "- found duplicated 1 row"
   ]
  },
  {
   "cell_type": "code",
   "execution_count": 73,
   "metadata": {},
   "outputs": [
    {
     "data": {
      "text/html": [
       "<div>\n",
       "<style scoped>\n",
       "    .dataframe tbody tr th:only-of-type {\n",
       "        vertical-align: middle;\n",
       "    }\n",
       "\n",
       "    .dataframe tbody tr th {\n",
       "        vertical-align: top;\n",
       "    }\n",
       "\n",
       "    .dataframe thead th {\n",
       "        text-align: right;\n",
       "    }\n",
       "</style>\n",
       "<table border=\"1\" class=\"dataframe\">\n",
       "  <thead>\n",
       "    <tr style=\"text-align: right;\">\n",
       "      <th></th>\n",
       "      <th>name</th>\n",
       "      <th>year_x</th>\n",
       "      <th>rating_x</th>\n",
       "      <th>director_x</th>\n",
       "      <th>votes_x</th>\n",
       "      <th>genre1_x</th>\n",
       "      <th>genre2_x</th>\n",
       "      <th>genre3_x</th>\n",
       "      <th>year_y</th>\n",
       "      <th>rating_y</th>\n",
       "      <th>director_y</th>\n",
       "      <th>votes_y</th>\n",
       "      <th>genre1_y</th>\n",
       "      <th>genre2_y</th>\n",
       "      <th>genre3_y</th>\n",
       "    </tr>\n",
       "  </thead>\n",
       "  <tbody>\n",
       "    <tr>\n",
       "      <th>0</th>\n",
       "      <td>Alien</td>\n",
       "      <td>1979</td>\n",
       "      <td>8.5</td>\n",
       "      <td>Ridley Scott</td>\n",
       "      <td>928296</td>\n",
       "      <td>Sci-Fi</td>\n",
       "      <td>Horror</td>\n",
       "      <td>NaN</td>\n",
       "      <td>1979</td>\n",
       "      <td>8.5</td>\n",
       "      <td>Ridley Scott</td>\n",
       "      <td>905275</td>\n",
       "      <td>Horror</td>\n",
       "      <td>NaN</td>\n",
       "      <td>NaN</td>\n",
       "    </tr>\n",
       "    <tr>\n",
       "      <th>1</th>\n",
       "      <td>Psycho</td>\n",
       "      <td>1960</td>\n",
       "      <td>8.5</td>\n",
       "      <td>Alfred Hitchcock</td>\n",
       "      <td>705122</td>\n",
       "      <td>Thriller</td>\n",
       "      <td>Mystery</td>\n",
       "      <td>Horror</td>\n",
       "      <td>1960</td>\n",
       "      <td>8.5</td>\n",
       "      <td>Alfred Hitchcock</td>\n",
       "      <td>689068</td>\n",
       "      <td>Horror</td>\n",
       "      <td>Mystery</td>\n",
       "      <td>NaN</td>\n",
       "    </tr>\n",
       "    <tr>\n",
       "      <th>2</th>\n",
       "      <td>Psycho</td>\n",
       "      <td>1960</td>\n",
       "      <td>8.5</td>\n",
       "      <td>Alfred Hitchcock</td>\n",
       "      <td>705122</td>\n",
       "      <td>Thriller</td>\n",
       "      <td>Mystery</td>\n",
       "      <td>Horror</td>\n",
       "      <td>1998</td>\n",
       "      <td>4.6</td>\n",
       "      <td>Gus Van Sant</td>\n",
       "      <td>49550</td>\n",
       "      <td>Horror</td>\n",
       "      <td>Mystery</td>\n",
       "      <td>NaN</td>\n",
       "    </tr>\n",
       "    <tr>\n",
       "      <th>3</th>\n",
       "      <td>The Shining</td>\n",
       "      <td>1980</td>\n",
       "      <td>8.4</td>\n",
       "      <td>Stanley Kubrick</td>\n",
       "      <td>1082477</td>\n",
       "      <td>Horror</td>\n",
       "      <td>Drama</td>\n",
       "      <td>NaN</td>\n",
       "      <td>1980</td>\n",
       "      <td>8.4</td>\n",
       "      <td>Stanley Kubrick</td>\n",
       "      <td>1051582</td>\n",
       "      <td>Drama</td>\n",
       "      <td>NaN</td>\n",
       "      <td>NaN</td>\n",
       "    </tr>\n",
       "    <tr>\n",
       "      <th>4</th>\n",
       "      <td>The Thing</td>\n",
       "      <td>1982</td>\n",
       "      <td>8.2</td>\n",
       "      <td>John Carpenter</td>\n",
       "      <td>454405</td>\n",
       "      <td>Sci-Fi</td>\n",
       "      <td>Mystery</td>\n",
       "      <td>Horror</td>\n",
       "      <td>1982</td>\n",
       "      <td>8.2</td>\n",
       "      <td>John Carpenter</td>\n",
       "      <td>439793</td>\n",
       "      <td>Horror</td>\n",
       "      <td>Mystery</td>\n",
       "      <td>NaN</td>\n",
       "    </tr>\n",
       "  </tbody>\n",
       "</table>\n",
       "</div>"
      ],
      "text/plain": [
       "          name  year_x  rating_x        director_x  votes_x  genre1_x  \\\n",
       "0        Alien    1979       8.5      Ridley Scott   928296    Sci-Fi   \n",
       "1       Psycho    1960       8.5  Alfred Hitchcock   705122  Thriller   \n",
       "2       Psycho    1960       8.5  Alfred Hitchcock   705122  Thriller   \n",
       "3  The Shining    1980       8.4   Stanley Kubrick  1082477    Horror   \n",
       "4    The Thing    1982       8.2    John Carpenter   454405    Sci-Fi   \n",
       "\n",
       "  genre2_x genre3_x  year_y  rating_y        director_y  votes_y genre1_y  \\\n",
       "0   Horror      NaN    1979       8.5      Ridley Scott   905275   Horror   \n",
       "1  Mystery   Horror    1960       8.5  Alfred Hitchcock   689068   Horror   \n",
       "2  Mystery   Horror    1998       4.6      Gus Van Sant    49550   Horror   \n",
       "3    Drama      NaN    1980       8.4   Stanley Kubrick  1051582    Drama   \n",
       "4  Mystery   Horror    1982       8.2    John Carpenter   439793   Horror   \n",
       "\n",
       "  genre2_y  genre3_y  \n",
       "0      NaN       NaN  \n",
       "1  Mystery       NaN  \n",
       "2  Mystery       NaN  \n",
       "3      NaN       NaN  \n",
       "4  Mystery       NaN  "
      ]
     },
     "execution_count": 73,
     "metadata": {},
     "output_type": "execute_result"
    }
   ],
   "source": [
    "top500_horror.head()"
   ]
  },
  {
   "cell_type": "markdown",
   "metadata": {},
   "source": [
    "- found same name but different year data, to avoid statistical errors, now deleted"
   ]
  },
  {
   "cell_type": "code",
   "execution_count": 74,
   "metadata": {},
   "outputs": [],
   "source": [
    "# delete same name but different year\n",
    "top500_horror = top500_horror[~(top500_horror['year_x']!=top500_horror['year_y'])]"
   ]
  },
  {
   "cell_type": "code",
   "execution_count": 75,
   "metadata": {},
   "outputs": [
    {
     "data": {
      "text/plain": [
       "(6, 15)"
      ]
     },
     "execution_count": 75,
     "metadata": {},
     "output_type": "execute_result"
    }
   ],
   "source": [
    "top500_horror.shape"
   ]
  },
  {
   "cell_type": "code",
   "execution_count": 76,
   "metadata": {},
   "outputs": [
    {
     "data": {
      "text/html": [
       "<div>\n",
       "<style scoped>\n",
       "    .dataframe tbody tr th:only-of-type {\n",
       "        vertical-align: middle;\n",
       "    }\n",
       "\n",
       "    .dataframe tbody tr th {\n",
       "        vertical-align: top;\n",
       "    }\n",
       "\n",
       "    .dataframe thead th {\n",
       "        text-align: right;\n",
       "    }\n",
       "</style>\n",
       "<table border=\"1\" class=\"dataframe\">\n",
       "  <thead>\n",
       "    <tr style=\"text-align: right;\">\n",
       "      <th></th>\n",
       "      <th>name</th>\n",
       "      <th>year_x</th>\n",
       "      <th>rating_x</th>\n",
       "      <th>director_x</th>\n",
       "      <th>votes_x</th>\n",
       "      <th>genre1_x</th>\n",
       "      <th>genre2_x</th>\n",
       "      <th>genre3_x</th>\n",
       "      <th>year_y</th>\n",
       "      <th>rating_y</th>\n",
       "      <th>director_y</th>\n",
       "      <th>votes_y</th>\n",
       "      <th>genre1_y</th>\n",
       "      <th>genre2_y</th>\n",
       "      <th>genre3_y</th>\n",
       "    </tr>\n",
       "  </thead>\n",
       "  <tbody>\n",
       "    <tr>\n",
       "      <th>0</th>\n",
       "      <td>Alien</td>\n",
       "      <td>1979</td>\n",
       "      <td>8.5</td>\n",
       "      <td>Ridley Scott</td>\n",
       "      <td>928296</td>\n",
       "      <td>Sci-Fi</td>\n",
       "      <td>Horror</td>\n",
       "      <td>NaN</td>\n",
       "      <td>1979</td>\n",
       "      <td>8.5</td>\n",
       "      <td>Ridley Scott</td>\n",
       "      <td>905275</td>\n",
       "      <td>Horror</td>\n",
       "      <td>NaN</td>\n",
       "      <td>NaN</td>\n",
       "    </tr>\n",
       "    <tr>\n",
       "      <th>1</th>\n",
       "      <td>Psycho</td>\n",
       "      <td>1960</td>\n",
       "      <td>8.5</td>\n",
       "      <td>Alfred Hitchcock</td>\n",
       "      <td>705122</td>\n",
       "      <td>Thriller</td>\n",
       "      <td>Mystery</td>\n",
       "      <td>Horror</td>\n",
       "      <td>1960</td>\n",
       "      <td>8.5</td>\n",
       "      <td>Alfred Hitchcock</td>\n",
       "      <td>689068</td>\n",
       "      <td>Horror</td>\n",
       "      <td>Mystery</td>\n",
       "      <td>NaN</td>\n",
       "    </tr>\n",
       "    <tr>\n",
       "      <th>3</th>\n",
       "      <td>The Shining</td>\n",
       "      <td>1980</td>\n",
       "      <td>8.4</td>\n",
       "      <td>Stanley Kubrick</td>\n",
       "      <td>1082477</td>\n",
       "      <td>Horror</td>\n",
       "      <td>Drama</td>\n",
       "      <td>NaN</td>\n",
       "      <td>1980</td>\n",
       "      <td>8.4</td>\n",
       "      <td>Stanley Kubrick</td>\n",
       "      <td>1051582</td>\n",
       "      <td>Drama</td>\n",
       "      <td>NaN</td>\n",
       "      <td>NaN</td>\n",
       "    </tr>\n",
       "    <tr>\n",
       "      <th>4</th>\n",
       "      <td>The Thing</td>\n",
       "      <td>1982</td>\n",
       "      <td>8.2</td>\n",
       "      <td>John Carpenter</td>\n",
       "      <td>454405</td>\n",
       "      <td>Sci-Fi</td>\n",
       "      <td>Mystery</td>\n",
       "      <td>Horror</td>\n",
       "      <td>1982</td>\n",
       "      <td>8.2</td>\n",
       "      <td>John Carpenter</td>\n",
       "      <td>439793</td>\n",
       "      <td>Horror</td>\n",
       "      <td>Mystery</td>\n",
       "      <td>NaN</td>\n",
       "    </tr>\n",
       "    <tr>\n",
       "      <th>5</th>\n",
       "      <td>Tumbbad</td>\n",
       "      <td>2018</td>\n",
       "      <td>8.2</td>\n",
       "      <td>Rahi Anil Barve</td>\n",
       "      <td>56402</td>\n",
       "      <td>Horror</td>\n",
       "      <td>Fantasy</td>\n",
       "      <td>Drama</td>\n",
       "      <td>2018</td>\n",
       "      <td>8.2</td>\n",
       "      <td>Rahi Anil Barve</td>\n",
       "      <td>53297</td>\n",
       "      <td>Drama</td>\n",
       "      <td>Fantasy</td>\n",
       "      <td>NaN</td>\n",
       "    </tr>\n",
       "    <tr>\n",
       "      <th>6</th>\n",
       "      <td>The Exorcist</td>\n",
       "      <td>1973</td>\n",
       "      <td>8.1</td>\n",
       "      <td>William Friedkin</td>\n",
       "      <td>445089</td>\n",
       "      <td>Horror</td>\n",
       "      <td>NaN</td>\n",
       "      <td>NaN</td>\n",
       "      <td>1973</td>\n",
       "      <td>8.1</td>\n",
       "      <td>William Friedkin</td>\n",
       "      <td>422330</td>\n",
       "      <td>Horror</td>\n",
       "      <td>NaN</td>\n",
       "      <td>NaN</td>\n",
       "    </tr>\n",
       "  </tbody>\n",
       "</table>\n",
       "</div>"
      ],
      "text/plain": [
       "           name  year_x  rating_x        director_x  votes_x  genre1_x  \\\n",
       "0         Alien    1979       8.5      Ridley Scott   928296    Sci-Fi   \n",
       "1        Psycho    1960       8.5  Alfred Hitchcock   705122  Thriller   \n",
       "3   The Shining    1980       8.4   Stanley Kubrick  1082477    Horror   \n",
       "4     The Thing    1982       8.2    John Carpenter   454405    Sci-Fi   \n",
       "5       Tumbbad    2018       8.2   Rahi Anil Barve    56402    Horror   \n",
       "6  The Exorcist    1973       8.1  William Friedkin   445089    Horror   \n",
       "\n",
       "  genre2_x genre3_x  year_y  rating_y        director_y  votes_y genre1_y  \\\n",
       "0   Horror      NaN    1979       8.5      Ridley Scott   905275   Horror   \n",
       "1  Mystery   Horror    1960       8.5  Alfred Hitchcock   689068   Horror   \n",
       "3    Drama      NaN    1980       8.4   Stanley Kubrick  1051582    Drama   \n",
       "4  Mystery   Horror    1982       8.2    John Carpenter   439793   Horror   \n",
       "5  Fantasy    Drama    2018       8.2   Rahi Anil Barve    53297    Drama   \n",
       "6      NaN      NaN    1973       8.1  William Friedkin   422330   Horror   \n",
       "\n",
       "  genre2_y  genre3_y  \n",
       "0      NaN       NaN  \n",
       "1  Mystery       NaN  \n",
       "3      NaN       NaN  \n",
       "4  Mystery       NaN  \n",
       "5  Fantasy       NaN  \n",
       "6      NaN       NaN  "
      ]
     },
     "execution_count": 76,
     "metadata": {},
     "output_type": "execute_result"
    }
   ],
   "source": [
    "top500_horror.head(6)"
   ]
  },
  {
   "cell_type": "code",
   "execution_count": 198,
   "metadata": {},
   "outputs": [
    {
     "data": {
      "text/html": [
       "<div>\n",
       "<style scoped>\n",
       "    .dataframe tbody tr th:only-of-type {\n",
       "        vertical-align: middle;\n",
       "    }\n",
       "\n",
       "    .dataframe tbody tr th {\n",
       "        vertical-align: top;\n",
       "    }\n",
       "\n",
       "    .dataframe thead th {\n",
       "        text-align: right;\n",
       "    }\n",
       "</style>\n",
       "<table border=\"1\" class=\"dataframe\">\n",
       "  <thead>\n",
       "    <tr style=\"text-align: right;\">\n",
       "      <th></th>\n",
       "      <th>name</th>\n",
       "      <th>year_x</th>\n",
       "      <th>rating_x</th>\n",
       "      <th>director_x</th>\n",
       "      <th>votes_x</th>\n",
       "      <th>genre1_x</th>\n",
       "      <th>genre2_x</th>\n",
       "      <th>genre3_x</th>\n",
       "    </tr>\n",
       "  </thead>\n",
       "  <tbody>\n",
       "    <tr>\n",
       "      <th>0</th>\n",
       "      <td>Alien</td>\n",
       "      <td>1979</td>\n",
       "      <td>8.5</td>\n",
       "      <td>Ridley Scott</td>\n",
       "      <td>928296</td>\n",
       "      <td>Sci-Fi</td>\n",
       "      <td>Horror</td>\n",
       "      <td>NaN</td>\n",
       "    </tr>\n",
       "    <tr>\n",
       "      <th>1</th>\n",
       "      <td>Psycho</td>\n",
       "      <td>1960</td>\n",
       "      <td>8.5</td>\n",
       "      <td>Alfred Hitchcock</td>\n",
       "      <td>705122</td>\n",
       "      <td>Thriller</td>\n",
       "      <td>Mystery</td>\n",
       "      <td>Horror</td>\n",
       "    </tr>\n",
       "    <tr>\n",
       "      <th>3</th>\n",
       "      <td>The Shining</td>\n",
       "      <td>1980</td>\n",
       "      <td>8.4</td>\n",
       "      <td>Stanley Kubrick</td>\n",
       "      <td>1082477</td>\n",
       "      <td>Horror</td>\n",
       "      <td>Drama</td>\n",
       "      <td>NaN</td>\n",
       "    </tr>\n",
       "    <tr>\n",
       "      <th>4</th>\n",
       "      <td>The Thing</td>\n",
       "      <td>1982</td>\n",
       "      <td>8.2</td>\n",
       "      <td>John Carpenter</td>\n",
       "      <td>454405</td>\n",
       "      <td>Sci-Fi</td>\n",
       "      <td>Mystery</td>\n",
       "      <td>Horror</td>\n",
       "    </tr>\n",
       "    <tr>\n",
       "      <th>5</th>\n",
       "      <td>Tumbbad</td>\n",
       "      <td>2018</td>\n",
       "      <td>8.2</td>\n",
       "      <td>Rahi Anil Barve</td>\n",
       "      <td>56402</td>\n",
       "      <td>Horror</td>\n",
       "      <td>Fantasy</td>\n",
       "      <td>Drama</td>\n",
       "    </tr>\n",
       "    <tr>\n",
       "      <th>6</th>\n",
       "      <td>The Exorcist</td>\n",
       "      <td>1973</td>\n",
       "      <td>8.1</td>\n",
       "      <td>William Friedkin</td>\n",
       "      <td>445089</td>\n",
       "      <td>Horror</td>\n",
       "      <td>NaN</td>\n",
       "      <td>NaN</td>\n",
       "    </tr>\n",
       "  </tbody>\n",
       "</table>\n",
       "</div>"
      ],
      "text/plain": [
       "           name  year_x  rating_x        director_x  votes_x  genre1_x  \\\n",
       "0         Alien    1979       8.5      Ridley Scott   928296    Sci-Fi   \n",
       "1        Psycho    1960       8.5  Alfred Hitchcock   705122  Thriller   \n",
       "3   The Shining    1980       8.4   Stanley Kubrick  1082477    Horror   \n",
       "4     The Thing    1982       8.2    John Carpenter   454405    Sci-Fi   \n",
       "5       Tumbbad    2018       8.2   Rahi Anil Barve    56402    Horror   \n",
       "6  The Exorcist    1973       8.1  William Friedkin   445089    Horror   \n",
       "\n",
       "  genre2_x genre3_x  \n",
       "0   Horror      NaN  \n",
       "1  Mystery   Horror  \n",
       "3    Drama      NaN  \n",
       "4  Mystery   Horror  \n",
       "5  Fantasy    Drama  \n",
       "6      NaN      NaN  "
      ]
     },
     "execution_count": 198,
     "metadata": {},
     "output_type": "execute_result"
    }
   ],
   "source": [
    "top500_horror.head(6)"
   ]
  },
  {
   "cell_type": "markdown",
   "metadata": {},
   "source": [
    "- Clear unnecessary fields 'year_y','rating_y','director_y','votes_y','genre1_y','genre2_y','genre3_y'"
   ]
  },
  {
   "cell_type": "code",
   "execution_count": 77,
   "metadata": {},
   "outputs": [],
   "source": [
    "#Use the IMDB data\n",
    "top500_horror=top500_horror.drop(['year_y','rating_y','director_y','votes_y','genre1_y','genre2_y','genre3_y'],axis=1)"
   ]
  },
  {
   "cell_type": "markdown",
   "metadata": {},
   "source": [
    "- rename field name( 'year_x': 'year', 'rating_x': 'rating','director_x':'director','votes_x':'votes','genre1_x':'genre1','genre2_x':'genre2','genre3_x':'genre3)"
   ]
  },
  {
   "cell_type": "code",
   "execution_count": 78,
   "metadata": {},
   "outputs": [],
   "source": [
    "top500_horror = top500_horror.rename(columns={'year_x': 'year', 'rating_x': 'rating','director_x':'director','votes_x':'votes','genre1_x':'genre1','genre2_x':'genre2','genre3_x':'genre3'})\n"
   ]
  },
  {
   "cell_type": "code",
   "execution_count": 79,
   "metadata": {},
   "outputs": [
    {
     "data": {
      "text/html": [
       "<div>\n",
       "<style scoped>\n",
       "    .dataframe tbody tr th:only-of-type {\n",
       "        vertical-align: middle;\n",
       "    }\n",
       "\n",
       "    .dataframe tbody tr th {\n",
       "        vertical-align: top;\n",
       "    }\n",
       "\n",
       "    .dataframe thead th {\n",
       "        text-align: right;\n",
       "    }\n",
       "</style>\n",
       "<table border=\"1\" class=\"dataframe\">\n",
       "  <thead>\n",
       "    <tr style=\"text-align: right;\">\n",
       "      <th></th>\n",
       "      <th>name</th>\n",
       "      <th>year</th>\n",
       "      <th>rating</th>\n",
       "      <th>director</th>\n",
       "      <th>votes</th>\n",
       "      <th>genre1</th>\n",
       "      <th>genre2</th>\n",
       "      <th>genre3</th>\n",
       "    </tr>\n",
       "  </thead>\n",
       "  <tbody>\n",
       "    <tr>\n",
       "      <th>0</th>\n",
       "      <td>Alien</td>\n",
       "      <td>1979</td>\n",
       "      <td>8.5</td>\n",
       "      <td>Ridley Scott</td>\n",
       "      <td>928296</td>\n",
       "      <td>Sci-Fi</td>\n",
       "      <td>Horror</td>\n",
       "      <td>NaN</td>\n",
       "    </tr>\n",
       "    <tr>\n",
       "      <th>1</th>\n",
       "      <td>Psycho</td>\n",
       "      <td>1960</td>\n",
       "      <td>8.5</td>\n",
       "      <td>Alfred Hitchcock</td>\n",
       "      <td>705122</td>\n",
       "      <td>Thriller</td>\n",
       "      <td>Mystery</td>\n",
       "      <td>Horror</td>\n",
       "    </tr>\n",
       "    <tr>\n",
       "      <th>3</th>\n",
       "      <td>The Shining</td>\n",
       "      <td>1980</td>\n",
       "      <td>8.4</td>\n",
       "      <td>Stanley Kubrick</td>\n",
       "      <td>1082477</td>\n",
       "      <td>Horror</td>\n",
       "      <td>Drama</td>\n",
       "      <td>NaN</td>\n",
       "    </tr>\n",
       "    <tr>\n",
       "      <th>4</th>\n",
       "      <td>The Thing</td>\n",
       "      <td>1982</td>\n",
       "      <td>8.2</td>\n",
       "      <td>John Carpenter</td>\n",
       "      <td>454405</td>\n",
       "      <td>Sci-Fi</td>\n",
       "      <td>Mystery</td>\n",
       "      <td>Horror</td>\n",
       "    </tr>\n",
       "    <tr>\n",
       "      <th>5</th>\n",
       "      <td>Tumbbad</td>\n",
       "      <td>2018</td>\n",
       "      <td>8.2</td>\n",
       "      <td>Rahi Anil Barve</td>\n",
       "      <td>56402</td>\n",
       "      <td>Horror</td>\n",
       "      <td>Fantasy</td>\n",
       "      <td>Drama</td>\n",
       "    </tr>\n",
       "  </tbody>\n",
       "</table>\n",
       "</div>"
      ],
      "text/plain": [
       "          name  year  rating          director    votes    genre1   genre2  \\\n",
       "0        Alien  1979     8.5      Ridley Scott   928296    Sci-Fi   Horror   \n",
       "1       Psycho  1960     8.5  Alfred Hitchcock   705122  Thriller  Mystery   \n",
       "3  The Shining  1980     8.4   Stanley Kubrick  1082477    Horror    Drama   \n",
       "4    The Thing  1982     8.2    John Carpenter   454405    Sci-Fi  Mystery   \n",
       "5      Tumbbad  2018     8.2   Rahi Anil Barve    56402    Horror  Fantasy   \n",
       "\n",
       "   genre3  \n",
       "0     NaN  \n",
       "1  Horror  \n",
       "3     NaN  \n",
       "4  Horror  \n",
       "5   Drama  "
      ]
     },
     "execution_count": 79,
     "metadata": {},
     "output_type": "execute_result"
    }
   ],
   "source": [
    "top500_horror.head()"
   ]
  },
  {
   "cell_type": "markdown",
   "metadata": {
    "id": "F42urHuzttjF"
   },
   "source": [
    "## 4. Update your data store\n",
    "Update your local database/data store with the cleaned data, following best practices for storing your cleaned data:\n",
    "\n",
    "- Must maintain different instances / versions of data (raw and cleaned data)\n",
    "- Must name the dataset files informatively\n",
    "- Ensure both the raw and cleaned data is saved to your database/data store"
   ]
  },
  {
   "cell_type": "code",
   "execution_count": 80,
   "metadata": {
    "id": "V3uay7EJUV_L"
   },
   "outputs": [
    {
     "data": {
      "text/html": [
       "<div>\n",
       "<style scoped>\n",
       "    .dataframe tbody tr th:only-of-type {\n",
       "        vertical-align: middle;\n",
       "    }\n",
       "\n",
       "    .dataframe tbody tr th {\n",
       "        vertical-align: top;\n",
       "    }\n",
       "\n",
       "    .dataframe thead th {\n",
       "        text-align: right;\n",
       "    }\n",
       "</style>\n",
       "<table border=\"1\" class=\"dataframe\">\n",
       "  <thead>\n",
       "    <tr style=\"text-align: right;\">\n",
       "      <th></th>\n",
       "      <th>name</th>\n",
       "      <th>year</th>\n",
       "      <th>rating</th>\n",
       "      <th>director</th>\n",
       "      <th>votes</th>\n",
       "      <th>genre1</th>\n",
       "      <th>genre2</th>\n",
       "      <th>genre3</th>\n",
       "    </tr>\n",
       "  </thead>\n",
       "  <tbody>\n",
       "    <tr>\n",
       "      <th>0</th>\n",
       "      <td>Alien</td>\n",
       "      <td>1979</td>\n",
       "      <td>8.5</td>\n",
       "      <td>Ridley Scott</td>\n",
       "      <td>928296</td>\n",
       "      <td>Sci-Fi</td>\n",
       "      <td>Horror</td>\n",
       "      <td>NaN</td>\n",
       "    </tr>\n",
       "    <tr>\n",
       "      <th>1</th>\n",
       "      <td>Psycho</td>\n",
       "      <td>1960</td>\n",
       "      <td>8.5</td>\n",
       "      <td>Alfred Hitchcock</td>\n",
       "      <td>705122</td>\n",
       "      <td>Thriller</td>\n",
       "      <td>Mystery</td>\n",
       "      <td>Horror</td>\n",
       "    </tr>\n",
       "    <tr>\n",
       "      <th>3</th>\n",
       "      <td>The Shining</td>\n",
       "      <td>1980</td>\n",
       "      <td>8.4</td>\n",
       "      <td>Stanley Kubrick</td>\n",
       "      <td>1082477</td>\n",
       "      <td>Horror</td>\n",
       "      <td>Drama</td>\n",
       "      <td>NaN</td>\n",
       "    </tr>\n",
       "    <tr>\n",
       "      <th>4</th>\n",
       "      <td>The Thing</td>\n",
       "      <td>1982</td>\n",
       "      <td>8.2</td>\n",
       "      <td>John Carpenter</td>\n",
       "      <td>454405</td>\n",
       "      <td>Sci-Fi</td>\n",
       "      <td>Mystery</td>\n",
       "      <td>Horror</td>\n",
       "    </tr>\n",
       "    <tr>\n",
       "      <th>5</th>\n",
       "      <td>Tumbbad</td>\n",
       "      <td>2018</td>\n",
       "      <td>8.2</td>\n",
       "      <td>Rahi Anil Barve</td>\n",
       "      <td>56402</td>\n",
       "      <td>Horror</td>\n",
       "      <td>Fantasy</td>\n",
       "      <td>Drama</td>\n",
       "    </tr>\n",
       "  </tbody>\n",
       "</table>\n",
       "</div>"
      ],
      "text/plain": [
       "          name  year  rating          director    votes    genre1   genre2  \\\n",
       "0        Alien  1979     8.5      Ridley Scott   928296    Sci-Fi   Horror   \n",
       "1       Psycho  1960     8.5  Alfred Hitchcock   705122  Thriller  Mystery   \n",
       "3  The Shining  1980     8.4   Stanley Kubrick  1082477    Horror    Drama   \n",
       "4    The Thing  1982     8.2    John Carpenter   454405    Sci-Fi  Mystery   \n",
       "5      Tumbbad  2018     8.2   Rahi Anil Barve    56402    Horror  Fantasy   \n",
       "\n",
       "   genre3  \n",
       "0     NaN  \n",
       "1  Horror  \n",
       "3     NaN  \n",
       "4  Horror  \n",
       "5   Drama  "
      ]
     },
     "execution_count": 80,
     "metadata": {},
     "output_type": "execute_result"
    }
   ],
   "source": [
    "# save the combined top500_horror\n",
    "top500_horror.to_csv('top500_horror.csv')\n",
    "df = pd.read_csv('top500_horror.csv',index_col=0)\n",
    "df.head()"
   ]
  },
  {
   "cell_type": "markdown",
   "metadata": {
    "id": "cGy_yddGtzhM"
   },
   "source": [
    "## 5. Answer the research question\n",
    "\n",
    "### **5.1:** Define and answer the research question "
   ]
  },
  {
   "cell_type": "markdown",
   "metadata": {
    "id": "Lkw3rW9kZmOm"
   },
   "source": [
    "### Question：\n",
    "- What percentage of horror films are in the top 500 movies? How many votes are in the audience for horror movies?\n",
    "- Which director has the most votes? Did he make horror movies that made it to the top 500?\n",
    "- What is the year-over-year trend in the number of horror movies in the top 500 films?"
   ]
  },
  {
   "cell_type": "markdown",
   "metadata": {},
   "source": [
    "*Answer to research question:* FILL IN"
   ]
  },
  {
   "cell_type": "markdown",
   "metadata": {
    "id": "6fdK_8ZGZm9R"
   },
   "source": [
    "#### I'll complete the analysis with df_top_500_genre and top500_horror data"
   ]
  },
  {
   "cell_type": "code",
   "execution_count": 81,
   "metadata": {},
   "outputs": [],
   "source": [
    "df_top_500_genre=df1.copy()"
   ]
  },
  {
   "cell_type": "code",
   "execution_count": 82,
   "metadata": {},
   "outputs": [],
   "source": [
    "# Film genre filter\n",
    "def genreFilter(df,genre):\n",
    "    df_genre = df[(df['genre1']==genre)|(df['genre2']==genre)|(df['genre3']==genre)]\n",
    "    return df_genre"
   ]
  },
  {
   "cell_type": "code",
   "execution_count": 83,
   "metadata": {},
   "outputs": [
    {
     "data": {
      "text/html": [
       "<div>\n",
       "<style scoped>\n",
       "    .dataframe tbody tr th:only-of-type {\n",
       "        vertical-align: middle;\n",
       "    }\n",
       "\n",
       "    .dataframe tbody tr th {\n",
       "        vertical-align: top;\n",
       "    }\n",
       "\n",
       "    .dataframe thead th {\n",
       "        text-align: right;\n",
       "    }\n",
       "</style>\n",
       "<table border=\"1\" class=\"dataframe\">\n",
       "  <thead>\n",
       "    <tr style=\"text-align: right;\">\n",
       "      <th></th>\n",
       "      <th>name</th>\n",
       "      <th>year</th>\n",
       "      <th>rating</th>\n",
       "      <th>director</th>\n",
       "      <th>votes</th>\n",
       "      <th>genre1</th>\n",
       "      <th>genre2</th>\n",
       "      <th>genre3</th>\n",
       "    </tr>\n",
       "  </thead>\n",
       "  <tbody>\n",
       "    <tr>\n",
       "      <th>43</th>\n",
       "      <td>Alien</td>\n",
       "      <td>1979</td>\n",
       "      <td>8.5</td>\n",
       "      <td>Ridley Scott</td>\n",
       "      <td>928296</td>\n",
       "      <td>Sci-Fi</td>\n",
       "      <td>Horror</td>\n",
       "      <td>NaN</td>\n",
       "    </tr>\n",
       "    <tr>\n",
       "      <th>52</th>\n",
       "      <td>Psycho</td>\n",
       "      <td>1960</td>\n",
       "      <td>8.5</td>\n",
       "      <td>Alfred Hitchcock</td>\n",
       "      <td>705122</td>\n",
       "      <td>Thriller</td>\n",
       "      <td>Mystery</td>\n",
       "      <td>Horror</td>\n",
       "    </tr>\n",
       "    <tr>\n",
       "      <th>66</th>\n",
       "      <td>The Shining</td>\n",
       "      <td>1980</td>\n",
       "      <td>8.4</td>\n",
       "      <td>Stanley Kubrick</td>\n",
       "      <td>1082477</td>\n",
       "      <td>Horror</td>\n",
       "      <td>Drama</td>\n",
       "      <td>NaN</td>\n",
       "    </tr>\n",
       "    <tr>\n",
       "      <th>147</th>\n",
       "      <td>The Thing</td>\n",
       "      <td>1982</td>\n",
       "      <td>8.2</td>\n",
       "      <td>John Carpenter</td>\n",
       "      <td>454405</td>\n",
       "      <td>Sci-Fi</td>\n",
       "      <td>Mystery</td>\n",
       "      <td>Horror</td>\n",
       "    </tr>\n",
       "    <tr>\n",
       "      <th>181</th>\n",
       "      <td>Tumbbad</td>\n",
       "      <td>2018</td>\n",
       "      <td>8.2</td>\n",
       "      <td>Rahi Anil Barve</td>\n",
       "      <td>56402</td>\n",
       "      <td>Horror</td>\n",
       "      <td>Fantasy</td>\n",
       "      <td>Drama</td>\n",
       "    </tr>\n",
       "  </tbody>\n",
       "</table>\n",
       "</div>"
      ],
      "text/plain": [
       "            name  year  rating          director    votes    genre1   genre2  \\\n",
       "43         Alien  1979     8.5      Ridley Scott   928296    Sci-Fi   Horror   \n",
       "52        Psycho  1960     8.5  Alfred Hitchcock   705122  Thriller  Mystery   \n",
       "66   The Shining  1980     8.4   Stanley Kubrick  1082477    Horror    Drama   \n",
       "147    The Thing  1982     8.2    John Carpenter   454405    Sci-Fi  Mystery   \n",
       "181      Tumbbad  2018     8.2   Rahi Anil Barve    56402    Horror  Fantasy   \n",
       "\n",
       "     genre3  \n",
       "43      NaN  \n",
       "52   Horror  \n",
       "66      NaN  \n",
       "147  Horror  \n",
       "181   Drama  "
      ]
     },
     "execution_count": 83,
     "metadata": {},
     "output_type": "execute_result"
    }
   ],
   "source": [
    "# Find out about the Horror movies in the top 500 movies\n",
    "genreFilter(df_top_500_genre,'Horror').head()"
   ]
  },
  {
   "cell_type": "code",
   "execution_count": 84,
   "metadata": {},
   "outputs": [],
   "source": [
    "Rate={}\n",
    "Vote={}\n",
    "\n",
    "for x in genre_all:\n",
    "    Rate[x] = genreFilter(df_top_500_genre,x)['rating'].mean()\n",
    "    Vote[x] = genreFilter(df_top_500_genre,x)['votes'].mean()\n",
    "\n",
    "Rate_df = pd.DataFrame.from_dict(Rate,orient='index',columns=['Rate']).transpose()\n",
    "Vote_df = pd.DataFrame.from_dict(Vote,orient='index',columns=['Votes']).transpose()"
   ]
  },
  {
   "cell_type": "code",
   "execution_count": 85,
   "metadata": {},
   "outputs": [],
   "source": [
    "Rate_df2 = Rate_df.transpose().reset_index()\n",
    "Vote_df2 = Vote_df.transpose().reset_index()"
   ]
  },
  {
   "cell_type": "code",
   "execution_count": 86,
   "metadata": {},
   "outputs": [
    {
     "data": {
      "text/html": [
       "<div>\n",
       "<style scoped>\n",
       "    .dataframe tbody tr th:only-of-type {\n",
       "        vertical-align: middle;\n",
       "    }\n",
       "\n",
       "    .dataframe tbody tr th {\n",
       "        vertical-align: top;\n",
       "    }\n",
       "\n",
       "    .dataframe thead th {\n",
       "        text-align: right;\n",
       "    }\n",
       "</style>\n",
       "<table border=\"1\" class=\"dataframe\">\n",
       "  <thead>\n",
       "    <tr style=\"text-align: right;\">\n",
       "      <th></th>\n",
       "      <th>index</th>\n",
       "      <th>Rate</th>\n",
       "      <th>Votes</th>\n",
       "    </tr>\n",
       "  </thead>\n",
       "  <tbody>\n",
       "    <tr>\n",
       "      <th>0</th>\n",
       "      <td>Drama</td>\n",
       "      <td>8.354190</td>\n",
       "      <td>6.099535e+05</td>\n",
       "    </tr>\n",
       "    <tr>\n",
       "      <th>1</th>\n",
       "      <td>History</td>\n",
       "      <td>8.320000</td>\n",
       "      <td>5.158857e+05</td>\n",
       "    </tr>\n",
       "    <tr>\n",
       "      <th>2</th>\n",
       "      <td>Sci-Fi</td>\n",
       "      <td>8.365000</td>\n",
       "      <td>1.111940e+06</td>\n",
       "    </tr>\n",
       "    <tr>\n",
       "      <th>3</th>\n",
       "      <td>Romance</td>\n",
       "      <td>8.331818</td>\n",
       "      <td>4.347849e+05</td>\n",
       "    </tr>\n",
       "    <tr>\n",
       "      <th>4</th>\n",
       "      <td>Western</td>\n",
       "      <td>8.400000</td>\n",
       "      <td>6.031320e+05</td>\n",
       "    </tr>\n",
       "    <tr>\n",
       "      <th>5</th>\n",
       "      <td>Mystery</td>\n",
       "      <td>8.326471</td>\n",
       "      <td>5.279951e+05</td>\n",
       "    </tr>\n",
       "    <tr>\n",
       "      <th>6</th>\n",
       "      <td>Adventure</td>\n",
       "      <td>8.349091</td>\n",
       "      <td>8.707604e+05</td>\n",
       "    </tr>\n",
       "    <tr>\n",
       "      <th>7</th>\n",
       "      <td>Fantasy</td>\n",
       "      <td>8.330769</td>\n",
       "      <td>8.247693e+05</td>\n",
       "    </tr>\n",
       "    <tr>\n",
       "      <th>8</th>\n",
       "      <td>Thriller</td>\n",
       "      <td>8.293939</td>\n",
       "      <td>6.452010e+05</td>\n",
       "    </tr>\n",
       "    <tr>\n",
       "      <th>9</th>\n",
       "      <td>War</td>\n",
       "      <td>8.314286</td>\n",
       "      <td>4.595856e+05</td>\n",
       "    </tr>\n",
       "    <tr>\n",
       "      <th>10</th>\n",
       "      <td>Family</td>\n",
       "      <td>8.272727</td>\n",
       "      <td>4.553481e+05</td>\n",
       "    </tr>\n",
       "    <tr>\n",
       "      <th>11</th>\n",
       "      <td>Music</td>\n",
       "      <td>8.400000</td>\n",
       "      <td>6.333182e+05</td>\n",
       "    </tr>\n",
       "    <tr>\n",
       "      <th>12</th>\n",
       "      <td>Horror</td>\n",
       "      <td>8.316667</td>\n",
       "      <td>6.119652e+05</td>\n",
       "    </tr>\n",
       "    <tr>\n",
       "      <th>13</th>\n",
       "      <td>Film-Noir</td>\n",
       "      <td>8.350000</td>\n",
       "      <td>1.983195e+05</td>\n",
       "    </tr>\n",
       "    <tr>\n",
       "      <th>14</th>\n",
       "      <td>Comedy</td>\n",
       "      <td>8.269231</td>\n",
       "      <td>5.673815e+05</td>\n",
       "    </tr>\n",
       "    <tr>\n",
       "      <th>15</th>\n",
       "      <td>Crime</td>\n",
       "      <td>8.359016</td>\n",
       "      <td>7.046845e+05</td>\n",
       "    </tr>\n",
       "    <tr>\n",
       "      <th>16</th>\n",
       "      <td>Sport</td>\n",
       "      <td>8.140000</td>\n",
       "      <td>3.256104e+05</td>\n",
       "    </tr>\n",
       "    <tr>\n",
       "      <th>17</th>\n",
       "      <td>Musical</td>\n",
       "      <td>8.233333</td>\n",
       "      <td>1.450537e+05</td>\n",
       "    </tr>\n",
       "    <tr>\n",
       "      <th>18</th>\n",
       "      <td>nan</td>\n",
       "      <td>NaN</td>\n",
       "      <td>NaN</td>\n",
       "    </tr>\n",
       "    <tr>\n",
       "      <th>19</th>\n",
       "      <td>Action</td>\n",
       "      <td>8.352308</td>\n",
       "      <td>7.439058e+05</td>\n",
       "    </tr>\n",
       "    <tr>\n",
       "      <th>20</th>\n",
       "      <td>Biography</td>\n",
       "      <td>8.290323</td>\n",
       "      <td>5.234453e+05</td>\n",
       "    </tr>\n",
       "    <tr>\n",
       "      <th>21</th>\n",
       "      <td>Animation</td>\n",
       "      <td>8.315000</td>\n",
       "      <td>6.864483e+05</td>\n",
       "    </tr>\n",
       "  </tbody>\n",
       "</table>\n",
       "</div>"
      ],
      "text/plain": [
       "        index      Rate         Votes\n",
       "0       Drama  8.354190  6.099535e+05\n",
       "1     History  8.320000  5.158857e+05\n",
       "2      Sci-Fi  8.365000  1.111940e+06\n",
       "3     Romance  8.331818  4.347849e+05\n",
       "4     Western  8.400000  6.031320e+05\n",
       "5     Mystery  8.326471  5.279951e+05\n",
       "6   Adventure  8.349091  8.707604e+05\n",
       "7     Fantasy  8.330769  8.247693e+05\n",
       "8    Thriller  8.293939  6.452010e+05\n",
       "9         War  8.314286  4.595856e+05\n",
       "10     Family  8.272727  4.553481e+05\n",
       "11      Music  8.400000  6.333182e+05\n",
       "12     Horror  8.316667  6.119652e+05\n",
       "13  Film-Noir  8.350000  1.983195e+05\n",
       "14     Comedy  8.269231  5.673815e+05\n",
       "15      Crime  8.359016  7.046845e+05\n",
       "16      Sport  8.140000  3.256104e+05\n",
       "17    Musical  8.233333  1.450537e+05\n",
       "18        nan       NaN           NaN\n",
       "19     Action  8.352308  7.439058e+05\n",
       "20  Biography  8.290323  5.234453e+05\n",
       "21  Animation  8.315000  6.864483e+05"
      ]
     },
     "execution_count": 86,
     "metadata": {},
     "output_type": "execute_result"
    }
   ],
   "source": [
    "df_statistics = Rate_df2.merge(Vote_df2, left_on='index', right_on='index')\n",
    "df_statistics"
   ]
  },
  {
   "cell_type": "code",
   "execution_count": 88,
   "metadata": {},
   "outputs": [],
   "source": [
    "# Saves Votes data grouped by genre\n",
    "df_statistics.to_csv('df_statistics.csv')"
   ]
  },
  {
   "cell_type": "markdown",
   "metadata": {
    "id": "K5RgvMGUZoHn"
   },
   "source": [
    "### Question1:What percentage of horror films are in the top 500 movies? What is the number of entries for a horror movie?"
   ]
  },
  {
   "cell_type": "code",
   "execution_count": 89,
   "metadata": {},
   "outputs": [
    {
     "data": {
      "text/plain": [
       "2.4"
      ]
     },
     "execution_count": 89,
     "metadata": {},
     "output_type": "execute_result"
    }
   ],
   "source": [
    "# TThe percentage of Horror movies Top 500\n",
    "per_horror = genreFilter(df_top_500_genre,'Horror').shape[0]/df_top_500_genre.shape[0]*100\n",
    "per_horror"
   ]
  },
  {
   "cell_type": "code",
   "execution_count": 90,
   "metadata": {},
   "outputs": [
    {
     "data": {
      "image/png": "[encoded data removed]",
      "text/plain": [
       "<Figure size 1600x600 with 1 Axes>"
      ]
     },
     "metadata": {},
     "output_type": "display_data"
    }
   ],
   "source": [
    "plt.figure(figsize=(16,6))\n",
    "ax = sns.barplot(df_statistics.sort_values('Votes',ascending=False),x='Votes',y='index', orient='h', color='blue')\n",
    "ax.set_title('The Votes of Movie Genre in Top 500 Movies')\n",
    "ax.set_xlabel('Votes(million)');"
   ]
  },
  {
   "cell_type": "markdown",
   "metadata": {},
   "source": [
    "### Answer1:\n",
    "- percentage of horror films are in the top 500 movies is **2.4%**\n",
    "- Total 500 Votes is **12199487** , the votes of horror is **611965** , the votes percentage of horror is **0.05%**."
   ]
  },
  {
   "cell_type": "markdown",
   "metadata": {},
   "source": [
    "### Question2:Which director has the most votes? Did he make horror movies that made it to the top 500?"
   ]
  },
  {
   "cell_type": "code",
   "execution_count": 93,
   "metadata": {},
   "outputs": [
    {
     "data": {
      "text/html": [
       "<div>\n",
       "<style scoped>\n",
       "    .dataframe tbody tr th:only-of-type {\n",
       "        vertical-align: middle;\n",
       "    }\n",
       "\n",
       "    .dataframe tbody tr th {\n",
       "        vertical-align: top;\n",
       "    }\n",
       "\n",
       "    .dataframe thead th {\n",
       "        text-align: right;\n",
       "    }\n",
       "</style>\n",
       "<table border=\"1\" class=\"dataframe\">\n",
       "  <thead>\n",
       "    <tr style=\"text-align: right;\">\n",
       "      <th></th>\n",
       "      <th>name</th>\n",
       "      <th>year</th>\n",
       "      <th>rating</th>\n",
       "      <th>director</th>\n",
       "      <th>votes</th>\n",
       "      <th>genre1</th>\n",
       "      <th>genre2</th>\n",
       "      <th>genre3</th>\n",
       "    </tr>\n",
       "  </thead>\n",
       "  <tbody>\n",
       "    <tr>\n",
       "      <th>43</th>\n",
       "      <td>Alien</td>\n",
       "      <td>1979</td>\n",
       "      <td>8.5</td>\n",
       "      <td>Ridley Scott</td>\n",
       "      <td>928296</td>\n",
       "      <td>Sci-Fi</td>\n",
       "      <td>Horror</td>\n",
       "      <td>NaN</td>\n",
       "    </tr>\n",
       "    <tr>\n",
       "      <th>52</th>\n",
       "      <td>Psycho</td>\n",
       "      <td>1960</td>\n",
       "      <td>8.5</td>\n",
       "      <td>Alfred Hitchcock</td>\n",
       "      <td>705122</td>\n",
       "      <td>Thriller</td>\n",
       "      <td>Mystery</td>\n",
       "      <td>Horror</td>\n",
       "    </tr>\n",
       "    <tr>\n",
       "      <th>66</th>\n",
       "      <td>The Shining</td>\n",
       "      <td>1980</td>\n",
       "      <td>8.4</td>\n",
       "      <td>Stanley Kubrick</td>\n",
       "      <td>1082477</td>\n",
       "      <td>Horror</td>\n",
       "      <td>Drama</td>\n",
       "      <td>NaN</td>\n",
       "    </tr>\n",
       "    <tr>\n",
       "      <th>147</th>\n",
       "      <td>The Thing</td>\n",
       "      <td>1982</td>\n",
       "      <td>8.2</td>\n",
       "      <td>John Carpenter</td>\n",
       "      <td>454405</td>\n",
       "      <td>Sci-Fi</td>\n",
       "      <td>Mystery</td>\n",
       "      <td>Horror</td>\n",
       "    </tr>\n",
       "    <tr>\n",
       "      <th>181</th>\n",
       "      <td>Tumbbad</td>\n",
       "      <td>2018</td>\n",
       "      <td>8.2</td>\n",
       "      <td>Rahi Anil Barve</td>\n",
       "      <td>56402</td>\n",
       "      <td>Horror</td>\n",
       "      <td>Fantasy</td>\n",
       "      <td>Drama</td>\n",
       "    </tr>\n",
       "  </tbody>\n",
       "</table>\n",
       "</div>"
      ],
      "text/plain": [
       "            name  year  rating          director    votes    genre1   genre2  \\\n",
       "43         Alien  1979     8.5      Ridley Scott   928296    Sci-Fi   Horror   \n",
       "52        Psycho  1960     8.5  Alfred Hitchcock   705122  Thriller  Mystery   \n",
       "66   The Shining  1980     8.4   Stanley Kubrick  1082477    Horror    Drama   \n",
       "147    The Thing  1982     8.2    John Carpenter   454405    Sci-Fi  Mystery   \n",
       "181      Tumbbad  2018     8.2   Rahi Anil Barve    56402    Horror  Fantasy   \n",
       "\n",
       "     genre3  \n",
       "43      NaN  \n",
       "52   Horror  \n",
       "66      NaN  \n",
       "147  Horror  \n",
       "181   Drama  "
      ]
     },
     "execution_count": 93,
     "metadata": {},
     "output_type": "execute_result"
    }
   ],
   "source": [
    "# Check out the top 500 Horror movies\n",
    "df_director_Horror = genreFilter(df_top_500_genre,'Horror')\n",
    "df_director_Horror.head()"
   ]
  },
  {
   "cell_type": "code",
   "execution_count": 94,
   "metadata": {},
   "outputs": [
    {
     "data": {
      "text/plain": [
       "director\n",
       "Stanley Kubrick     1082477\n",
       "Ridley Scott         928296\n",
       "Alfred Hitchcock     705122\n",
       "John Carpenter       454405\n",
       "William Friedkin     445089\n",
       "Rahi Anil Barve       56402\n",
       "Name: votes, dtype: int64"
      ]
     },
     "execution_count": 94,
     "metadata": {},
     "output_type": "execute_result"
    }
   ],
   "source": [
    "# votes are counted according to director aggregation from director_votes_Horror\n",
    "director_votes_Horror = genreFilter(df_top_500_genre,'Horror').groupby('director')['votes'].sum().sort_values(ascending=False)\n",
    "director_votes_Horror"
   ]
  },
  {
   "cell_type": "code",
   "execution_count": 95,
   "metadata": {},
   "outputs": [
    {
     "data": {
      "text/plain": [
       "director\n",
       "Christopher Nolan    13866767\n",
       "Quentin Tarantino     7590820\n",
       "Steven Spielberg      7447076\n",
       "Martin Scorsese       7378351\n",
       "Peter Jackson         5636153\n",
       "                       ...   \n",
       "Satyajit Ray            36900\n",
       "C. Prem Kumar           34997\n",
       "Vetrimaaran             32501\n",
       "Costa-Gavras            30730\n",
       "Sukumar                 26959\n",
       "Name: votes, Length: 163, dtype: int64"
      ]
     },
     "execution_count": 95,
     "metadata": {},
     "output_type": "execute_result"
    }
   ],
   "source": [
    "# votes are counted according to director aggregation from director_votes\n",
    "director_votes = df_top_500_genre.groupby('director')['votes'].sum().sort_values(ascending=False)\n",
    "director_votes"
   ]
  },
  {
   "cell_type": "markdown",
   "metadata": {},
   "source": [
    "-  **Christopher Nolan** is the director has the most votes in top 500 movies.**Stanley Kubrick** is the director has the most votes in top 500 Horror movies."
   ]
  },
  {
   "cell_type": "code",
   "execution_count": 96,
   "metadata": {},
   "outputs": [
    {
     "data": {
      "text/html": [
       "<div>\n",
       "<style scoped>\n",
       "    .dataframe tbody tr th:only-of-type {\n",
       "        vertical-align: middle;\n",
       "    }\n",
       "\n",
       "    .dataframe tbody tr th {\n",
       "        vertical-align: top;\n",
       "    }\n",
       "\n",
       "    .dataframe thead th {\n",
       "        text-align: right;\n",
       "    }\n",
       "</style>\n",
       "<table border=\"1\" class=\"dataframe\">\n",
       "  <thead>\n",
       "    <tr style=\"text-align: right;\">\n",
       "      <th></th>\n",
       "      <th>name</th>\n",
       "      <th>year</th>\n",
       "      <th>rating</th>\n",
       "      <th>director</th>\n",
       "      <th>votes</th>\n",
       "      <th>genre1</th>\n",
       "      <th>genre2</th>\n",
       "      <th>genre3</th>\n",
       "    </tr>\n",
       "  </thead>\n",
       "  <tbody>\n",
       "  </tbody>\n",
       "</table>\n",
       "</div>"
      ],
      "text/plain": [
       "Empty DataFrame\n",
       "Columns: [name, year, rating, director, votes, genre1, genre2, genre3]\n",
       "Index: []"
      ]
     },
     "execution_count": 96,
     "metadata": {},
     "output_type": "execute_result"
    }
   ],
   "source": [
    "df_director_Horror[df_director_Horror.director=='Christopher Nolan']"
   ]
  },
  {
   "cell_type": "code",
   "execution_count": 97,
   "metadata": {},
   "outputs": [
    {
     "data": {
      "text/html": [
       "<div>\n",
       "<style scoped>\n",
       "    .dataframe tbody tr th:only-of-type {\n",
       "        vertical-align: middle;\n",
       "    }\n",
       "\n",
       "    .dataframe tbody tr th {\n",
       "        vertical-align: top;\n",
       "    }\n",
       "\n",
       "    .dataframe thead th {\n",
       "        text-align: right;\n",
       "    }\n",
       "</style>\n",
       "<table border=\"1\" class=\"dataframe\">\n",
       "  <thead>\n",
       "    <tr style=\"text-align: right;\">\n",
       "      <th></th>\n",
       "      <th>name</th>\n",
       "      <th>year</th>\n",
       "      <th>rating</th>\n",
       "      <th>director</th>\n",
       "      <th>votes</th>\n",
       "      <th>genre1</th>\n",
       "      <th>genre2</th>\n",
       "      <th>genre3</th>\n",
       "    </tr>\n",
       "  </thead>\n",
       "  <tbody>\n",
       "    <tr>\n",
       "      <th>66</th>\n",
       "      <td>The Shining</td>\n",
       "      <td>1980</td>\n",
       "      <td>8.4</td>\n",
       "      <td>Stanley Kubrick</td>\n",
       "      <td>1082477</td>\n",
       "      <td>Horror</td>\n",
       "      <td>Drama</td>\n",
       "      <td>NaN</td>\n",
       "    </tr>\n",
       "  </tbody>\n",
       "</table>\n",
       "</div>"
      ],
      "text/plain": [
       "           name  year  rating         director    votes  genre1 genre2 genre3\n",
       "66  The Shining  1980     8.4  Stanley Kubrick  1082477  Horror  Drama    NaN"
      ]
     },
     "execution_count": 97,
     "metadata": {},
     "output_type": "execute_result"
    }
   ],
   "source": [
    "df_director_Horror[df_director_Horror.director=='Stanley Kubrick']"
   ]
  },
  {
   "cell_type": "markdown",
   "metadata": {},
   "source": [
    "### Answer2:\n",
    "- **Christopher Nolan** is the director has the most votes in top 500 movies, but he didn't make a horror movie and made it to the top 500. **Stanley Kubrick** is the director has the most votes in top 500 Horror movies and he has made horror movies that are in the top 500."
   ]
  },
  {
   "cell_type": "markdown",
   "metadata": {},
   "source": [
    "### Question3： What is the year-over-year trend in the number of horror movies in the top 500 films?"
   ]
  },
  {
   "cell_type": "code",
   "execution_count": 98,
   "metadata": {},
   "outputs": [
    {
     "data": {
      "image/png": "[encoded data removed]",
      "text/plain": [
       "<Figure size 800x400 with 1 Axes>"
      ]
     },
     "metadata": {},
     "output_type": "display_data"
    }
   ],
   "source": [
    "plt.figure(figsize=(8,4))\n",
    "ax = sns.barplot(df_director_Horror.groupby('year').sum().reset_index(), x='year',y='votes',orient='v', color='blue')\n",
    "ax.set_title('The votes of Horror Movie in Top 500 Movies')\n",
    "ax.set_xlabel('Year');\n",
    "ax.set_ylabel('Votes(million)');"
   ]
  },
  {
   "cell_type": "markdown",
   "metadata": {},
   "source": [
    "### Answer3: \n",
    "- Among the top 500 movies over the years, the number of votes for horror films is mostly below **1 million**. The only exception was in **1980**, when **Stanley Kubrick's** film The Shining reached **1082477** votes."
   ]
  },
  {
   "cell_type": "markdown",
   "metadata": {
    "id": "0ezWXXZVj-TP"
   },
   "source": [
    "### **5.2:** Reflection\n",
    "In 2-4 sentences, if you had more time to complete the project, what actions would you take? For example, which data quality and structural issues would you look into further, and what research questions would you further explore?"
   ]
  },
  {
   "cell_type": "markdown",
   "metadata": {
    "id": "XB3RBDG5kFe1"
   },
   "source": [
    "*Answer:* FILL IN\n",
    "- I will make a statistical chart of the relationship between the gender, age and genre of movie of the viewer, so that film investors can have a reference to shoot excellent movies"
   ]
  },
  {
   "cell_type": "code",
   "execution_count": 99,
   "metadata": {},
   "outputs": [
    {
     "name": "stdout",
     "output_type": "stream",
     "text": [
      "[NbConvertApp] Converting notebook Data_Wrangling_Project_Starter.ipynb to html\n",
      "[NbConvertApp] Writing 916771 bytes to Data_Wrangling_Project_Starter.html\n"
     ]
    }
   ],
   "source": [
    "!python -m nbconvert --to html Data_Wrangling_Project_Starter.ipynb"
   ]
  },
  {
   "cell_type": "code",
   "execution_count": null,
   "metadata": {},
   "outputs": [],
   "source": []
  }
 ],
 "metadata": {
  "colab": {
   "provenance": []
  },
  "kernelspec": {
   "display_name": "Python 3 (ipykernel)",
   "language": "python",
   "name": "python3"
  },
  "language_info": {
   "codemirror_mode": {
    "name": "ipython",
    "version": 3
   },
   "file_extension": ".py",
   "mimetype": "text/x-python",
   "name": "python",
   "nbconvert_exporter": "python",
   "pygments_lexer": "ipython3",
   "version": "3.10.10"
  }
 },
 "nbformat": 4,
 "nbformat_minor": 1
}
